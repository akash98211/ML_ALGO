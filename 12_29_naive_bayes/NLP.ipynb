{
 "cells": [
  {
   "cell_type": "markdown",
   "id": "mental-causing",
   "metadata": {},
   "source": [
    "# NLP"
   ]
  },
  {
   "cell_type": "code",
   "execution_count": null,
   "id": "wrong-anchor",
   "metadata": {},
   "outputs": [],
   "source": [
    "Text Classification\n",
    "\n",
    "Document Classification:\n",
    "    1. Aadhar\n",
    "    2. PAN\n",
    "    3. DL\n",
    "    4. Voter ID\n",
    "    5. Passport\n",
    "    \n",
    "tabula-py, camelot >> used to extract tabular data >> dataframe\n",
    "\n",
    "PDF:\n",
    "    Readable PDF  >> pdftotext, tabula-py, camelot \n",
    "    Non-Redabale(scanned images)\n",
    "    1. PDF to Image >> pdf2image \n",
    "    2. Image to text using OCR\n",
    "    \n",
    "OCR: (image to text)\n",
    "    1. pytesseract (open source)\n",
    "    2. google vision (1$ >> 1000 images) API \n",
    "    3. Amazon Textract\n",
    "    We can get coordinates of all words\n",
    "    \n",
    "Text:\n",
    "    Text Preprocessing :\n",
    "        Cleanining(regex)\n",
    "        Lower case\n",
    "        Removal of stopwords\n",
    "        stemming\n",
    "        Lammantization\n",
    "        \n",
    "Text to Numerical:\n",
    "    1. Bag of Words\n",
    "    2. TF-IDF Vectorizer\n",
    "          \n",
    "Numerical data:\n",
    "    Model training\n",
    "    \n",
    "Evaluation:\n",
    "    classification report\n",
    "    confusion matrix\n",
    "\n",
    "play\n",
    "plays\n",
    "played\n",
    "playing\n",
    "\n",
    "accept  >> accept\n",
    "acceptable >> accept\n",
    "acceptance >> accept\n",
    "accepted >> accept"
   ]
  },
  {
   "cell_type": "code",
   "execution_count": null,
   "id": "textile-vessel",
   "metadata": {},
   "outputs": [],
   "source": [
    "nltk "
   ]
  }
 ],
 "metadata": {
  "kernelspec": {
   "display_name": "Python 3",
   "language": "python",
   "name": "python3"
  },
  "language_info": {
   "codemirror_mode": {
    "name": "ipython",
    "version": 3
   },
   "file_extension": ".py",
   "mimetype": "text/x-python",
   "name": "python",
   "nbconvert_exporter": "python",
   "pygments_lexer": "ipython3",
   "version": "3.8.7"
  }
 },
 "nbformat": 4,
 "nbformat_minor": 5
}
