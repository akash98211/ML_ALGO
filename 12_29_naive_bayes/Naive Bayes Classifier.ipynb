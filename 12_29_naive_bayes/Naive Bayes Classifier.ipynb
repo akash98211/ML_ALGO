{
 "cells": [
  {
   "cell_type": "markdown",
   "metadata": {},
   "source": [
    "# Naive Bayes Classifier"
   ]
  },
  {
   "cell_type": "code",
   "execution_count": null,
   "metadata": {},
   "outputs": [],
   "source": [
    "Natural Language Processing"
   ]
  },
  {
   "cell_type": "code",
   "execution_count": null,
   "metadata": {},
   "outputs": [],
   "source": [
    "It uses bayes theorem\n",
    "\n",
    "Variants of Naive Bayes Algorithms:\n",
    "    1. Multinomial NB >> TF_IDF \n",
    "    2. Gassian NB  >> Continuous Data (If data follows Gaussian Distribution)\n",
    "    3. Bernouli NB >> Bag of Words\n",
    "    \n",
    "Text to Numerical \n",
    "Bag of Words (Count)\n",
    "TF-IDF (Actual importance of word)\n",
    "\n",
    "2000\n",
    "\n",
    "Perform well on high dimesional data"
   ]
  },
  {
   "cell_type": "code",
   "execution_count": null,
   "metadata": {},
   "outputs": [],
   "source": [
    "P(Y|X) = (P(X|Y) * P(Y))/ P(X)\n",
    "\n",
    "P(Y=1|{x1,x2,x3}) = (P(x1|Y)*P(x2|Y)*P(x3|Y) * P(Y=1))/ (P(x1) * P(x2) * P(x3))\n",
    "\n",
    "Posterior = (Likelyhood Prob * Prior Prob)/Evidence\n",
    "\n",
    "P(Y) >> Hypothesis (Assumption) >> Prior\n",
    "P(X) >> Evidence\n",
    "P(Y|X) >> Posterior Probability >> Prob of event after evidence(P(X)) is seen\n",
    "\n",
    "Hypothesis>> Proposed explaination made on the basis of limited evidence"
   ]
  },
  {
   "cell_type": "code",
   "execution_count": null,
   "metadata": {},
   "outputs": [],
   "source": [
    "P(Play = Yes | (Outlook == rainy, temperature == hot, humidity== normal))\n",
    "0 to 1"
   ]
  },
  {
   "cell_type": "code",
   "execution_count": null,
   "metadata": {},
   "outputs": [],
   "source": [
    "P(Yes | (rainy,hot,normal)) = ?\n",
    "Prob of Yes for given conditions(rainy,hot,normal)"
   ]
  },
  {
   "cell_type": "code",
   "execution_count": null,
   "metadata": {},
   "outputs": [],
   "source": [
    "1. Outlook\n",
    "           Yes  No   P(x1|Yes) P(x1|No)\n",
    "overcast : 4Y & 0N     4/9     0/5\n",
    "rainy:     3Y & 2N     3/9     2/5\n",
    "Sunny:     2Y & 3N     2/9     3/5\n",
    "\n",
    "2. Temperature \n",
    "        Yes  No    P(x2|Yes) P(x2|No)\n",
    "hot :   2Y & 2N    2/9         2/5\n",
    "cool :  3Y & 1N    3/9         1/5\n",
    "mild:   4Y & 2N    4/9         2/5\n",
    "\n",
    "    \n",
    "3. humidity:\n",
    "        Yes  No   P(x3|Yes)   P(x3|No)\n",
    "high:   3Y & 4N    3/9         4/5\n",
    "normal: 6Y & 1N    6/9         1/5\n",
    "\n",
    "P(Y) = 9/14\n",
    "P(N) = 5/14"
   ]
  },
  {
   "cell_type": "code",
   "execution_count": null,
   "metadata": {},
   "outputs": [],
   "source": [
    "P(Y=1|{x1,x2,x3}) = (P(x1|Y)*P(x2|Y)*P(x3|Y) * P(Y=1))/ (P(x1) * P(x2) * P(x3))\n",
    "\n",
    "\n",
    "P(Play = Yes | (Outlook == rainy, temperature == hot, humidity== normal)) = \n",
    "(P(rainy | Yes)  * P(hot | Yes) * P(normal | Yes) * P(Yes)) / P(rainy) * P(hot) * P(normal)\n",
    "\n",
    "(P(rainy | Yes)  * P(hot | Yes) * P(normal | Yes) * P(Yes)) / P(rainy) * P(hot) * P(normal)\n",
    "\n",
    "P(Yes) = ((3/9)  * (2/9) * (6/9) * 9/14)\n",
    "\n",
    "P(No)  = (P(rainy | No)  * P(hot | No) * P(normal | No) * P(No)) / P(rainy) * P(hot) * P(normal)\n",
    "P(No) = ((2/5) * (2/5) * (1/5) * (5/14))\n",
    "\n",
    "Predicted Result >> Yes"
   ]
  },
  {
   "cell_type": "code",
   "execution_count": 1,
   "metadata": {},
   "outputs": [
    {
     "data": {
      "text/plain": [
       "0.031746031746031744"
      ]
     },
     "execution_count": 1,
     "metadata": {},
     "output_type": "execute_result"
    }
   ],
   "source": [
    "((3/9)  * (2/9) * (6/9) *( 9/14))"
   ]
  },
  {
   "cell_type": "code",
   "execution_count": 3,
   "metadata": {},
   "outputs": [
    {
     "data": {
      "text/plain": [
       "0.011428571428571432"
      ]
     },
     "execution_count": 3,
     "metadata": {},
     "output_type": "execute_result"
    }
   ],
   "source": [
    "((2/5) * (2/5) * (1/5) * (5/14))"
   ]
  },
  {
   "cell_type": "code",
   "execution_count": 5,
   "metadata": {},
   "outputs": [
    {
     "data": {
      "text/plain": [
       "0.7354988399071926"
      ]
     },
     "execution_count": 5,
     "metadata": {},
     "output_type": "execute_result"
    }
   ],
   "source": [
    "P_Y =0.0317 / (0.0317 + 0.0114)\n",
    "P_Y"
   ]
  },
  {
   "cell_type": "code",
   "execution_count": 7,
   "metadata": {},
   "outputs": [
    {
     "data": {
      "text/plain": [
       "0.26450116009280744"
      ]
     },
     "execution_count": 7,
     "metadata": {},
     "output_type": "execute_result"
    }
   ],
   "source": [
    "P_N = 0.0114 / (0.0317 + 0.0114)\n",
    "P_N"
   ]
  },
  {
   "cell_type": "code",
   "execution_count": 8,
   "metadata": {},
   "outputs": [
    {
     "data": {
      "text/plain": [
       "0.26450116009280744"
      ]
     },
     "execution_count": 8,
     "metadata": {},
     "output_type": "execute_result"
    }
   ],
   "source": [
    "1 - P_Y"
   ]
  },
  {
   "cell_type": "markdown",
   "metadata": {},
   "source": [
    "# Advantages"
   ]
  },
  {
   "cell_type": "code",
   "execution_count": null,
   "metadata": {},
   "outputs": [],
   "source": [
    "1. It can handle high dimensional data\n",
    "2. It will perform well on small dataset (row_count < column_count)\n",
    "3. No Hyperparameter tuning is required"
   ]
  },
  {
   "cell_type": "markdown",
   "metadata": {},
   "source": [
    "# Disadvantages"
   ]
  },
  {
   "cell_type": "raw",
   "metadata": {},
   "source": [
    "1. Assumption of independence\n",
    "2. For New test data values, model will assign 0 value if column name is not present in training data. Conditional Probability will be zero"
   ]
  },
  {
   "cell_type": "markdown",
   "metadata": {},
   "source": [
    "# Applications"
   ]
  },
  {
   "cell_type": "code",
   "execution_count": null,
   "metadata": {},
   "outputs": [],
   "source": [
    "1. Text Classification\n",
    "2. Spam Filter \n",
    "3. Sentiment Analysis\n",
    "4. Recommendation System"
   ]
  }
 ],
 "metadata": {
  "kernelspec": {
   "display_name": "Python 3",
   "language": "python",
   "name": "python3"
  },
  "language_info": {
   "codemirror_mode": {
    "name": "ipython",
    "version": 3
   },
   "file_extension": ".py",
   "mimetype": "text/x-python",
   "name": "python",
   "nbconvert_exporter": "python",
   "pygments_lexer": "ipython3",
   "version": "3.7.3"
  }
 },
 "nbformat": 4,
 "nbformat_minor": 5
}
