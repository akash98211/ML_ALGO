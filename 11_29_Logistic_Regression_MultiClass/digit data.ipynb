{
 "cells": [
  {
   "cell_type": "code",
   "execution_count": 43,
   "id": "finnish-square",
   "metadata": {},
   "outputs": [],
   "source": [
    "from sklearn.datasets import load_iris,load_diabetes,load_digits\n",
    "import pandas as pd\n",
    "import numpy as np\n",
    "\n",
    "\n",
    "from sklearn.linear_model import LogisticRegression\n",
    "from sklearn.model_selection import train_test_split\n",
    "\n",
    "from sklearn.metrics import confusion_matrix, multilabel_confusion_matrix,classification_report\n",
    "from sklearn.metrics import accuracy_score\n",
    "import seaborn as sns\n",
    "import matplotlib.pyplot as plt\n",
    "\n",
    "import warnings\n",
    "warnings.filterwarnings('ignore')"
   ]
  },
  {
   "cell_type": "code",
   "execution_count": 5,
   "id": "single-exception",
   "metadata": {},
   "outputs": [
    {
     "data": {
      "text/plain": [
       "['DESCR',\n",
       " 'data',\n",
       " 'feature_names',\n",
       " 'filename',\n",
       " 'frame',\n",
       " 'target',\n",
       " 'target_names']"
      ]
     },
     "execution_count": 5,
     "metadata": {},
     "output_type": "execute_result"
    }
   ],
   "source": [
    "iris = load_iris()\n",
    "dir(iris)"
   ]
  },
  {
   "cell_type": "code",
   "execution_count": 24,
   "id": "patient-driver",
   "metadata": {},
   "outputs": [
    {
     "data": {
      "text/plain": [
       "array(['setosa', 'versicolor', 'virginica'], dtype='<U10')"
      ]
     },
     "execution_count": 24,
     "metadata": {},
     "output_type": "execute_result"
    }
   ],
   "source": [
    "# print(iris.DESCR)\n",
    "array = iris.data\n",
    "iris.feature_names\n",
    "iris.target\n",
    "iris.target_names"
   ]
  },
  {
   "cell_type": "code",
   "execution_count": 50,
   "id": "italian-hardware",
   "metadata": {},
   "outputs": [
    {
     "name": "stdout",
     "output_type": "stream",
     "text": [
      ".. _diabetes_dataset:\n",
      "\n",
      "Diabetes dataset\n",
      "----------------\n",
      "\n",
      "Ten baseline variables, age, sex, body mass index, average blood\n",
      "pressure, and six blood serum measurements were obtained for each of n =\n",
      "442 diabetes patients, as well as the response of interest, a\n",
      "quantitative measure of disease progression one year after baseline.\n",
      "\n",
      "**Data Set Characteristics:**\n",
      "\n",
      "  :Number of Instances: 442\n",
      "\n",
      "  :Number of Attributes: First 10 columns are numeric predictive values\n",
      "\n",
      "  :Target: Column 11 is a quantitative measure of disease progression one year after baseline\n",
      "\n",
      "  :Attribute Information:\n",
      "      - age     age in years\n",
      "      - sex\n",
      "      - bmi     body mass index\n",
      "      - bp      average blood pressure\n",
      "      - s1      tc, T-Cells (a type of white blood cells)\n",
      "      - s2      ldl, low-density lipoproteins\n",
      "      - s3      hdl, high-density lipoproteins\n",
      "      - s4      tch, thyroid stimulating hormone\n",
      "      - s5      ltg, lamotrigine\n",
      "      - s6      glu, blood sugar level\n",
      "\n",
      "Note: Each of these 10 feature variables have been mean centered and scaled by the standard deviation times `n_samples` (i.e. the sum of squares of each column totals 1).\n",
      "\n",
      "Source URL:\n",
      "https://www4.stat.ncsu.edu/~boos/var.select/diabetes.html\n",
      "\n",
      "For more information see:\n",
      "Bradley Efron, Trevor Hastie, Iain Johnstone and Robert Tibshirani (2004) \"Least Angle Regression,\" Annals of Statistics (with discussion), 407-499.\n",
      "(https://web.stanford.edu/~hastie/Papers/LARS/LeastAngle_2002.pdf)\n"
     ]
    }
   ],
   "source": [
    "diabetes = load_diabetes()\n",
    "print(diabetes.DESCR)\n",
    "array = diabetes.data\n",
    "# diabetes.feature_names\n",
    "# diabetes.target\n",
    "# diabetes.target_names"
   ]
  },
  {
   "cell_type": "code",
   "execution_count": 27,
   "id": "respective-future",
   "metadata": {},
   "outputs": [],
   "source": [
    "df_iris = pd.DataFrame(array,columns=iris.feature_names)\n",
    "df_iris['Species'] = iris.target\n",
    "# df_iris"
   ]
  },
  {
   "cell_type": "code",
   "execution_count": 17,
   "id": "stretch-filling",
   "metadata": {},
   "outputs": [
    {
     "data": {
      "text/plain": [
       "['DESCR', 'data', 'feature_names', 'frame', 'images', 'target', 'target_names']"
      ]
     },
     "execution_count": 17,
     "metadata": {},
     "output_type": "execute_result"
    }
   ],
   "source": [
    "digits = load_digits()\n",
    "dir(digits)"
   ]
  },
  {
   "cell_type": "code",
   "execution_count": 28,
   "id": "israeli-camera",
   "metadata": {},
   "outputs": [
    {
     "data": {
      "text/plain": [
       "array([0, 1, 2, 3, 4, 5, 6, 7, 8, 9])"
      ]
     },
     "execution_count": 28,
     "metadata": {},
     "output_type": "execute_result"
    }
   ],
   "source": [
    "# print(digits.DESCR)\n",
    "digit_data = digits.data\n",
    "digits.feature_names\n",
    "digits.target\n",
    "digits.target_names"
   ]
  },
  {
   "cell_type": "code",
   "execution_count": 35,
   "id": "signed-sheet",
   "metadata": {},
   "outputs": [
    {
     "data": {
      "text/html": [
       "<div>\n",
       "<style scoped>\n",
       "    .dataframe tbody tr th:only-of-type {\n",
       "        vertical-align: middle;\n",
       "    }\n",
       "\n",
       "    .dataframe tbody tr th {\n",
       "        vertical-align: top;\n",
       "    }\n",
       "\n",
       "    .dataframe thead th {\n",
       "        text-align: right;\n",
       "    }\n",
       "</style>\n",
       "<table border=\"1\" class=\"dataframe\">\n",
       "  <thead>\n",
       "    <tr style=\"text-align: right;\">\n",
       "      <th></th>\n",
       "      <th>pixel_0_0</th>\n",
       "      <th>pixel_0_1</th>\n",
       "      <th>pixel_0_2</th>\n",
       "      <th>pixel_0_3</th>\n",
       "      <th>pixel_0_4</th>\n",
       "      <th>pixel_0_5</th>\n",
       "      <th>pixel_0_6</th>\n",
       "      <th>pixel_0_7</th>\n",
       "      <th>pixel_1_0</th>\n",
       "      <th>pixel_1_1</th>\n",
       "      <th>...</th>\n",
       "      <th>pixel_6_7</th>\n",
       "      <th>pixel_7_0</th>\n",
       "      <th>pixel_7_1</th>\n",
       "      <th>pixel_7_2</th>\n",
       "      <th>pixel_7_3</th>\n",
       "      <th>pixel_7_4</th>\n",
       "      <th>pixel_7_5</th>\n",
       "      <th>pixel_7_6</th>\n",
       "      <th>pixel_7_7</th>\n",
       "      <th>Target</th>\n",
       "    </tr>\n",
       "  </thead>\n",
       "  <tbody>\n",
       "    <tr>\n",
       "      <th>0</th>\n",
       "      <td>0.0</td>\n",
       "      <td>0.0</td>\n",
       "      <td>5.0</td>\n",
       "      <td>13.0</td>\n",
       "      <td>9.0</td>\n",
       "      <td>1.0</td>\n",
       "      <td>0.0</td>\n",
       "      <td>0.0</td>\n",
       "      <td>0.0</td>\n",
       "      <td>0.0</td>\n",
       "      <td>...</td>\n",
       "      <td>0.0</td>\n",
       "      <td>0.0</td>\n",
       "      <td>0.0</td>\n",
       "      <td>6.0</td>\n",
       "      <td>13.0</td>\n",
       "      <td>10.0</td>\n",
       "      <td>0.0</td>\n",
       "      <td>0.0</td>\n",
       "      <td>0.0</td>\n",
       "      <td>0</td>\n",
       "    </tr>\n",
       "    <tr>\n",
       "      <th>1</th>\n",
       "      <td>0.0</td>\n",
       "      <td>0.0</td>\n",
       "      <td>0.0</td>\n",
       "      <td>12.0</td>\n",
       "      <td>13.0</td>\n",
       "      <td>5.0</td>\n",
       "      <td>0.0</td>\n",
       "      <td>0.0</td>\n",
       "      <td>0.0</td>\n",
       "      <td>0.0</td>\n",
       "      <td>...</td>\n",
       "      <td>0.0</td>\n",
       "      <td>0.0</td>\n",
       "      <td>0.0</td>\n",
       "      <td>0.0</td>\n",
       "      <td>11.0</td>\n",
       "      <td>16.0</td>\n",
       "      <td>10.0</td>\n",
       "      <td>0.0</td>\n",
       "      <td>0.0</td>\n",
       "      <td>1</td>\n",
       "    </tr>\n",
       "  </tbody>\n",
       "</table>\n",
       "<p>2 rows × 65 columns</p>\n",
       "</div>"
      ],
      "text/plain": [
       "   pixel_0_0  pixel_0_1  pixel_0_2  pixel_0_3  pixel_0_4  pixel_0_5  \\\n",
       "0        0.0        0.0        5.0       13.0        9.0        1.0   \n",
       "1        0.0        0.0        0.0       12.0       13.0        5.0   \n",
       "\n",
       "   pixel_0_6  pixel_0_7  pixel_1_0  pixel_1_1  ...  pixel_6_7  pixel_7_0  \\\n",
       "0        0.0        0.0        0.0        0.0  ...        0.0        0.0   \n",
       "1        0.0        0.0        0.0        0.0  ...        0.0        0.0   \n",
       "\n",
       "   pixel_7_1  pixel_7_2  pixel_7_3  pixel_7_4  pixel_7_5  pixel_7_6  \\\n",
       "0        0.0        6.0       13.0       10.0        0.0        0.0   \n",
       "1        0.0        0.0       11.0       16.0       10.0        0.0   \n",
       "\n",
       "   pixel_7_7  Target  \n",
       "0        0.0       0  \n",
       "1        0.0       1  \n",
       "\n",
       "[2 rows x 65 columns]"
      ]
     },
     "execution_count": 35,
     "metadata": {},
     "output_type": "execute_result"
    }
   ],
   "source": [
    "df_digit = pd.DataFrame(digit_data,columns=digits.feature_names)\n",
    "df_digit['Target'] = digits.target\n",
    "df_digit.head(2)"
   ]
  },
  {
   "cell_type": "code",
   "execution_count": 36,
   "id": "little-generator",
   "metadata": {},
   "outputs": [
    {
     "data": {
      "image/png": "[encoded data removed]",
      "text/plain": [
       "<Figure size 288x288 with 1 Axes>"
      ]
     },
     "metadata": {
      "needs_background": "light"
     },
     "output_type": "display_data"
    }
   ],
   "source": [
    "plt.matshow(digits.images[0])\n",
    "plt.gray()"
   ]
  },
  {
   "cell_type": "code",
   "execution_count": 39,
   "id": "handled-animation",
   "metadata": {},
   "outputs": [
    {
     "data": {
      "image/png": "[encoded data removed]",
      "text/plain": [
       "<Figure size 288x288 with 1 Axes>"
      ]
     },
     "metadata": {
      "needs_background": "light"
     },
     "output_type": "display_data"
    },
    {
     "data": {
      "image/png": "[encoded data removed]",
      "text/plain": [
       "<Figure size 288x288 with 1 Axes>"
      ]
     },
     "metadata": {
      "needs_background": "light"
     },
     "output_type": "display_data"
    },
    {
     "data": {
      "image/png": "[encoded data removed]",
      "text/plain": [
       "<Figure size 288x288 with 1 Axes>"
      ]
     },
     "metadata": {
      "needs_background": "light"
     },
     "output_type": "display_data"
    },
    {
     "data": {
      "image/png": "[encoded data removed]",
      "text/plain": [
       "<Figure size 288x288 with 1 Axes>"
      ]
     },
     "metadata": {
      "needs_background": "light"
     },
     "output_type": "display_data"
    },
    {
     "data": {
      "image/png": "[encoded data removed]",
      "text/plain": [
       "<Figure size 288x288 with 1 Axes>"
      ]
     },
     "metadata": {
      "needs_background": "light"
     },
     "output_type": "display_data"
    }
   ],
   "source": [
    "for i in range(1700,1705):\n",
    "    plt.matshow(digits.images[i])\n",
    "    plt.gray()"
   ]
  },
  {
   "cell_type": "code",
   "execution_count": 40,
   "id": "spanish-riverside",
   "metadata": {},
   "outputs": [],
   "source": [
    "x = df_digit.drop('Target',axis = 1)\n",
    "y = df_digit['Target']\n",
    "# y"
   ]
  },
  {
   "cell_type": "code",
   "execution_count": 41,
   "id": "noble-tracy",
   "metadata": {},
   "outputs": [],
   "source": [
    "x_train,x_test, y_train, y_test = train_test_split(x,y, test_size=0.2 , random_state=9)"
   ]
  },
  {
   "cell_type": "code",
   "execution_count": 44,
   "id": "surrounded-fundamental",
   "metadata": {},
   "outputs": [
    {
     "data": {
      "text/plain": [
       "LogisticRegression(multi_class='ovr')"
      ]
     },
     "execution_count": 44,
     "metadata": {},
     "output_type": "execute_result"
    }
   ],
   "source": [
    "lr_clf = LogisticRegression(multi_class='ovr')\n",
    "lr_clf.fit(x_train,y_train)"
   ]
  },
  {
   "cell_type": "code",
   "execution_count": 47,
   "id": "economic-spine",
   "metadata": {},
   "outputs": [
    {
     "name": "stdout",
     "output_type": "stream",
     "text": [
      "Classification report is \n",
      "               precision    recall  f1-score   support\n",
      "\n",
      "           0       1.00      0.97      0.98        33\n",
      "           1       0.97      0.93      0.95        40\n",
      "           2       1.00      1.00      1.00        45\n",
      "           3       0.97      0.97      0.97        34\n",
      "           4       0.95      0.95      0.95        41\n",
      "           5       0.97      0.97      0.97        39\n",
      "           6       0.97      1.00      0.98        29\n",
      "           7       0.93      0.93      0.93        28\n",
      "           8       0.94      0.92      0.93        36\n",
      "           9       0.92      1.00      0.96        35\n",
      "\n",
      "    accuracy                           0.96       360\n",
      "   macro avg       0.96      0.96      0.96       360\n",
      "weighted avg       0.96      0.96      0.96       360\n",
      "\n",
      "MultiLabel Confusion Matrix :\n",
      " [[[327   0]\n",
      "  [  1  32]]\n",
      "\n",
      " [[319   1]\n",
      "  [  3  37]]\n",
      "\n",
      " [[315   0]\n",
      "  [  0  45]]\n",
      "\n",
      " [[325   1]\n",
      "  [  1  33]]\n",
      "\n",
      " [[317   2]\n",
      "  [  2  39]]\n",
      "\n",
      " [[320   1]\n",
      "  [  1  38]]\n",
      "\n",
      " [[330   1]\n",
      "  [  0  29]]\n",
      "\n",
      " [[330   2]\n",
      "  [  2  26]]\n",
      "\n",
      " [[322   2]\n",
      "  [  3  33]]\n",
      "\n",
      " [[322   3]\n",
      "  [  0  35]]]\n",
      "Accuracy of Model is: 0.9638888888888889\n"
     ]
    }
   ],
   "source": [
    "## Accuracy on Testing dataset\n",
    "y_pred = lr_clf.predict(x_test)\n",
    "cnf_matrix = confusion_matrix(y_test,y_pred)\n",
    "# print(\"Confusion Matrix is :\\n\",cnf_matrix)\n",
    "\n",
    "clf_report = classification_report(y_test,y_pred)\n",
    "print('Classification report is \\n',clf_report)\n",
    "\n",
    "multilabel_cnf_matrix = multilabel_confusion_matrix(y_test,y_pred)\n",
    "print(\"MultiLabel Confusion Matrix :\\n\",multilabel_cnf_matrix)\n",
    "\n",
    "accuracy = accuracy_score(y_test,y_pred)\n",
    "print(\"Accuracy of Model is:\",accuracy)"
   ]
  },
  {
   "cell_type": "code",
   "execution_count": 48,
   "id": "entire-multiple",
   "metadata": {},
   "outputs": [
    {
     "name": "stdout",
     "output_type": "stream",
     "text": [
      "Confusion Matrix is :\n",
      " [[145   0   0   0   0   0   0   0   0   0]\n",
      " [  0 140   0   0   0   0   0   0   2   0]\n",
      " [  0   0 132   0   0   0   0   0   0   0]\n",
      " [  0   0   0 149   0   0   0   0   0   0]\n",
      " [  0   0   0   0 140   0   0   0   0   0]\n",
      " [  0   0   0   0   0 143   0   0   0   0]\n",
      " [  0   0   0   0   0   0 152   0   0   0]\n",
      " [  0   0   0   0   0   0   0 151   0   0]\n",
      " [  0   4   0   0   0   0   0   0 134   0]\n",
      " [  0   0   0   0   0   0   0   0   2 143]]\n",
      "Classification report is \n",
      "               precision    recall  f1-score   support\n",
      "\n",
      "           0       1.00      1.00      1.00       145\n",
      "           1       0.97      0.99      0.98       142\n",
      "           2       1.00      1.00      1.00       132\n",
      "           3       1.00      1.00      1.00       149\n",
      "           4       1.00      1.00      1.00       140\n",
      "           5       1.00      1.00      1.00       143\n",
      "           6       1.00      1.00      1.00       152\n",
      "           7       1.00      1.00      1.00       151\n",
      "           8       0.97      0.97      0.97       138\n",
      "           9       1.00      0.99      0.99       145\n",
      "\n",
      "    accuracy                           0.99      1437\n",
      "   macro avg       0.99      0.99      0.99      1437\n",
      "weighted avg       0.99      0.99      0.99      1437\n",
      "\n",
      "MultiLabel Confusion Matrix :\n",
      " [[[1292    0]\n",
      "  [   0  145]]\n",
      "\n",
      " [[1291    4]\n",
      "  [   2  140]]\n",
      "\n",
      " [[1305    0]\n",
      "  [   0  132]]\n",
      "\n",
      " [[1288    0]\n",
      "  [   0  149]]\n",
      "\n",
      " [[1297    0]\n",
      "  [   0  140]]\n",
      "\n",
      " [[1294    0]\n",
      "  [   0  143]]\n",
      "\n",
      " [[1285    0]\n",
      "  [   0  152]]\n",
      "\n",
      " [[1286    0]\n",
      "  [   0  151]]\n",
      "\n",
      " [[1295    4]\n",
      "  [   4  134]]\n",
      "\n",
      " [[1292    0]\n",
      "  [   2  143]]]\n",
      "Accuracy of Model is: 0.9944328462073765\n"
     ]
    }
   ],
   "source": [
    "## Accuracy on Training dataset\n",
    "\n",
    "y_pred_train = lr_clf.predict(x_train)\n",
    "\n",
    "cnf_matrix = confusion_matrix(y_train,y_pred_train)\n",
    "print(\"Confusion Matrix is :\\n\",cnf_matrix)\n",
    "\n",
    "clf_report = classification_report(y_train,y_pred_train)\n",
    "print('Classification report is \\n',clf_report)\n",
    "\n",
    "multilabel_cnf_matrix = multilabel_confusion_matrix(y_train,y_pred_train)\n",
    "print(\"MultiLabel Confusion Matrix :\\n\",multilabel_cnf_matrix)\n",
    "\n",
    "accuracy = accuracy_score(y_train,y_pred_train)\n",
    "print(\"Accuracy of Model is:\",accuracy)"
   ]
  }
 ],
 "metadata": {
  "kernelspec": {
   "display_name": "Python 3",
   "language": "python",
   "name": "python3"
  },
  "language_info": {
   "codemirror_mode": {
    "name": "ipython",
    "version": 3
   },
   "file_extension": ".py",
   "mimetype": "text/x-python",
   "name": "python",
   "nbconvert_exporter": "python",
   "pygments_lexer": "ipython3",
   "version": "3.8.7"
  }
 },
 "nbformat": 4,
 "nbformat_minor": 5
}
