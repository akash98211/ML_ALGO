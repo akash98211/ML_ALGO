{
 "cells": [
  {
   "cell_type": "markdown",
   "metadata": {},
   "source": [
    " \n",
    " # Linear Regression"
   ]
  },
  {
   "cell_type": "code",
   "execution_count": null,
   "metadata": {},
   "outputs": [],
   "source": []
  },
  {
   "cell_type": "markdown",
   "metadata": {},
   "source": [
    "# R2 Score"
   ]
  },
  {
   "cell_type": "code",
   "execution_count": null,
   "metadata": {},
   "outputs": [],
   "source": [
    "Coefficient of determination\n",
    "Used to find goodness of best fit line\n",
    "\n",
    "MSE is scale varient \n",
    "R2 score is scale invarient\n",
    "R2 >> 0 to 1\n",
    "R2 can be negative\n",
    "\n",
    "R2 = 1 >> Good Score (All data points are on BFL)\n",
    "R2 =0 >> Bad score (Data points are from BFL)\n",
    "It gives proprtion of variation in target variable explained by Model\n",
    "\n",
    "R2 = Explained Variation / Total variation\n",
    "\n",
    "R2 = 0.78\n",
    "There is 78% less variation around the best fit line than mean value\n",
    "\n",
    "\n",
    "R2 = 1 - SSE/SST\n",
    "R2 = (SST-SSE)/SST\n",
    "\n",
    "R2 will never decrease\n",
    "\n",
    "\n",
    "R2 = 0.85\n",
    "4 Feature:\n",
    "Case 1: Add good predictors(R > 0.7) >> Correlated features\n",
    "    R2 >> 0.88\n",
    "    \n",
    "Case 2: Add Bad predictors(R < 0.3) >> Non correlated features\n",
    "    R2 >> 0.86 \n",
    "    \n",
    "R2 will never decrease >> Drawback of R2 score"
   ]
  },
  {
   "cell_type": "markdown",
   "metadata": {},
   "source": [
    "# Adjusted R2 Score"
   ]
  },
  {
   "cell_type": "code",
   "execution_count": null,
   "metadata": {},
   "outputs": [],
   "source": [
    "It will increase only for good predictors\n",
    "Adjusted R2 value will always be less than or equal to R2 score\n",
    "Adjusted R2 value <= R2 Value"
   ]
  },
  {
   "cell_type": "code",
   "execution_count": null,
   "metadata": {},
   "outputs": [],
   "source": []
  },
  {
   "cell_type": "raw",
   "metadata": {},
   "source": [
    "Adjusted_R2 = 1 - (1 - R2) * (N - 1) / (N - p - 1)\n",
    "\n",
    "P >> Number of Predictors\n",
    "N >> Number of sample\n"
   ]
  },
  {
   "cell_type": "code",
   "execution_count": 3,
   "metadata": {},
   "outputs": [
    {
     "data": {
      "text/plain": [
       "0.9262765957446809"
      ]
     },
     "execution_count": 3,
     "metadata": {},
     "output_type": "execute_result"
    }
   ],
   "source": [
    "R2 = 0.93\n",
    "Adjusted_R2 = 1 - (1 - 0.93) * (100 - 1) / (100 - 5 - 1)\n",
    "Adjusted_R2"
   ]
  },
  {
   "cell_type": "code",
   "execution_count": 4,
   "metadata": {},
   "outputs": [
    {
     "data": {
      "text/plain": [
       "0.3259574468085107"
      ]
     },
     "execution_count": 4,
     "metadata": {},
     "output_type": "execute_result"
    }
   ],
   "source": [
    "R2 = 0.36\n",
    "Adjusted_R2 = 1 - (1 - 0.36) * (100 - 1) / (100 - 5 - 1)\n",
    "Adjusted_R2"
   ]
  }
 ],
 "metadata": {
  "kernelspec": {
   "display_name": "Python 3",
   "language": "python",
   "name": "python3"
  },
  "language_info": {
   "codemirror_mode": {
    "name": "ipython",
    "version": 3
   },
   "file_extension": ".py",
   "mimetype": "text/x-python",
   "name": "python",
   "nbconvert_exporter": "python",
   "pygments_lexer": "ipython3",
   "version": "3.7.3"
  }
 },
 "nbformat": 4,
 "nbformat_minor": 5
}
