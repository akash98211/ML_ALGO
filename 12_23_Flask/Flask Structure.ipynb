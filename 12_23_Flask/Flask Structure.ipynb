{
 "cells": [
  {
   "cell_type": "code",
   "execution_count": null,
   "id": "maritime-devices",
   "metadata": {},
   "outputs": [],
   "source": [
    "Artifacts:\n",
    "    To store model file(pickle)\n",
    "    1. images\n",
    "    2. Confusion_matrix.png\n",
    "    3. ROC\n",
    "    4. DecisionTree\n",
    "    \n",
    "credit: # package\n",
    "    __init__.py\n",
    "    function1.py\n",
    "    function2.py\n",
    "    \n",
    "run.py >> Used to run flask development server\n",
    "\n",
    "dockerfile\n",
    "conda_env.yml\n",
    ".gitignore\n",
    "README.md"
   ]
  }
 ],
 "metadata": {
  "kernelspec": {
   "display_name": "Python 3",
   "language": "python",
   "name": "python3"
  },
  "language_info": {
   "codemirror_mode": {
    "name": "ipython",
    "version": 3
   },
   "file_extension": ".py",
   "mimetype": "text/x-python",
   "name": "python",
   "nbconvert_exporter": "python",
   "pygments_lexer": "ipython3",
   "version": "3.8.7"
  }
 },
 "nbformat": 4,
 "nbformat_minor": 5
}
