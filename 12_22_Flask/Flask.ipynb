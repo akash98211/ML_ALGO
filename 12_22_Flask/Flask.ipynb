{
 "cells": [
  {
   "cell_type": "markdown",
   "id": "given-frederick",
   "metadata": {},
   "source": [
    "# Flask"
   ]
  },
  {
   "cell_type": "code",
   "execution_count": null,
   "id": "geological-baseline",
   "metadata": {},
   "outputs": [],
   "source": [
    "Web Application framework\n",
    "It is based on WSGI toolkit and Jinja template(HTML)\n",
    "\n",
    "WSGI >> Web Server Gateway Interface"
   ]
  },
  {
   "cell_type": "code",
   "execution_count": null,
   "id": "exposed-escape",
   "metadata": {},
   "outputs": [],
   "source": [
    "templates:\n",
    "    home.html\n",
    "    services.html"
   ]
  },
  {
   "cell_type": "code",
   "execution_count": null,
   "id": "right-territory",
   "metadata": {},
   "outputs": [],
   "source": [
    "conda install flask\n",
    "pip install flask"
   ]
  },
  {
   "cell_type": "code",
   "execution_count": null,
   "id": "convertible-combine",
   "metadata": {},
   "outputs": [],
   "source": [
    "http://127.0.0.1:5000/   >> 0.0.0.0:5000\n",
    "        \n",
    "AWS Server : http://34.168.5.15:5000/  >> Unsecured\n",
    "             https://zeenews.india.com/ >> Secured\n",
    "             SSL certificate\n",
    "                    \n",
    "AWS       \n",
    "Google Cloud Platform(GCP)\n",
    "Azure"
   ]
  }
 ],
 "metadata": {
  "kernelspec": {
   "display_name": "Python 3",
   "language": "python",
   "name": "python3"
  },
  "language_info": {
   "codemirror_mode": {
    "name": "ipython",
    "version": 3
   },
   "file_extension": ".py",
   "mimetype": "text/x-python",
   "name": "python",
   "nbconvert_exporter": "python",
   "pygments_lexer": "ipython3",
   "version": "3.8.7"
  }
 },
 "nbformat": 4,
 "nbformat_minor": 5
}
