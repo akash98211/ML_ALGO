{
 "cells": [
  {
   "cell_type": "code",
   "execution_count": null,
   "id": "later-thunder",
   "metadata": {},
   "outputs": [],
   "source": [
    "5 columns\n",
    "\n",
    "4 columns \n",
    "1 columns are one hot encoded >> 16 unique values\n",
    "\n",
    "\n",
    "10 columns \n",
    "\n"
   ]
  },
  {
   "cell_type": "code",
   "execution_count": null,
   "id": "overhead-poster",
   "metadata": {},
   "outputs": [],
   "source": [
    "House Price Prediction:\n",
    "    \n",
    "    Inputs:\n",
    "        1. BHK > 2\n",
    "        2. Balcony > 3\n",
    "        3. Bath > 2\n",
    "        4. area > 1000\n",
    "        5. location > Warje\n",
    "        \n",
    "        \n",
    "[BHK, Balcony, Bath, area, Katraj, ShivajiNagar, Wakad, Warje, Kharadi, Swargate]  # 10 columns\n",
    "\n"
   ]
  },
  {
   "cell_type": "code",
   "execution_count": null,
   "id": "hungry-gazette",
   "metadata": {},
   "outputs": [],
   "source": [
    "user_data = [2, 3, 2, 1000, 0 , 0 , 0 , 1, 0 ,0]\n",
    "Predicted_price = model.predict([user_data])"
   ]
  },
  {
   "cell_type": "code",
   "execution_count": null,
   "id": "photographic-saturday",
   "metadata": {},
   "outputs": [],
   "source": [
    "100 rows\n",
    "\n",
    "cv = 5 \n",
    "cv = 6 "
   ]
  }
 ],
 "metadata": {
  "kernelspec": {
   "display_name": "Python 3",
   "language": "python",
   "name": "python3"
  },
  "language_info": {
   "codemirror_mode": {
    "name": "ipython",
    "version": 3
   },
   "file_extension": ".py",
   "mimetype": "text/x-python",
   "name": "python",
   "nbconvert_exporter": "python",
   "pygments_lexer": "ipython3",
   "version": "3.8.7"
  }
 },
 "nbformat": 4,
 "nbformat_minor": 5
}
