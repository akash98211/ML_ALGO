{
 "cells": [
  {
   "cell_type": "code",
   "execution_count": null,
   "metadata": {},
   "outputs": [],
   "source": [
    "Ensemble Method:\n",
    "    1. Bagging >> Random Forest Algorithm\n",
    "    2. Boosting >> AdaBoost, GBoost, XGBoost\n",
    "    "
   ]
  },
  {
   "cell_type": "code",
   "execution_count": null,
   "metadata": {},
   "outputs": [],
   "source": [
    "Ensemble >> Combining multiple models\n",
    "\n",
    "Bagging >> Parallel Approach\n",
    "Bootstrapping + Aggregating\n",
    "\n",
    "Boosting >> Sequential Approach\n"
   ]
  },
  {
   "cell_type": "markdown",
   "metadata": {},
   "source": [
    "# Random Forest Algorithm"
   ]
  },
  {
   "cell_type": "code",
   "execution_count": null,
   "metadata": {},
   "outputs": [],
   "source": [
    "1. Create Bootstrap Datasets by using row sampling method\n",
    "\n",
    "2. Train multiple decision trees \n",
    "\n",
    "3. Classification: Use Voting classifier to predict the output\n",
    "\n",
    "3. Regression : Use mean of all decision trees output"
   ]
  },
  {
   "cell_type": "markdown",
   "metadata": {},
   "source": [
    "## Advantages"
   ]
  },
  {
   "cell_type": "code",
   "execution_count": null,
   "metadata": {},
   "outputs": [],
   "source": [
    "1. Used for classification as well as regression\n",
    "\n",
    "2. It reduces overfitting of decision tree and helps to improve accuracy\n",
    "\n",
    "3. No feature scaling required\n",
    "\n",
    "4. Not impacted by outliers"
   ]
  },
  {
   "cell_type": "markdown",
   "metadata": {},
   "source": [
    "## Disadvantages"
   ]
  },
  {
   "cell_type": "code",
   "execution_count": null,
   "metadata": {},
   "outputs": [],
   "source": [
    "1. It requires more computational power(We are training multiple decision trees)\n",
    "\n",
    "2. It fails to determine significance of each variable"
   ]
  },
  {
   "cell_type": "markdown",
   "metadata": {},
   "source": [
    "# Application"
   ]
  },
  {
   "cell_type": "raw",
   "metadata": {},
   "source": [
    "1. Banking Sector: \n",
    "Loan Default prediction\n",
    "\n",
    "2. Healthcare domain:\n",
    "Covid prediction\n",
    "Cancer prediction"
   ]
  },
  {
   "cell_type": "markdown",
   "metadata": {},
   "source": [
    "# Voting "
   ]
  },
  {
   "cell_type": "code",
   "execution_count": null,
   "metadata": {},
   "outputs": [],
   "source": [
    "1. Hard Voting  Classifier (RF) >> Max count\n",
    "2. Soft voting >> Probabilities"
   ]
  },
  {
   "cell_type": "code",
   "execution_count": null,
   "metadata": {},
   "outputs": [],
   "source": [
    "Hard Voting Classifier:\n",
    "M1 >> [0.9   0.1]  >> Class 1\n",
    "M2 >> [0.8   0.2]  >> Class 1\n",
    "M3 >> [0.3   0.7]  >> Class 2\n",
    "\n",
    "Predicted Class >> Class 1\n",
    "\n",
    "\n",
    "M1 >> [0.52   0.48]  >> Class 1\n",
    "M2 >> [0.55   0.45]  >> Class 1\n",
    "M3 >> [0.1     0.9]  >> Class 2\n",
    "\n",
    "Predicted Class >> Class 1 \n",
    "\n",
    "\n",
    "\n",
    "Soft Voting Classifier:\n",
    "M1 >> [0.9   0.1]  >> Class 1\n",
    "M2 >> [0.8   0.2]  >> Class 1\n",
    "M3 >> [0.3   0.7]  >> Class 2\n",
    "\n",
    "Class1 Avg = (0.9 + 0.8 + 0.3) / 3 = 0.67\n",
    "Class2 Avg = 0.33\n",
    "\n",
    "Predicted Class >> Class 1\n",
    "\n",
    "\n",
    "M1 >> [0.52   0.48]  >> Class 1\n",
    "M2 >> [0.55   0.45]  >> Class 1\n",
    "M3 >> [0.1     0.9]  >> Class 2\n",
    "\n",
    "Class1 Avg >> (0.52 + 0.55 + 0.1)/3 >> 0.39\n",
    "Class2 Avg >> 0.61\n",
    "\n",
    "Predicted Class >> Class2"
   ]
  },
  {
   "cell_type": "code",
   "execution_count": 2,
   "metadata": {},
   "outputs": [
    {
     "data": {
      "text/plain": [
       "0.6666666666666666"
      ]
     },
     "execution_count": 2,
     "metadata": {},
     "output_type": "execute_result"
    }
   ],
   "source": [
    "(0.9 + 0.8 + 0.3)/3"
   ]
  },
  {
   "cell_type": "code",
   "execution_count": 3,
   "metadata": {},
   "outputs": [
    {
     "data": {
      "text/plain": [
       "0.39000000000000007"
      ]
     },
     "execution_count": 3,
     "metadata": {},
     "output_type": "execute_result"
    }
   ],
   "source": [
    "(0.52 + 0.55 + 0.1)/3"
   ]
  },
  {
   "cell_type": "code",
   "execution_count": null,
   "metadata": {},
   "outputs": [],
   "source": []
  },
  {
   "cell_type": "code",
   "execution_count": null,
   "metadata": {},
   "outputs": [],
   "source": [
    "SMOTE >> \n",
    "Oversampling\n",
    "Undersampling\n",
    "\n",
    "600 - 400\n",
    "\n",
    "Oversampling:  \n",
    "600 - (400 + 200)\n",
    "\n",
    "\n",
    "Undersampling:\n",
    "    \n",
    "400 - 400 (Dropping 200 rows)\n",
    "\n",
    "Class1  - class2\n",
    "900 - 100"
   ]
  }
 ],
 "metadata": {
  "kernelspec": {
   "display_name": "Python 3",
   "language": "python",
   "name": "python3"
  },
  "language_info": {
   "codemirror_mode": {
    "name": "ipython",
    "version": 3
   },
   "file_extension": ".py",
   "mimetype": "text/x-python",
   "name": "python",
   "nbconvert_exporter": "python",
   "pygments_lexer": "ipython3",
   "version": "3.7.3"
  }
 },
 "nbformat": 4,
 "nbformat_minor": 5
}
