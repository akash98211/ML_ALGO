{
 "cells": [
  {
   "cell_type": "markdown",
   "metadata": {
    "id": "polar-proof"
   },
   "source": [
    "# Decision Tree Algorithm"
   ]
  },
  {
   "cell_type": "markdown",
   "metadata": {
    "id": "equivalent-cherry"
   },
   "source": [
    "### Gini Impurity / Gini Index\n"
   ]
  },
  {
   "cell_type": "code",
   "execution_count": null,
   "metadata": {
    "id": "suitable-richardson"
   },
   "outputs": [],
   "source": [
    "ASM:\n",
    "    \n",
    "Highest Information Gain\n",
    "Lowest Gini Index(Impurity)"
   ]
  },
  {
   "cell_type": "code",
   "execution_count": null,
   "metadata": {
    "id": "collective-rebecca"
   },
   "outputs": [],
   "source": [
    "outlook\ttemperature\thumidity\twindy\tplay"
   ]
  },
  {
   "cell_type": "markdown",
   "metadata": {
    "id": "facial-temple"
   },
   "source": [
    "#### 1. outlook"
   ]
  },
  {
   "cell_type": "code",
   "execution_count": null,
   "metadata": {
    "id": "intimate-academy"
   },
   "outputs": [],
   "source": [
    "overcast : 4Y & 0N # Pure Node >> 4/14\n",
    "rainy: 3Y & 2N  >> 5/14\n",
    "Sunny: 2Y & 3N  >> 5/14\n",
    "\n",
    "    \n",
    "Gini Impurity(Outlook == overcast) = 0\n",
    "Gini Impurity(Outlook == rainy) = 1 - (2/5)^2 - (3/5)^2 = 0.48\n",
    "Gini Impurity(Outlook == Sunny) = 1 - (2/5)^2 - (3/5)^2 = 0.48\n",
    "\n",
    "Total Gini Impurity = SUM(Weighted avg * GI)\n",
    "GI_Outlook = (5/14 ) * 0.48 + (5/14 ) * 0.48 = 0.3428"
   ]
  },
  {
   "cell_type": "code",
   "execution_count": null,
   "metadata": {
    "id": "assisted-newport",
    "outputId": "56bd1ddd-02b9-425c-d2cb-3e68388cc818"
   },
   "outputs": [
    {
     "data": {
      "text/plain": [
       "0.34285714285714286"
      ]
     },
     "execution_count": 3,
     "metadata": {},
     "output_type": "execute_result"
    }
   ],
   "source": [
    "1 - (2/5)**2 - (3/5)**2\n",
    "(5/14 ) * 0.48 + (5/14 ) * 0.48"
   ]
  },
  {
   "cell_type": "markdown",
   "metadata": {
    "id": "coastal-operator"
   },
   "source": [
    "#### 2. temperature"
   ]
  },
  {
   "cell_type": "code",
   "execution_count": null,
   "metadata": {
    "id": "civic-tokyo"
   },
   "outputs": [],
   "source": [
    "hot : 2Y & 2N \n",
    "cool : 3Y & 1N\n",
    "mild: 4Y & 2N\n",
    "\n",
    "Gini Impurity(temperature == hot) = 0.5\n",
    "Gini Impurity(temperature == cool) = 0.375\n",
    "Gini Impurity(temperature == mild) = 0.44\n",
    "\n",
    "GI_temperature = (4/14) * 0.5 + (4/14)*0.375 + (6/14)*0.44 = 0.438"
   ]
  },
  {
   "cell_type": "code",
   "execution_count": null,
   "metadata": {
    "id": "surrounded-sucking",
    "outputId": "5b1b1822-0933-4c0f-a92e-0617e3c63ec3"
   },
   "outputs": [
    {
     "data": {
      "text/plain": [
       "0.375"
      ]
     },
     "execution_count": 5,
     "metadata": {},
     "output_type": "execute_result"
    }
   ],
   "source": [
    "1 - (3/4)**2 - (1/4)**2"
   ]
  },
  {
   "cell_type": "code",
   "execution_count": null,
   "metadata": {
    "id": "constitutional-slovakia",
    "outputId": "fd495b7d-8328-46ed-9694-79080bea18ef"
   },
   "outputs": [
    {
     "data": {
      "text/plain": [
       "0.4444444444444445"
      ]
     },
     "execution_count": 6,
     "metadata": {},
     "output_type": "execute_result"
    }
   ],
   "source": [
    "1 - (4/6)**2 - (2/6)**2"
   ]
  },
  {
   "cell_type": "code",
   "execution_count": null,
   "metadata": {
    "id": "religious-allah",
    "outputId": "db063b35-0300-4d4a-f018-808017cd4b85"
   },
   "outputs": [
    {
     "data": {
      "text/plain": [
       "0.43857142857142856"
      ]
     },
     "execution_count": 7,
     "metadata": {},
     "output_type": "execute_result"
    }
   ],
   "source": [
    "(4/14) * 0.5 + (4/14)*0.375 + (6/14)*0.44"
   ]
  },
  {
   "cell_type": "markdown",
   "metadata": {
    "id": "specialized-shepherd"
   },
   "source": [
    "#### 3. humidity"
   ]
  },
  {
   "cell_type": "code",
   "execution_count": null,
   "metadata": {
    "id": "particular-title"
   },
   "outputs": [],
   "source": [
    "high: 3Y & 4N\n",
    "normal: 6Y & 1N\n",
    "\n",
    "Gini Impurity(humidity == high) = 0.49\n",
    "Gini Impurity(humidity == normal) = 0.245\n",
    "\n",
    "GI_humidity = 0.3685"
   ]
  },
  {
   "cell_type": "code",
   "execution_count": null,
   "metadata": {
    "id": "logical-brush",
    "outputId": "f568381c-0696-49df-d497-45e64ee72f66"
   },
   "outputs": [
    {
     "data": {
      "text/plain": [
       "0.489795918367347"
      ]
     },
     "execution_count": 9,
     "metadata": {},
     "output_type": "execute_result"
    }
   ],
   "source": [
    "1 - (3/7)**2 - (4/7)**2"
   ]
  },
  {
   "cell_type": "code",
   "execution_count": null,
   "metadata": {
    "id": "boolean-finnish",
    "outputId": "a2f66356-72cc-4405-ac4c-386d04b088c1"
   },
   "outputs": [
    {
     "data": {
      "text/plain": [
       "0.24489795918367355"
      ]
     },
     "execution_count": 10,
     "metadata": {},
     "output_type": "execute_result"
    }
   ],
   "source": [
    "1 - (6/7)**2 - (1/7)**2"
   ]
  },
  {
   "cell_type": "code",
   "execution_count": null,
   "metadata": {
    "id": "steady-butterfly",
    "outputId": "e93c3a4f-abfc-4435-ce30-be7feca453cf"
   },
   "outputs": [
    {
     "data": {
      "text/plain": [
       "0.3685"
      ]
     },
     "execution_count": 11,
     "metadata": {},
     "output_type": "execute_result"
    }
   ],
   "source": [
    "(7/14) * 0.49 + (7/14) * 0.247"
   ]
  },
  {
   "cell_type": "markdown",
   "metadata": {
    "id": "adjacent-greeting"
   },
   "source": [
    "#### 4. windy"
   ]
  },
  {
   "cell_type": "code",
   "execution_count": null,
   "metadata": {
    "id": "smoking-lafayette"
   },
   "outputs": [],
   "source": [
    "True: 3Y & 3N\n",
    "False: 6Y & 2N\n",
    "\n",
    "Gini Impurity(windy == True) = 0.5\n",
    "Gini Impurity(windy == False) = 0.428\n",
    "GI_windy = 0.4285"
   ]
  },
  {
   "cell_type": "code",
   "execution_count": null,
   "metadata": {
    "id": "illegal-senate",
    "outputId": "608a35e1-fe32-42fe-9ede-8dca14d1c8cf"
   },
   "outputs": [
    {
     "data": {
      "text/plain": [
       "0.375"
      ]
     },
     "execution_count": 12,
     "metadata": {},
     "output_type": "execute_result"
    }
   ],
   "source": [
    "1 - (6/8)**2 - (2/8)**2"
   ]
  },
  {
   "cell_type": "code",
   "execution_count": null,
   "metadata": {
    "id": "removable-gather",
    "outputId": "a2b5cc62-d28a-4a2d-810f-ff0405e6a7f9"
   },
   "outputs": [
    {
     "data": {
      "text/plain": [
       "0.42857142857142855"
      ]
     },
     "execution_count": 14,
     "metadata": {},
     "output_type": "execute_result"
    }
   ],
   "source": [
    "(6/14) * 0.5 + (8/14) * 0.375"
   ]
  },
  {
   "cell_type": "code",
   "execution_count": null,
   "metadata": {
    "id": "challenging-timothy"
   },
   "outputs": [],
   "source": [
    "GI_windy = 0.4285\n",
    "GI_temperature = 0.438\n",
    "GI_Outlook = 0.3428\n",
    "GI_humidity = 0.3685"
   ]
  },
  {
   "cell_type": "code",
   "execution_count": null,
   "metadata": {
    "id": "opening-proposal",
    "outputId": "f10fb02e-2d55-49d3-f287-45a24685842a"
   },
   "outputs": [
    {
     "data": {
      "text/plain": [
       "0.34285714285714286"
      ]
     },
     "execution_count": 15,
     "metadata": {},
     "output_type": "execute_result"
    }
   ],
   "source": [
    "(0.48 * 5)/7"
   ]
  }
 ],
 "metadata": {
  "colab": {
   "name": "Decision Tree.ipynb",
   "provenance": []
  },
  "kernelspec": {
   "display_name": "Python 3",
   "language": "python",
   "name": "python3"
  },
  "language_info": {
   "codemirror_mode": {
    "name": "ipython",
    "version": 3
   },
   "file_extension": ".py",
   "mimetype": "text/x-python",
   "name": "python",
   "nbconvert_exporter": "python",
   "pygments_lexer": "ipython3",
   "version": "3.7.3"
  }
 },
 "nbformat": 4,
 "nbformat_minor": 5
}
