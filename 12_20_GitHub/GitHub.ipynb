{
 "cells": [
  {
   "cell_type": "markdown",
   "id": "entitled-burton",
   "metadata": {},
   "source": [
    "# Git"
   ]
  },
  {
   "cell_type": "code",
   "execution_count": null,
   "id": "effective-edgar",
   "metadata": {},
   "outputs": [],
   "source": [
    "1. GitHub\n",
    "2. GitLab\n",
    "3. BitBucket"
   ]
  },
  {
   "cell_type": "markdown",
   "id": "wicked-livestock",
   "metadata": {},
   "source": [
    "# 1. Clone "
   ]
  },
  {
   "cell_type": "code",
   "execution_count": null,
   "id": "wireless-grade",
   "metadata": {},
   "outputs": [],
   "source": [
    "git clone url\n",
    "git clone https://github.com/rahulkendre28/house_price_prediction.git"
   ]
  },
  {
   "cell_type": "markdown",
   "id": "confused-thousand",
   "metadata": {},
   "source": [
    "# 2. Check Status of your project"
   ]
  },
  {
   "cell_type": "code",
   "execution_count": null,
   "id": "following-variance",
   "metadata": {},
   "outputs": [],
   "source": [
    "git status"
   ]
  },
  {
   "cell_type": "markdown",
   "id": "desperate-driving",
   "metadata": {},
   "source": [
    "# 3. Add Files"
   ]
  },
  {
   "cell_type": "code",
   "execution_count": null,
   "id": "outer-stack",
   "metadata": {},
   "outputs": [],
   "source": [
    "git add file_name\n",
    "git add .\n",
    "git add --all"
   ]
  },
  {
   "cell_type": "markdown",
   "id": "animal-chicago",
   "metadata": {},
   "source": [
    "# 4. Commit your changes"
   ]
  },
  {
   "cell_type": "code",
   "execution_count": null,
   "id": "grave-lightning",
   "metadata": {},
   "outputs": [],
   "source": [
    "git commit -m \"your msg\"\n",
    "git commit -m \"Updated project description\""
   ]
  },
  {
   "cell_type": "markdown",
   "id": "lesbian-convenience",
   "metadata": {},
   "source": [
    "# 5. Push"
   ]
  },
  {
   "cell_type": "code",
   "execution_count": null,
   "id": "collect-coupon",
   "metadata": {},
   "outputs": [],
   "source": [
    "git push \n",
    "git push origin branch_name\n",
    "git push origin development\n"
   ]
  },
  {
   "cell_type": "markdown",
   "id": "level-monthly",
   "metadata": {},
   "source": [
    "# 6. Create new Branch"
   ]
  },
  {
   "cell_type": "code",
   "execution_count": null,
   "id": "killing-phrase",
   "metadata": {},
   "outputs": [],
   "source": [
    "git branch\n",
    "\n",
    "git checkout -b branch_name # new branch\n",
    "\n",
    "\n",
    "git checkout branch_name # switch branch"
   ]
  },
  {
   "cell_type": "code",
   "execution_count": null,
   "id": "affiliated-brisbane",
   "metadata": {},
   "outputs": [],
   "source": []
  }
 ],
 "metadata": {
  "kernelspec": {
   "display_name": "Python 3 (ipykernel)",
   "language": "python",
   "name": "python3"
  },
  "language_info": {
   "codemirror_mode": {
    "name": "ipython",
    "version": 3
   },
   "file_extension": ".py",
   "mimetype": "text/x-python",
   "name": "python",
   "nbconvert_exporter": "python",
   "pygments_lexer": "ipython3",
   "version": "3.9.1"
  }
 },
 "nbformat": 4,
 "nbformat_minor": 5
}
