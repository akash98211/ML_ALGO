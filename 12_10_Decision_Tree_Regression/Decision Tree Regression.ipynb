{
 "cells": [
  {
   "cell_type": "markdown",
   "metadata": {},
   "source": [
    "# import Libraries"
   ]
  },
  {
   "cell_type": "code",
   "execution_count": 4,
   "metadata": {},
   "outputs": [],
   "source": [
    "import pandas as pd\n",
    "import numpy as np\n",
    "\n",
    "from sklearn.tree import DecisionTreeRegressor\n",
    "from sklearn.tree import plot_tree\n",
    "\n",
    "from sklearn.metrics import mean_squared_error, mean_absolute_error, r2_score\n",
    "\n",
    "from sklearn.model_selection import train_test_split, GridSearchCV,RandomizedSearchCV"
   ]
  },
  {
   "cell_type": "code",
   "execution_count": 5,
   "metadata": {},
   "outputs": [],
   "source": [
    "df = pd.read_csv('autos_dataset.csv')"
   ]
  },
  {
   "cell_type": "code",
   "execution_count": 9,
   "metadata": {},
   "outputs": [
    {
     "data": {
      "text/html": [
       "<div>\n",
       "<style scoped>\n",
       "    .dataframe tbody tr th:only-of-type {\n",
       "        vertical-align: middle;\n",
       "    }\n",
       "\n",
       "    .dataframe tbody tr th {\n",
       "        vertical-align: top;\n",
       "    }\n",
       "\n",
       "    .dataframe thead th {\n",
       "        text-align: right;\n",
       "    }\n",
       "</style>\n",
       "<table border=\"1\" class=\"dataframe\">\n",
       "  <thead>\n",
       "    <tr style=\"text-align: right;\">\n",
       "      <th></th>\n",
       "      <th>0</th>\n",
       "      <th>1</th>\n",
       "      <th>2</th>\n",
       "      <th>3</th>\n",
       "      <th>4</th>\n",
       "    </tr>\n",
       "  </thead>\n",
       "  <tbody>\n",
       "    <tr>\n",
       "      <th>symboling</th>\n",
       "      <td>3</td>\n",
       "      <td>3</td>\n",
       "      <td>1</td>\n",
       "      <td>2</td>\n",
       "      <td>2</td>\n",
       "    </tr>\n",
       "    <tr>\n",
       "      <th>normalized-losses</th>\n",
       "      <td>?</td>\n",
       "      <td>?</td>\n",
       "      <td>?</td>\n",
       "      <td>164</td>\n",
       "      <td>164</td>\n",
       "    </tr>\n",
       "    <tr>\n",
       "      <th>make</th>\n",
       "      <td>alfa-romero</td>\n",
       "      <td>alfa-romero</td>\n",
       "      <td>alfa-romero</td>\n",
       "      <td>audi</td>\n",
       "      <td>audi</td>\n",
       "    </tr>\n",
       "    <tr>\n",
       "      <th>fuel-type</th>\n",
       "      <td>gas</td>\n",
       "      <td>gas</td>\n",
       "      <td>gas</td>\n",
       "      <td>gas</td>\n",
       "      <td>gas</td>\n",
       "    </tr>\n",
       "    <tr>\n",
       "      <th>aspiration</th>\n",
       "      <td>std</td>\n",
       "      <td>std</td>\n",
       "      <td>std</td>\n",
       "      <td>std</td>\n",
       "      <td>std</td>\n",
       "    </tr>\n",
       "    <tr>\n",
       "      <th>num-of-doors</th>\n",
       "      <td>two</td>\n",
       "      <td>two</td>\n",
       "      <td>two</td>\n",
       "      <td>four</td>\n",
       "      <td>four</td>\n",
       "    </tr>\n",
       "    <tr>\n",
       "      <th>body-style</th>\n",
       "      <td>convertible</td>\n",
       "      <td>convertible</td>\n",
       "      <td>hatchback</td>\n",
       "      <td>sedan</td>\n",
       "      <td>sedan</td>\n",
       "    </tr>\n",
       "    <tr>\n",
       "      <th>drive-wheels</th>\n",
       "      <td>rwd</td>\n",
       "      <td>rwd</td>\n",
       "      <td>rwd</td>\n",
       "      <td>fwd</td>\n",
       "      <td>4wd</td>\n",
       "    </tr>\n",
       "    <tr>\n",
       "      <th>engine-location</th>\n",
       "      <td>front</td>\n",
       "      <td>front</td>\n",
       "      <td>front</td>\n",
       "      <td>front</td>\n",
       "      <td>front</td>\n",
       "    </tr>\n",
       "    <tr>\n",
       "      <th>wheel-base</th>\n",
       "      <td>88.6</td>\n",
       "      <td>88.6</td>\n",
       "      <td>94.5</td>\n",
       "      <td>99.8</td>\n",
       "      <td>99.4</td>\n",
       "    </tr>\n",
       "    <tr>\n",
       "      <th>length</th>\n",
       "      <td>168.8</td>\n",
       "      <td>168.8</td>\n",
       "      <td>171.2</td>\n",
       "      <td>176.6</td>\n",
       "      <td>176.6</td>\n",
       "    </tr>\n",
       "    <tr>\n",
       "      <th>width</th>\n",
       "      <td>64.1</td>\n",
       "      <td>64.1</td>\n",
       "      <td>65.5</td>\n",
       "      <td>66.2</td>\n",
       "      <td>66.4</td>\n",
       "    </tr>\n",
       "    <tr>\n",
       "      <th>height</th>\n",
       "      <td>48.8</td>\n",
       "      <td>48.8</td>\n",
       "      <td>52.4</td>\n",
       "      <td>54.3</td>\n",
       "      <td>54.3</td>\n",
       "    </tr>\n",
       "    <tr>\n",
       "      <th>curb-weight</th>\n",
       "      <td>2548</td>\n",
       "      <td>2548</td>\n",
       "      <td>2823</td>\n",
       "      <td>2337</td>\n",
       "      <td>2824</td>\n",
       "    </tr>\n",
       "    <tr>\n",
       "      <th>engine-type</th>\n",
       "      <td>dohc</td>\n",
       "      <td>dohc</td>\n",
       "      <td>ohcv</td>\n",
       "      <td>ohc</td>\n",
       "      <td>ohc</td>\n",
       "    </tr>\n",
       "    <tr>\n",
       "      <th>num-of-cylinders</th>\n",
       "      <td>four</td>\n",
       "      <td>four</td>\n",
       "      <td>six</td>\n",
       "      <td>four</td>\n",
       "      <td>five</td>\n",
       "    </tr>\n",
       "    <tr>\n",
       "      <th>engine-size</th>\n",
       "      <td>130</td>\n",
       "      <td>130</td>\n",
       "      <td>152</td>\n",
       "      <td>109</td>\n",
       "      <td>136</td>\n",
       "    </tr>\n",
       "    <tr>\n",
       "      <th>fuel-system</th>\n",
       "      <td>mpfi</td>\n",
       "      <td>mpfi</td>\n",
       "      <td>mpfi</td>\n",
       "      <td>mpfi</td>\n",
       "      <td>mpfi</td>\n",
       "    </tr>\n",
       "    <tr>\n",
       "      <th>bore</th>\n",
       "      <td>3.47</td>\n",
       "      <td>3.47</td>\n",
       "      <td>2.68</td>\n",
       "      <td>3.19</td>\n",
       "      <td>3.19</td>\n",
       "    </tr>\n",
       "    <tr>\n",
       "      <th>stroke</th>\n",
       "      <td>2.68</td>\n",
       "      <td>2.68</td>\n",
       "      <td>3.47</td>\n",
       "      <td>3.4</td>\n",
       "      <td>3.4</td>\n",
       "    </tr>\n",
       "    <tr>\n",
       "      <th>compression-ratio</th>\n",
       "      <td>9.0</td>\n",
       "      <td>9.0</td>\n",
       "      <td>9.0</td>\n",
       "      <td>10.0</td>\n",
       "      <td>8.0</td>\n",
       "    </tr>\n",
       "    <tr>\n",
       "      <th>horsepower</th>\n",
       "      <td>111</td>\n",
       "      <td>111</td>\n",
       "      <td>154</td>\n",
       "      <td>102</td>\n",
       "      <td>115</td>\n",
       "    </tr>\n",
       "    <tr>\n",
       "      <th>peak-rpm</th>\n",
       "      <td>5000</td>\n",
       "      <td>5000</td>\n",
       "      <td>5000</td>\n",
       "      <td>5500</td>\n",
       "      <td>5500</td>\n",
       "    </tr>\n",
       "    <tr>\n",
       "      <th>city-mpg</th>\n",
       "      <td>21</td>\n",
       "      <td>21</td>\n",
       "      <td>19</td>\n",
       "      <td>24</td>\n",
       "      <td>18</td>\n",
       "    </tr>\n",
       "    <tr>\n",
       "      <th>highway-mpg</th>\n",
       "      <td>27</td>\n",
       "      <td>27</td>\n",
       "      <td>26</td>\n",
       "      <td>30</td>\n",
       "      <td>22</td>\n",
       "    </tr>\n",
       "    <tr>\n",
       "      <th>price</th>\n",
       "      <td>13495</td>\n",
       "      <td>16500</td>\n",
       "      <td>16500</td>\n",
       "      <td>13950</td>\n",
       "      <td>17450</td>\n",
       "    </tr>\n",
       "  </tbody>\n",
       "</table>\n",
       "</div>"
      ],
      "text/plain": [
       "                             0            1            2      3      4\n",
       "symboling                    3            3            1      2      2\n",
       "normalized-losses            ?            ?            ?    164    164\n",
       "make               alfa-romero  alfa-romero  alfa-romero   audi   audi\n",
       "fuel-type                  gas          gas          gas    gas    gas\n",
       "aspiration                 std          std          std    std    std\n",
       "num-of-doors               two          two          two   four   four\n",
       "body-style         convertible  convertible    hatchback  sedan  sedan\n",
       "drive-wheels               rwd          rwd          rwd    fwd    4wd\n",
       "engine-location          front        front        front  front  front\n",
       "wheel-base                88.6         88.6         94.5   99.8   99.4\n",
       "length                   168.8        168.8        171.2  176.6  176.6\n",
       "width                     64.1         64.1         65.5   66.2   66.4\n",
       "height                    48.8         48.8         52.4   54.3   54.3\n",
       "curb-weight               2548         2548         2823   2337   2824\n",
       "engine-type               dohc         dohc         ohcv    ohc    ohc\n",
       "num-of-cylinders          four         four          six   four   five\n",
       "engine-size                130          130          152    109    136\n",
       "fuel-system               mpfi         mpfi         mpfi   mpfi   mpfi\n",
       "bore                      3.47         3.47         2.68   3.19   3.19\n",
       "stroke                    2.68         2.68         3.47    3.4    3.4\n",
       "compression-ratio          9.0          9.0          9.0   10.0    8.0\n",
       "horsepower                 111          111          154    102    115\n",
       "peak-rpm                  5000         5000         5000   5500   5500\n",
       "city-mpg                    21           21           19     24     18\n",
       "highway-mpg                 27           27           26     30     22\n",
       "price                    13495        16500        16500  13950  17450"
      ]
     },
     "execution_count": 9,
     "metadata": {},
     "output_type": "execute_result"
    }
   ],
   "source": [
    "df.head().T"
   ]
  },
  {
   "cell_type": "code",
   "execution_count": 11,
   "metadata": {},
   "outputs": [
    {
     "name": "stdout",
     "output_type": "stream",
     "text": [
      "<class 'pandas.core.frame.DataFrame'>\n",
      "RangeIndex: 205 entries, 0 to 204\n",
      "Data columns (total 26 columns):\n",
      " #   Column             Non-Null Count  Dtype  \n",
      "---  ------             --------------  -----  \n",
      " 0   symboling          205 non-null    int64  \n",
      " 1   normalized-losses  205 non-null    object \n",
      " 2   make               205 non-null    object \n",
      " 3   fuel-type          205 non-null    object \n",
      " 4   aspiration         205 non-null    object \n",
      " 5   num-of-doors       205 non-null    object \n",
      " 6   body-style         205 non-null    object \n",
      " 7   drive-wheels       205 non-null    object \n",
      " 8   engine-location    205 non-null    object \n",
      " 9   wheel-base         205 non-null    float64\n",
      " 10  length             205 non-null    float64\n",
      " 11  width              205 non-null    float64\n",
      " 12  height             205 non-null    float64\n",
      " 13  curb-weight        205 non-null    int64  \n",
      " 14  engine-type        205 non-null    object \n",
      " 15  num-of-cylinders   205 non-null    object \n",
      " 16  engine-size        205 non-null    int64  \n",
      " 17  fuel-system        205 non-null    object \n",
      " 18  bore               205 non-null    object \n",
      " 19  stroke             205 non-null    object \n",
      " 20  compression-ratio  205 non-null    float64\n",
      " 21  horsepower         205 non-null    object \n",
      " 22  peak-rpm           205 non-null    object \n",
      " 23  city-mpg           205 non-null    int64  \n",
      " 24  highway-mpg        205 non-null    int64  \n",
      " 25  price              205 non-null    object \n",
      "dtypes: float64(5), int64(5), object(16)\n",
      "memory usage: 41.8+ KB\n"
     ]
    }
   ],
   "source": [
    "df.info()"
   ]
  },
  {
   "cell_type": "code",
   "execution_count": 13,
   "metadata": {},
   "outputs": [
    {
     "data": {
      "text/plain": [
       "Index(['symboling', 'normalized-losses', 'make', 'fuel-type', 'aspiration',\n",
       "       'num-of-doors', 'body-style', 'drive-wheels', 'engine-location',\n",
       "       'wheel-base', 'length', 'width', 'height', 'curb-weight', 'engine-type',\n",
       "       'num-of-cylinders', 'engine-size', 'fuel-system', 'bore', 'stroke',\n",
       "       'compression-ratio', 'horsepower', 'peak-rpm', 'city-mpg',\n",
       "       'highway-mpg', 'price'],\n",
       "      dtype='object')"
      ]
     },
     "execution_count": 13,
     "metadata": {},
     "output_type": "execute_result"
    }
   ],
   "source": [
    "df.columns"
   ]
  },
  {
   "cell_type": "code",
   "execution_count": 14,
   "metadata": {},
   "outputs": [],
   "source": [
    "df.drop(['make','aspiration','fuel-type','num-of-doors','body-style','drive-wheels','engine-location',\n",
    "        'engine-type','fuel-system','normalized-losses'],axis = 1, inplace=True)"
   ]
  },
  {
   "cell_type": "code",
   "execution_count": null,
   "metadata": {},
   "outputs": [],
   "source": []
  },
  {
   "cell_type": "code",
   "execution_count": 17,
   "metadata": {},
   "outputs": [],
   "source": [
    "df.replace({'?':np.nan},inplace = True)\n",
    "df['bore'].fillna(df['bore'].median(),inplace= True)\n",
    "df['stroke'].fillna(df['stroke'].median(),inplace= True)\n",
    "df['horsepower'].fillna(df['horsepower'].median(),inplace= True)\n",
    "df['peak-rpm'].fillna(df['peak-rpm'].median(),inplace= True)\n",
    "df['price'].fillna(df['price'].median(),inplace= True)\n"
   ]
  },
  {
   "cell_type": "code",
   "execution_count": 19,
   "metadata": {},
   "outputs": [],
   "source": [
    "df['bore'] = df['bore'].astype(float)\n",
    "df['stroke'] = df['stroke'].astype(float)\n",
    "df['horsepower'] = df['horsepower'].astype(float)\n",
    "df['peak-rpm'] = df['peak-rpm'].astype(float)\n",
    "df['price'] = df['price'].astype(float)\n"
   ]
  },
  {
   "cell_type": "code",
   "execution_count": 20,
   "metadata": {},
   "outputs": [],
   "source": [
    "df['num-of-cylinders'].replace({'four':4, 'six':6, 'five':5, 'three':3, 'twelve':12, \n",
    "                                'two':2, 'eight':8},inplace = True)"
   ]
  },
  {
   "cell_type": "code",
   "execution_count": 22,
   "metadata": {},
   "outputs": [
    {
     "name": "stdout",
     "output_type": "stream",
     "text": [
      "<class 'pandas.core.frame.DataFrame'>\n",
      "RangeIndex: 205 entries, 0 to 204\n",
      "Data columns (total 16 columns):\n",
      " #   Column             Non-Null Count  Dtype  \n",
      "---  ------             --------------  -----  \n",
      " 0   symboling          205 non-null    int64  \n",
      " 1   wheel-base         205 non-null    float64\n",
      " 2   length             205 non-null    float64\n",
      " 3   width              205 non-null    float64\n",
      " 4   height             205 non-null    float64\n",
      " 5   curb-weight        205 non-null    int64  \n",
      " 6   num-of-cylinders   205 non-null    int64  \n",
      " 7   engine-size        205 non-null    int64  \n",
      " 8   bore               205 non-null    float64\n",
      " 9   stroke             205 non-null    float64\n",
      " 10  compression-ratio  205 non-null    float64\n",
      " 11  horsepower         205 non-null    float64\n",
      " 12  peak-rpm           205 non-null    float64\n",
      " 13  city-mpg           205 non-null    int64  \n",
      " 14  highway-mpg        205 non-null    int64  \n",
      " 15  price              205 non-null    float64\n",
      "dtypes: float64(10), int64(6)\n",
      "memory usage: 25.8 KB\n"
     ]
    }
   ],
   "source": [
    "df.info()"
   ]
  },
  {
   "cell_type": "markdown",
   "metadata": {},
   "source": [
    "# Train Test Split"
   ]
  },
  {
   "cell_type": "code",
   "execution_count": 26,
   "metadata": {},
   "outputs": [
    {
     "data": {
      "text/plain": [
       "160     7738.0\n",
       "98      8249.0\n",
       "127    34028.0\n",
       "47     32250.0\n",
       "91      6649.0\n",
       "        ...   \n",
       "113    16695.0\n",
       "64     11245.0\n",
       "15     30760.0\n",
       "125    22018.0\n",
       "9      10295.0\n",
       "Name: price, Length: 164, dtype: float64"
      ]
     },
     "execution_count": 26,
     "metadata": {},
     "output_type": "execute_result"
    }
   ],
   "source": [
    "x = df.drop('price',axis = 1)\n",
    "y = df['price']\n",
    "x_train,x_test, y_train, y_test = train_test_split(x,y,test_size=0.2,random_state=10)\n",
    "y_train"
   ]
  },
  {
   "cell_type": "markdown",
   "metadata": {},
   "source": [
    "# Model TRaining"
   ]
  },
  {
   "cell_type": "code",
   "execution_count": 43,
   "metadata": {},
   "outputs": [
    {
     "data": {
      "text/plain": [
       "DecisionTreeRegressor(min_samples_leaf=10, min_samples_split=15)"
      ]
     },
     "execution_count": 43,
     "metadata": {},
     "output_type": "execute_result"
    }
   ],
   "source": [
    "dt_reg_model = DecisionTreeRegressor(min_samples_split=15,\n",
    "                            min_samples_leaf=10)\n",
    "dt_reg_model.fit(x_train, y_train)"
   ]
  },
  {
   "cell_type": "markdown",
   "metadata": {},
   "source": [
    "# Evaluation"
   ]
  },
  {
   "cell_type": "code",
   "execution_count": 41,
   "metadata": {},
   "outputs": [
    {
     "name": "stdout",
     "output_type": "stream",
     "text": [
      "Mean Squared Value : 22694925.502211247\n",
      "Root Mean Squared Value : 4763.919132627174\n",
      "Mean Absolute Error is  2735.617180205415\n",
      "R squared value is : 0.4872685539336662\n"
     ]
    }
   ],
   "source": [
    "# Test Data Accuracy \n",
    "y_pred = dt_reg_model.predict(x_test)\n",
    "y_pred\n",
    "\n",
    "mse = mean_squared_error(y_test, y_pred)\n",
    "print(\"Mean Squared Value :\",mse)\n",
    "\n",
    "rmse = np.sqrt(mse)\n",
    "print(\"Root Mean Squared Value :\",rmse)\n",
    "\n",
    "mae = mean_absolute_error(y_test, y_pred)\n",
    "print(\"Mean Absolute Error is \",mae)\n",
    "\n",
    "r2_value = r2_score(y_test, y_pred)\n",
    "print('R squared value is :',r2_value)"
   ]
  },
  {
   "cell_type": "code",
   "execution_count": 42,
   "metadata": {},
   "outputs": [
    {
     "name": "stdout",
     "output_type": "stream",
     "text": [
      "Mean Squared Value : 5746585.433388844\n",
      "Root Mean Squared Value : 2397.2036695676993\n",
      "R squared value is : 0.9131143091894993\n"
     ]
    }
   ],
   "source": [
    "# Train Data Accuracy \n",
    "\n",
    "y_pred_train = dt_reg_model.predict(x_train)\n",
    "y_pred_train\n",
    "\n",
    "mse = mean_squared_error(y_train, y_pred_train)\n",
    "print(\"Mean Squared Value :\",mse)\n",
    "\n",
    "rmse = np.sqrt(mse)\n",
    "print(\"Root Mean Squared Value :\",rmse)\n",
    "\n",
    "r2_value = r2_score(y_train, y_pred_train)\n",
    "print('R squared value is :',r2_value)"
   ]
  },
  {
   "cell_type": "code",
   "execution_count": null,
   "metadata": {},
   "outputs": [],
   "source": []
  },
  {
   "cell_type": "code",
   "execution_count": null,
   "metadata": {},
   "outputs": [],
   "source": [
    "# Train Data Accuracy"
   ]
  }
 ],
 "metadata": {
  "kernelspec": {
   "display_name": "Python 3",
   "language": "python",
   "name": "python3"
  },
  "language_info": {
   "codemirror_mode": {
    "name": "ipython",
    "version": 3
   },
   "file_extension": ".py",
   "mimetype": "text/x-python",
   "name": "python",
   "nbconvert_exporter": "python",
   "pygments_lexer": "ipython3",
   "version": "3.7.3"
  }
 },
 "nbformat": 4,
 "nbformat_minor": 5
}
