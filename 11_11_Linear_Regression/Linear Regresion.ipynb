{
 "cells": [
  {
   "cell_type": "markdown",
   "metadata": {},
   "source": [
    "# Linear Regression"
   ]
  },
  {
   "cell_type": "raw",
   "metadata": {},
   "source": [
    "It is predictive model used to find inear relationship between dependent variable and one or more independent variables\n",
    "\n",
    "\n",
    "y = mx + c >> Linear Model\n",
    "y = m1x1 + m2x2 + ... mNxN + c\n",
    "\n",
    "y >> Dependent variable\n",
    "x >> Independent variables\n",
    "m >> slope \n",
    "c >> intercept\n",
    "\n",
    "Dependent variable >> continuous \n",
    "Independent variables >> continuous or discrete\n",
    "\n",
    "Aim: To predict a dependent variable(Y) based on given independent variables(X)"
   ]
  },
  {
   "cell_type": "code",
   "execution_count": null,
   "metadata": {},
   "outputs": [],
   "source": [
    "Two types of Linear Regression:\n",
    "    1. Simple Linear regression(Only one independent variable)\n",
    "    2. Multiple Linear regression(two or more independent variables)"
   ]
  },
  {
   "cell_type": "raw",
   "metadata": {},
   "source": [
    "Assumptions of Linear Regression:\n",
    "    1. Linearity: \n",
    "        There should be linear relationship between dependent variable(Y) and independent variable(X)\n",
    "        \n",
    "    2. No Multicolinearity(Independence):\n",
    "        All the independent variables are independent to each other\n",
    "        There should not be linear relationship between independent variables(X1 and X2)\n",
    "    \n",
    "    3. Normality of residual(Ya-Yp):\n",
    "    \n",
    "    4. Homoscedasticity"
   ]
  },
  {
   "cell_type": "markdown",
   "metadata": {},
   "source": [
    "# Coefficient of correlation"
   ]
  },
  {
   "cell_type": "code",
   "execution_count": null,
   "metadata": {},
   "outputs": [],
   "source": [
    "R-Value\n",
    "\n",
    "Range >> -1 to +1\n",
    "Positive correlation >> R == +1\n",
    "Negative Correlation >> R == -1\n",
    "No Correlation       >> R == 0\n",
    "\n",
    "Good Predictors >> R > 0.7 or R < -0.7 \n",
    "Bad Predictors >> -0.3 < R < 0.3   (-0.2, -0.1, 0, 0.1, 0.2, 0.3)"
   ]
  },
  {
   "cell_type": "code",
   "execution_count": 4,
   "metadata": {},
   "outputs": [
    {
     "data": {
      "text/html": [
       "<div>\n",
       "<style scoped>\n",
       "    .dataframe tbody tr th:only-of-type {\n",
       "        vertical-align: middle;\n",
       "    }\n",
       "\n",
       "    .dataframe tbody tr th {\n",
       "        vertical-align: top;\n",
       "    }\n",
       "\n",
       "    .dataframe thead th {\n",
       "        text-align: right;\n",
       "    }\n",
       "</style>\n",
       "<table border=\"1\" class=\"dataframe\">\n",
       "  <thead>\n",
       "    <tr style=\"text-align: right;\">\n",
       "      <th></th>\n",
       "    </tr>\n",
       "  </thead>\n",
       "  <tbody>\n",
       "  </tbody>\n",
       "</table>\n",
       "</div>"
      ],
      "text/plain": [
       "Empty DataFrame\n",
       "Columns: []\n",
       "Index: []"
      ]
     },
     "execution_count": 4,
     "metadata": {},
     "output_type": "execute_result"
    }
   ],
   "source": [
    "import pandas as pd\n",
    "df = pd.DataFrame()\n",
    "df.corr()"
   ]
  }
 ],
 "metadata": {
  "kernelspec": {
   "display_name": "Python 3",
   "language": "python",
   "name": "python3"
  },
  "language_info": {
   "codemirror_mode": {
    "name": "ipython",
    "version": 3
   },
   "file_extension": ".py",
   "mimetype": "text/x-python",
   "name": "python",
   "nbconvert_exporter": "python",
   "pygments_lexer": "ipython3",
   "version": "3.7.3"
  }
 },
 "nbformat": 4,
 "nbformat_minor": 5
}
