{
 "cells": [
  {
   "cell_type": "markdown",
   "metadata": {},
   "source": [
    "# K-Nearest Neighbors"
   ]
  },
  {
   "cell_type": "code",
   "execution_count": null,
   "metadata": {},
   "outputs": [],
   "source": []
  },
  {
   "cell_type": "markdown",
   "metadata": {},
   "source": [
    "# Scaling "
   ]
  },
  {
   "cell_type": "code",
   "execution_count": null,
   "metadata": {},
   "outputs": [],
   "source": [
    "1. K nearest Neighbors \n",
    "2. K-means clustering\n",
    "3. Support Vector Machine\n",
    "4. Linear Model:\n",
    "    Linear Regression\n",
    "    Logistic Regression\n",
    "    \n"
   ]
  },
  {
   "cell_type": "markdown",
   "metadata": {},
   "source": [
    "# Scaling "
   ]
  },
  {
   "cell_type": "raw",
   "metadata": {},
   "source": [
    "To scale all numeric features into the same scale(0 to 1)\n",
    "(-1 to +1)\n",
    "\n",
    "Different Units:\n",
    "feet\n",
    "cm\n",
    "meter\n",
    "\n",
    "Height\n",
    "6  feet \n",
    "180 cm\n",
    "1.8 m\n",
    "\n",
    "bal(k)\t        util\n",
    "28.854\t    52.1\n",
    "33.523\t    96.7\n",
    "3511\t    25.6\n",
    "33667\t    73.2\n",
    "\n",
    "4740 \t    39.5\n",
    "\n",
    "33.523\t    96.7   >> 28783\n",
    "33.667\t    73.2   >> 28927    >> "
   ]
  },
  {
   "cell_type": "code",
   "execution_count": 5,
   "metadata": {},
   "outputs": [
    {
     "data": {
      "text/plain": [
       "4706.824576243414"
      ]
     },
     "execution_count": 5,
     "metadata": {},
     "output_type": "execute_result"
    }
   ],
   "source": [
    "import numpy as np\n",
    "(((33.523 - 4740) ** 2) + ((96.7 -39.5) ** 2)) ** 0.5"
   ]
  },
  {
   "cell_type": "code",
   "execution_count": 6,
   "metadata": {},
   "outputs": [
    {
     "data": {
      "text/plain": [
       "4706.453653961654"
      ]
     },
     "execution_count": 6,
     "metadata": {},
     "output_type": "execute_result"
    }
   ],
   "source": [
    "(((33.667 - 4740) ** 2) + ((73.2 -39.5) ** 2)) ** 0.5"
   ]
  },
  {
   "cell_type": "code",
   "execution_count": null,
   "metadata": {},
   "outputs": [],
   "source": [
    "\n",
    "Scaling will be used only on independent variables\n",
    "\n",
    "1. Normalization\n",
    "2. Standardization\n",
    "\n",
    " 1 to 176 \n",
    " 0 to 1\n",
    " "
   ]
  },
  {
   "cell_type": "code",
   "execution_count": null,
   "metadata": {},
   "outputs": [],
   "source": [
    "No hard and fast rule to use Standardization and Normalization\n",
    "\n",
    "Standardization = (X - Xmean)/std  = zscore\n",
    "If data is normally distributed we can use Standardization\n",
    "K-means clustering >> Standardization\n",
    "\n",
    "\n",
    "\n",
    "Normalization = (X - Xmin)/(Xmax - Xmin)\n",
    "K nearest Neighbors   >> Normalization\n",
    "\n",
    "Do not use scaling on One Hot encoded Columns\n",
    "\n"
   ]
  },
  {
   "cell_type": "markdown",
   "metadata": {},
   "source": [
    "# Adavantages"
   ]
  },
  {
   "cell_type": "code",
   "execution_count": null,
   "metadata": {},
   "outputs": [],
   "source": [
    "1. Easy to understand\n",
    "2. Regression as well as classification\n",
    "3. Non-Paramtric (No assumption on data)\n",
    "4. Work well on Non-linear"
   ]
  },
  {
   "cell_type": "markdown",
   "metadata": {},
   "source": [
    "# Disadvantages"
   ]
  },
  {
   "cell_type": "raw",
   "metadata": {},
   "source": [
    "1. Lazy Learner >> Computation cost is very high\n",
    "It stores all trainig daatpoints\n",
    "2. feature Scaling is required\n",
    "3. Does not work well with large dataset\n",
    "4. Does not work well with high dimensions(Difficult for algorithm to calculate distance in each dimension)\n",
    "5. Sensitive to Outliers\n",
    "6. Always need to find value of k"
   ]
  },
  {
   "cell_type": "code",
   "execution_count": null,
   "metadata": {},
   "outputs": [],
   "source": []
  }
 ],
 "metadata": {
  "kernelspec": {
   "display_name": "Python 3",
   "language": "python",
   "name": "python3"
  },
  "language_info": {
   "codemirror_mode": {
    "name": "ipython",
    "version": 3
   },
   "file_extension": ".py",
   "mimetype": "text/x-python",
   "name": "python",
   "nbconvert_exporter": "python",
   "pygments_lexer": "ipython3",
   "version": "3.7.3"
  }
 },
 "nbformat": 4,
 "nbformat_minor": 5
}
