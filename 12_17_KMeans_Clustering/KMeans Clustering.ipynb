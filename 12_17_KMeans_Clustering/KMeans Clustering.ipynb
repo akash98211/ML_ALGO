{
 "cells": [
  {
   "cell_type": "markdown",
   "metadata": {},
   "source": [
    "# KMeans Clustering"
   ]
  },
  {
   "cell_type": "code",
   "execution_count": null,
   "metadata": {},
   "outputs": [],
   "source": [
    "Kmeans is an unsupervised Machine Learning Algorithm\n",
    "\n",
    "Similar properties of datapoints (find Homogeneous subgroups within data)\n",
    "Centroid based algorithm\n",
    "\n",
    "We do not have ground truth(target) values, so we can not evaluate model accuracy\n",
    "Feature Scaling is required"
   ]
  },
  {
   "cell_type": "markdown",
   "metadata": {},
   "source": [
    "# Kmeans Algorithm Steps:"
   ]
  },
  {
   "cell_type": "raw",
   "metadata": {},
   "source": [
    "1. Select the value of k(Number of cluster or Centroid) k=2\n",
    "2. Select Random 2 Centroids\n",
    "3. Calculate distance between centroids and all datapoints\n",
    "4. Assign each datapoints to its closest centroid\n",
    "5. Update the value of centroid>> Mean of clusters datapoints\n",
    "6. Keep iterating untill there is no change in centroid value or (no movement of datapoints between clusters)"
   ]
  },
  {
   "cell_type": "code",
   "execution_count": null,
   "metadata": {},
   "outputs": [],
   "source": []
  }
 ],
 "metadata": {
  "kernelspec": {
   "display_name": "Python 3",
   "language": "python",
   "name": "python3"
  },
  "language_info": {
   "codemirror_mode": {
    "name": "ipython",
    "version": 3
   },
   "file_extension": ".py",
   "mimetype": "text/x-python",
   "name": "python",
   "nbconvert_exporter": "python",
   "pygments_lexer": "ipython3",
   "version": "3.7.3"
  }
 },
 "nbformat": 4,
 "nbformat_minor": 5
}
