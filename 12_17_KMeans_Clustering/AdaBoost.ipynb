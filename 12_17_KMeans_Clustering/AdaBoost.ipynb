{
 "cells": [
  {
   "cell_type": "code",
   "execution_count": null,
   "id": "looking-sunday",
   "metadata": {},
   "outputs": [],
   "source": [
    "Dataset:\n",
    "    1. Initialize wgt (1/(number of samples))\n",
    "    2. Best Stumps:\n",
    "        1. Use Gini Index\n",
    "        2. Lowest GI\n",
    "    3. Total Error(TE)\n",
    "    4. Performance \n",
    "    5. New Sample Weight >> old sample * e^ -performance\n",
    "        New Sample Weight >> old sample * e^ performance\n",
    "\n",
    "    6. Normalize weight (wt/sum_all sample wgt)\n",
    "    7. Create Buckets\n",
    "    \n",
    "    8. Select random values between 0 to 1"
   ]
  }
 ],
 "metadata": {
  "kernelspec": {
   "display_name": "Python 3",
   "language": "python",
   "name": "python3"
  },
  "language_info": {
   "codemirror_mode": {
    "name": "ipython",
    "version": 3
   },
   "file_extension": ".py",
   "mimetype": "text/x-python",
   "name": "python",
   "nbconvert_exporter": "python",
   "pygments_lexer": "ipython3",
   "version": "3.8.7"
  }
 },
 "nbformat": 4,
 "nbformat_minor": 5
}
