{
 "cells": [
  {
   "cell_type": "code",
   "execution_count": null,
   "metadata": {},
   "outputs": [],
   "source": [
    "Feature Selection\n",
    "Hypothesis Testing\n",
    "\n",
    "Support Vector Machine\n",
    "Naive Bayes Classifier\n",
    "Natural Language Processing()\n",
    "Deep Learning\n",
    "\n",
    "\n",
    "1M to 1.5M\n",
    "10 Lakh to 15Lakh\n",
    "\n",
    "40 to 50 features\n",
    "\n",
    "10 features\n",
    "45 >> 200\n",
    "\n",
    "dti >> 100\n",
    "\n",
    "OneHot\n",
    "Label\n",
    "Missing:\n",
    "    30% \n",
    "    Categorical >> Mode\n",
    "    Numerical  >> mean, median\n",
    "    \n",
    "Outliers(zscore,IQR)  > 2:\n",
    "    imputation\n",
    "    \n",
    "Scaling:\n",
    "    NOrmalization\n",
    "    Standardization\n",
    "\n",
    "Finance:\n",
    "    finance\n",
    "    insurence\n",
    "    automobile(invoice)"
   ]
  }
 ],
 "metadata": {
  "kernelspec": {
   "display_name": "Python 3",
   "language": "python",
   "name": "python3"
  },
  "language_info": {
   "codemirror_mode": {
    "name": "ipython",
    "version": 3
   },
   "file_extension": ".py",
   "mimetype": "text/x-python",
   "name": "python",
   "nbconvert_exporter": "python",
   "pygments_lexer": "ipython3",
   "version": "3.7.3"
  }
 },
 "nbformat": 4,
 "nbformat_minor": 5
}
