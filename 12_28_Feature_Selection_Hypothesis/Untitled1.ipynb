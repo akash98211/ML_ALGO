{
 "cells": [
  {
   "cell_type": "markdown",
   "metadata": {},
   "source": [
    "# Hypothesis Testing"
   ]
  },
  {
   "cell_type": "code",
   "execution_count": null,
   "metadata": {},
   "outputs": [],
   "source": [
    "Normality Test:\n",
    "    Shapiro\n",
    "    NormalTest\n",
    "    KSTest\n",
    "    \n",
    "Chi_Square Test\n",
    "ANOVA TEST\n",
    "\n",
    "T-Test\n",
    "Z-Test"
   ]
  },
  {
   "cell_type": "markdown",
   "metadata": {},
   "source": [
    "# T-Test"
   ]
  },
  {
   "cell_type": "code",
   "execution_count": null,
   "metadata": {},
   "outputs": [],
   "source": [
    "If number of samples are less than 30\n",
    "\n",
    "Mean is equal to 35\n"
   ]
  },
  {
   "cell_type": "code",
   "execution_count": 2,
   "metadata": {},
   "outputs": [],
   "source": [
    "import pandas as pd\n",
    "import numpy as np"
   ]
  },
  {
   "cell_type": "code",
   "execution_count": 4,
   "metadata": {},
   "outputs": [
    {
     "data": {
      "text/plain": [
       "29.36158249158249"
      ]
     },
     "execution_count": 4,
     "metadata": {},
     "output_type": "execute_result"
    }
   ],
   "source": [
    "df = pd.read_csv('titanic.csv')\n",
    "df['Gender'].replace({'male':0,'female':1},inplace = True)\n",
    "df['Age'].fillna(df['Age'].median(),inplace = True)\n",
    "df1 = df[['Survived','Pclass','Gender','Age','SibSp','Parch','Fare']]\n",
    "# df1.info()\n",
    "x = df1.drop('Survived',axis = 1)\n",
    "y = df1['Survived']\n",
    "df['Age'].mean()"
   ]
  },
  {
   "cell_type": "code",
   "execution_count": 9,
   "metadata": {},
   "outputs": [
    {
     "name": "stdout",
     "output_type": "stream",
     "text": [
      "29.36158249158249\n"
     ]
    },
    {
     "data": {
      "text/plain": [
       "0.9971060134179537"
      ]
     },
     "execution_count": 9,
     "metadata": {},
     "output_type": "execute_result"
    }
   ],
   "source": [
    "from scipy.stats import ttest_1samp\n",
    "print(df['Age'].mean())\n",
    "_, p_val = ttest_1samp(df['Age'],29.36)\n",
    "p_val"
   ]
  },
  {
   "cell_type": "code",
   "execution_count": 14,
   "metadata": {},
   "outputs": [
    {
     "name": "stdout",
     "output_type": "stream",
     "text": [
      "29.36158249158249\n"
     ]
    },
    {
     "data": {
      "text/plain": [
       "3.724326416969065e-35"
      ]
     },
     "execution_count": 14,
     "metadata": {},
     "output_type": "execute_result"
    }
   ],
   "source": [
    "print(df['Age'].mean())\n",
    "_, p_val = ttest_1samp(df['Age'],35)\n",
    "p_val"
   ]
  },
  {
   "cell_type": "markdown",
   "metadata": {},
   "source": [
    "# Z-Test"
   ]
  },
  {
   "cell_type": "raw",
   "metadata": {},
   "source": [
    "If number of samples are greater than 30\n",
    "One sample test"
   ]
  },
  {
   "cell_type": "code",
   "execution_count": 22,
   "metadata": {},
   "outputs": [
    {
     "name": "stdout",
     "output_type": "stream",
     "text": [
      "29.36158249158249\n"
     ]
    },
    {
     "data": {
      "text/plain": [
       "(0.0036281012489177843, 0.9971052003792255)"
      ]
     },
     "execution_count": 22,
     "metadata": {},
     "output_type": "execute_result"
    }
   ],
   "source": [
    "from statsmodels.stats.weightstats import ztest\n",
    "print(df['Age'].mean())\n",
    "\n",
    "p_val = ztest(df['Age'],value = 29.36)\n",
    "p_val"
   ]
  },
  {
   "cell_type": "code",
   "execution_count": 28,
   "metadata": {},
   "outputs": [
    {
     "name": "stdout",
     "output_type": "stream",
     "text": [
      "29.36158249158249\n"
     ]
    },
    {
     "data": {
      "text/plain": [
       "1.0"
      ]
     },
     "execution_count": 28,
     "metadata": {},
     "output_type": "execute_result"
    }
   ],
   "source": [
    "from statsmodels.stats.weightstats import ztest\n",
    "print(df['Age'].mean())\n",
    "\n",
    "_ ,p_val = ztest(df['Age'],value = df['Age'].mean())\n",
    "p_val"
   ]
  },
  {
   "cell_type": "code",
   "execution_count": null,
   "metadata": {},
   "outputs": [],
   "source": [
    "Type-I Error (FP)\n",
    "Type-II Error (FN)\n",
    "\n",
    "TP FP\n",
    "FN TN\n",
    "\n",
    "FP >> When a true Null hypothesis is Rejected due to lack of evidence\n",
    "FN >> When a False Hypothesis is selected\n",
    "\n",
    "False Negative:\n",
    "    Actual >> Positive\n",
    "    Predicted >> Negative\n",
    "    \n",
    "False Positive:\n",
    "    Actual >> Negative\n",
    "    Predicted >> Positive"
   ]
  }
 ],
 "metadata": {
  "kernelspec": {
   "display_name": "Python 3",
   "language": "python",
   "name": "python3"
  },
  "language_info": {
   "codemirror_mode": {
    "name": "ipython",
    "version": 3
   },
   "file_extension": ".py",
   "mimetype": "text/x-python",
   "name": "python",
   "nbconvert_exporter": "python",
   "pygments_lexer": "ipython3",
   "version": "3.7.3"
  }
 },
 "nbformat": 4,
 "nbformat_minor": 5
}
