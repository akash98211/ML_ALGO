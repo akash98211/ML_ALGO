{
 "cells": [
  {
   "cell_type": "markdown",
   "metadata": {
    "id": "czech-democracy"
   },
   "source": [
    "# Data Science"
   ]
  },
  {
   "cell_type": "raw",
   "metadata": {
    "id": "generic-picnic"
   },
   "source": [
    "It is process of extracting knowledge and insights from data by using scientific methods"
   ]
  },
  {
   "cell_type": "code",
   "execution_count": null,
   "metadata": {
    "id": "wrapped-awareness"
   },
   "outputs": [],
   "source": [
    "# Scientific Methods\n",
    "1. Machine Learning(CSV, Excel, MongoDB, SQLite)\n",
    "2. Deep Learning(images)\n",
    "3. Natural Language Processing(text)\n",
    "4. Statistics\n",
    "5. Data Visualization(seaborn, matplotlib, pandas)"
   ]
  },
  {
   "cell_type": "code",
   "execution_count": null,
   "metadata": {
    "id": "loaded-discharge"
   },
   "outputs": [],
   "source": [
    "Data:\n",
    "    1. Structured format(csv, excel)\n",
    "    2. Unstructured (images, videos, text, audio, pdf, tiff) \n",
    "    3. Semistructured(JSON, HTML)\n"
   ]
  },
  {
   "cell_type": "markdown",
   "metadata": {
    "id": "independent-fluid"
   },
   "source": [
    "# Machine Learning"
   ]
  },
  {
   "cell_type": "raw",
   "metadata": {
    "id": "unusual-circuit"
   },
   "source": [
    "Training data\n",
    "Testing Data(unseen)\n"
   ]
  },
  {
   "cell_type": "markdown",
   "metadata": {
    "id": "inclusive-title"
   },
   "source": [
    "# Real world application of machine learning"
   ]
  },
  {
   "cell_type": "code",
   "execution_count": null,
   "metadata": {
    "id": "intimate-engineer"
   },
   "outputs": [],
   "source": [
    "1. Medical field(cancer, covid,  diabetes )\n",
    "2. House Price Prediction\n",
    "3. Stock Price\n",
    "4. Financial Domain(Approved/ Declined) , (High risk, Medium, Low)\n",
    "5. Handwritten Char recognition\n",
    "6. Sentiment Analysis (Happy/sad, Positive/Negative, Good/Bad, Spam/Not Spam)\n",
    "7. ChatBot(Amazon, Flipkart)\n",
    "8. Weather Prediction\n",
    "9. Speech Recognition\n",
    "10. Advertizing \n",
    "11. Self Driving Cars(Object detections)\n",
    "12. Insurence\n",
    "\n",
    "Health insurence:\n",
    "    discharge Summary and Invoices\n",
    "    cancer >> 5 Lakh \n",
    "    diabetes >> 10 Lakh "
   ]
  },
  {
   "cell_type": "markdown",
   "metadata": {
    "id": "substantial-brunswick"
   },
   "source": [
    "# Types of Machine Learning"
   ]
  },
  {
   "cell_type": "code",
   "execution_count": null,
   "metadata": {
    "id": "greater-headline"
   },
   "outputs": [],
   "source": [
    "1. Supervised ML(Labelled Data)\n",
    "2. Unsupervised ML\n",
    "3. Reinforcement ML"
   ]
  },
  {
   "cell_type": "code",
   "execution_count": null,
   "metadata": {
    "id": "existing-ontario"
   },
   "outputs": [],
   "source": [
    "variables/ Features\n",
    "\n",
    "Input Variables / Independent Variable / Predictors\n",
    "Output Variable / Dependent Variable / Target Variable"
   ]
  },
  {
   "cell_type": "markdown",
   "metadata": {
    "id": "immediate-healing"
   },
   "source": [
    "## 1. Supervised ML(Labelled Data)"
   ]
  },
  {
   "cell_type": "code",
   "execution_count": null,
   "metadata": {
    "id": "later-hurricane"
   },
   "outputs": [],
   "source": [
    "Data is labelled \n",
    "input variable and output variable\n",
    "independent variables and dependent variable\n",
    "\n",
    "\n",
    "1. Classification:(Target column contain only discrete values)\n",
    "    1. Binary Classification:\n",
    "        Yes or No\n",
    "        True or False\n",
    "        Approved or Declined\n",
    "        Spam or Not Spam\n",
    "        Good or Bad\n",
    "        \n",
    "    2. Multiclass Classification:\n",
    "        High Risk / Medium Risk/ Low Risk\n",
    "        Iris-setosa / Iris-versicolor / Iris-virginica\n",
    "\n",
    "2. Regression:(Continuous values in target column)\n",
    "    1. House Price\n",
    "    2. cibil score(300 to 900)\n",
    "    3. share price\n",
    "    4. length\n",
    "    \n",
    "    \n",
    "* Supervised Machine Learning Algorithms:\n",
    "    1. Linear Regression( Regression)\n",
    "    2. Logistic Regression (Classification)\n",
    "    3. Naive Bayes Classifier( Classification)\n",
    "    4. Decision Tree:( Classification and Regression)\n",
    "        Decision Tree Regressor \n",
    "        Decision Tree Classifier\n",
    "    5. K-Nearest Neighbor:(classification and Regression)\n",
    "    6. Random Forest (C and R)\n",
    "    7. AdaBoost (C and R)\n",
    "    8. Gradient Boost (C and R)\n",
    "    9. XGBoost (C and R)\n",
    "    10. Support Vector Machine (C and R)\n",
    "    \n"
   ]
  },
  {
   "cell_type": "markdown",
   "metadata": {
    "id": "russian-digest"
   },
   "source": [
    "# 2. Unsupvised Machine Algorithms"
   ]
  },
  {
   "cell_type": "code",
   "execution_count": null,
   "metadata": {
    "id": "unique-coach"
   },
   "outputs": [],
   "source": [
    "Data is unlabelled \n",
    "Only independent Variables \n",
    "\n",
    "Cricket:\n",
    "           Match innigs run    wickets avg\n",
    "player1    100    95    5000    20      45  \n",
    "Player2    100    80    1000    140     10\n",
    "player3    100    90    3500    60      35\n",
    "player4\n",
    "player100\n",
    "\n",
    "Fruits:\n",
    "    Shape size color taste\n",
    "    \n",
    "    \n",
    "* Unsupevised Machine Learning Algorithms:\n",
    "    1. KMeans Clustering\n",
    "    2. Hierarchical Clustering\n",
    "    3. Princlipal Component Analysis\n",
    "    \n"
   ]
  },
  {
   "cell_type": "markdown",
   "metadata": {
    "id": "material-marketing"
   },
   "source": [
    "## 3. Reinforcemet Learning"
   ]
  },
  {
   "cell_type": "code",
   "execution_count": null,
   "metadata": {
    "id": "collectible-awareness"
   },
   "outputs": [],
   "source": [
    "Reward based Learning\n",
    "1. Self driving cars\n",
    "2. Kids: \n",
    "3. Temperature Control System\n",
    "\n",
    "Punish or Appriciations\n",
    "\n",
    "1. Environment   ( obstacles, cars, signal)\n",
    "2. Agent ( system of carcar )\n",
    "3. Reward : If car is not moving in green signal, it will negative reward\n",
    "    If car is moving in green signal, it will Postive reward\n",
    "4. Action"
   ]
  },
  {
   "cell_type": "markdown",
   "metadata": {
    "id": "thick-tulsa"
   },
   "source": [
    "# Data Science Project Steps"
   ]
  },
  {
   "cell_type": "code",
   "execution_count": null,
   "metadata": {
    "id": "suffering-liabilities"
   },
   "outputs": [],
   "source": [
    "1. Problem Statement \n",
    "2. Data Gathering: (JSON, CSV, Excel, images, vidoes,pdf, database, etc)\n",
    "3. Exploratory Data Analysis(EDA): (pandas, numpy, maptplotlib, seaborn) # 60%\n",
    "4. Feature Engineering(Scaling, Binning, Handling Outliers, Handling Missing Values)\n",
    "5. Feature Selection (Required features to train the model)\n",
    "6. Model Building/Model Training (Linear Regression, Logistic, KNN, DT, RF)\n",
    "7. Model Evaluation(MSE, Classification report, confusion matric)\n",
    "8. Project Deployment(AWS, GCP, Azure, Herokku)"
   ]
  }
 ],
 "metadata": {
  "colab": {
   "collapsed_sections": [],
   "name": "Machine Learning.ipynb",
   "provenance": [
    {
     "file_id": "128SgOvuVeqeX88eqhvePQk43JrO8bOHZ",
     "timestamp": 1636626378135
    }
   ]
  },
  "kernelspec": {
   "display_name": "Python 3",
   "language": "python",
   "name": "python3"
  },
  "language_info": {
   "codemirror_mode": {
    "name": "ipython",
    "version": 3
   },
   "file_extension": ".py",
   "mimetype": "text/x-python",
   "name": "python",
   "nbconvert_exporter": "python",
   "pygments_lexer": "ipython3",
   "version": "3.7.3"
  }
 },
 "nbformat": 4,
 "nbformat_minor": 5
}
