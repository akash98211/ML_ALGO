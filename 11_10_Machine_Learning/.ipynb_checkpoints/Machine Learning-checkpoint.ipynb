{
 "cells": [
  {
   "cell_type": "markdown",
   "id": "czech-democracy",
   "metadata": {},
   "source": [
    "# Data Science"
   ]
  },
  {
   "cell_type": "raw",
   "id": "generic-picnic",
   "metadata": {},
   "source": [
    "It is process of extracting knowledge and insights from data by using scientific methods"
   ]
  },
  {
   "cell_type": "code",
   "execution_count": null,
   "id": "wrapped-awareness",
   "metadata": {},
   "outputs": [],
   "source": [
    "# Scientific Methods\n",
    "1. Machine Learning(CSV, Excel, MongoDB, SQLite)\n",
    "2. Deep Learning(images)\n",
    "3. Natural Language Processing(text)\n",
    "4. Statistics\n",
    "5. Data Visualization(seaborn, matplotlib, pandas)"
   ]
  },
  {
   "cell_type": "code",
   "execution_count": null,
   "id": "loaded-discharge",
   "metadata": {},
   "outputs": [],
   "source": [
    "Data:\n",
    "    1. Structured format(csv, excel)\n",
    "    2. Unstructured (images, videos, text, audio, pdf, tiff) \n",
    "    3. Semistructured(JSON, HTML)\n"
   ]
  },
  {
   "cell_type": "markdown",
   "id": "independent-fluid",
   "metadata": {},
   "source": [
    "# Machine Learning"
   ]
  },
  {
   "cell_type": "raw",
   "id": "unusual-circuit",
   "metadata": {},
   "source": [
    "Training data\n",
    "Testing Data(unseen)\n"
   ]
  },
  {
   "cell_type": "markdown",
   "id": "inclusive-title",
   "metadata": {},
   "source": [
    "# Real world application of machine learning"
   ]
  },
  {
   "cell_type": "code",
   "execution_count": null,
   "id": "intimate-engineer",
   "metadata": {},
   "outputs": [],
   "source": [
    "1. Medical field(cancer, covid,  diabetes )\n",
    "2. House Price Prediction\n",
    "3. Stock Price\n",
    "4. Financial Domain(Approved/ Declined) , (High risk, Medium, Low)\n",
    "5. Handwritten Char recognition\n",
    "6. Sentiment Analysis (Happy/sad, Positive/Negative, Good/Bad, Spam/Not Spam)\n",
    "7. ChatBot(Amazon, Flipkart)\n",
    "8. Weather Prediction\n",
    "9. Speech Recognition\n",
    "10. Advertizing \n",
    "11. Self Driving Cars(Object detections)\n",
    "12. Insurence\n",
    "\n",
    "Health insurence:\n",
    "    discharge Summary and Invoices\n",
    "    cancer >> 5 Lakh \n",
    "    diabetes >> 10 Lakh \n",
    "    \n",
    "    "
   ]
  },
  {
   "cell_type": "markdown",
   "id": "substantial-brunswick",
   "metadata": {},
   "source": [
    "# Types of Machine Learning"
   ]
  },
  {
   "cell_type": "code",
   "execution_count": null,
   "id": "greater-headline",
   "metadata": {},
   "outputs": [],
   "source": [
    "1. Supervised ML(Labelled Data)\n",
    "2. Unsupervised ML\n",
    "3. Reinforcement ML"
   ]
  },
  {
   "cell_type": "code",
   "execution_count": null,
   "id": "existing-ontario",
   "metadata": {},
   "outputs": [],
   "source": [
    "variables/ Features\n",
    "\n",
    "Input Variables / Independent Variable / Predictors\n",
    "Output Variable / Dependent Variable / Target Variable"
   ]
  },
  {
   "cell_type": "markdown",
   "id": "furnished-covering",
   "metadata": {},
   "source": [
    "## 1. Supervised ML(Labelled Data)"
   ]
  },
  {
   "cell_type": "code",
   "execution_count": null,
   "id": "three-deputy",
   "metadata": {},
   "outputs": [],
   "source": []
  }
 ],
 "metadata": {
  "kernelspec": {
   "display_name": "Python 3",
   "language": "python",
   "name": "python3"
  },
  "language_info": {
   "codemirror_mode": {
    "name": "ipython",
    "version": 3
   },
   "file_extension": ".py",
   "mimetype": "text/x-python",
   "name": "python",
   "nbconvert_exporter": "python",
   "pygments_lexer": "ipython3",
   "version": "3.8.7"
  }
 },
 "nbformat": 4,
 "nbformat_minor": 5
}
