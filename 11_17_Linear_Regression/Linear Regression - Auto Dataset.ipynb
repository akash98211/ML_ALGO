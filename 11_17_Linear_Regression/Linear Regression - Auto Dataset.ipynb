{
 "cells": [
  {
   "cell_type": "code",
   "execution_count": null,
   "metadata": {
    "id": "smaller-leather"
   },
   "outputs": [],
   "source": [
    "import pandas as pd\n",
    "import numpy as np\n",
    "\n",
    "from sklearn.linear_model import LinearRegression\n",
    "from sklearn.model_selection import train_test_split\n",
    "\n",
    "from sklearn.metrics import r2_score,mean_absolute_error,mean_squared_error\n",
    "\n",
    "import matplotlib.pyplot as plt\n",
    "import seaborn as sns"
   ]
  },
  {
   "cell_type": "code",
   "execution_count": null,
   "metadata": {
    "id": "cXOlmlY6OUqN"
   },
   "outputs": [],
   "source": []
  },
  {
   "cell_type": "markdown",
   "metadata": {
    "id": "sunrise-tolerance"
   },
   "source": [
    "# 1. Problem Statement"
   ]
  },
  {
   "cell_type": "raw",
   "metadata": {
    "id": "stock-junction"
   },
   "source": [
    "[link text](https://)Predict the price of cars using various variable\n"
   ]
  },
  {
   "cell_type": "markdown",
   "metadata": {
    "id": "seventh-extra"
   },
   "source": [
    "# 2. Data Gathering"
   ]
  },
  {
   "cell_type": "markdown",
   "metadata": {
    "id": "VH8bHI1T6mrd"
   },
   "source": []
  },
  {
   "cell_type": "code",
   "execution_count": null,
   "metadata": {
    "id": "severe-sampling",
    "outputId": "07142099-844a-436b-9d41-c046bab983da"
   },
   "outputs": [
    {
     "data": {
      "text/html": [
       "<div>\n",
       "<style scoped>\n",
       "    .dataframe tbody tr th:only-of-type {\n",
       "        vertical-align: middle;\n",
       "    }\n",
       "\n",
       "    .dataframe tbody tr th {\n",
       "        vertical-align: top;\n",
       "    }\n",
       "\n",
       "    .dataframe thead th {\n",
       "        text-align: right;\n",
       "    }\n",
       "</style>\n",
       "<table border=\"1\" class=\"dataframe\">\n",
       "  <thead>\n",
       "    <tr style=\"text-align: right;\">\n",
       "      <th></th>\n",
       "      <th>0</th>\n",
       "      <th>1</th>\n",
       "      <th>2</th>\n",
       "      <th>3</th>\n",
       "      <th>4</th>\n",
       "    </tr>\n",
       "  </thead>\n",
       "  <tbody>\n",
       "    <tr>\n",
       "      <th>symboling</th>\n",
       "      <td>3</td>\n",
       "      <td>3</td>\n",
       "      <td>1</td>\n",
       "      <td>2</td>\n",
       "      <td>2</td>\n",
       "    </tr>\n",
       "    <tr>\n",
       "      <th>normalized-losses</th>\n",
       "      <td>?</td>\n",
       "      <td>?</td>\n",
       "      <td>?</td>\n",
       "      <td>164</td>\n",
       "      <td>164</td>\n",
       "    </tr>\n",
       "    <tr>\n",
       "      <th>make</th>\n",
       "      <td>alfa-romero</td>\n",
       "      <td>alfa-romero</td>\n",
       "      <td>alfa-romero</td>\n",
       "      <td>audi</td>\n",
       "      <td>audi</td>\n",
       "    </tr>\n",
       "    <tr>\n",
       "      <th>fuel-type</th>\n",
       "      <td>gas</td>\n",
       "      <td>gas</td>\n",
       "      <td>gas</td>\n",
       "      <td>gas</td>\n",
       "      <td>gas</td>\n",
       "    </tr>\n",
       "    <tr>\n",
       "      <th>aspiration</th>\n",
       "      <td>std</td>\n",
       "      <td>std</td>\n",
       "      <td>std</td>\n",
       "      <td>std</td>\n",
       "      <td>std</td>\n",
       "    </tr>\n",
       "    <tr>\n",
       "      <th>num-of-doors</th>\n",
       "      <td>two</td>\n",
       "      <td>two</td>\n",
       "      <td>two</td>\n",
       "      <td>four</td>\n",
       "      <td>four</td>\n",
       "    </tr>\n",
       "    <tr>\n",
       "      <th>body-style</th>\n",
       "      <td>convertible</td>\n",
       "      <td>convertible</td>\n",
       "      <td>hatchback</td>\n",
       "      <td>sedan</td>\n",
       "      <td>sedan</td>\n",
       "    </tr>\n",
       "    <tr>\n",
       "      <th>drive-wheels</th>\n",
       "      <td>rwd</td>\n",
       "      <td>rwd</td>\n",
       "      <td>rwd</td>\n",
       "      <td>fwd</td>\n",
       "      <td>4wd</td>\n",
       "    </tr>\n",
       "    <tr>\n",
       "      <th>engine-location</th>\n",
       "      <td>front</td>\n",
       "      <td>front</td>\n",
       "      <td>front</td>\n",
       "      <td>front</td>\n",
       "      <td>front</td>\n",
       "    </tr>\n",
       "    <tr>\n",
       "      <th>wheel-base</th>\n",
       "      <td>88.6</td>\n",
       "      <td>88.6</td>\n",
       "      <td>94.5</td>\n",
       "      <td>99.8</td>\n",
       "      <td>99.4</td>\n",
       "    </tr>\n",
       "    <tr>\n",
       "      <th>length</th>\n",
       "      <td>168.8</td>\n",
       "      <td>168.8</td>\n",
       "      <td>171.2</td>\n",
       "      <td>176.6</td>\n",
       "      <td>176.6</td>\n",
       "    </tr>\n",
       "    <tr>\n",
       "      <th>width</th>\n",
       "      <td>64.1</td>\n",
       "      <td>64.1</td>\n",
       "      <td>65.5</td>\n",
       "      <td>66.2</td>\n",
       "      <td>66.4</td>\n",
       "    </tr>\n",
       "    <tr>\n",
       "      <th>height</th>\n",
       "      <td>48.8</td>\n",
       "      <td>48.8</td>\n",
       "      <td>52.4</td>\n",
       "      <td>54.3</td>\n",
       "      <td>54.3</td>\n",
       "    </tr>\n",
       "    <tr>\n",
       "      <th>curb-weight</th>\n",
       "      <td>2548</td>\n",
       "      <td>2548</td>\n",
       "      <td>2823</td>\n",
       "      <td>2337</td>\n",
       "      <td>2824</td>\n",
       "    </tr>\n",
       "    <tr>\n",
       "      <th>engine-type</th>\n",
       "      <td>dohc</td>\n",
       "      <td>dohc</td>\n",
       "      <td>ohcv</td>\n",
       "      <td>ohc</td>\n",
       "      <td>ohc</td>\n",
       "    </tr>\n",
       "    <tr>\n",
       "      <th>num-of-cylinders</th>\n",
       "      <td>four</td>\n",
       "      <td>four</td>\n",
       "      <td>six</td>\n",
       "      <td>four</td>\n",
       "      <td>five</td>\n",
       "    </tr>\n",
       "    <tr>\n",
       "      <th>engine-size</th>\n",
       "      <td>130</td>\n",
       "      <td>130</td>\n",
       "      <td>152</td>\n",
       "      <td>109</td>\n",
       "      <td>136</td>\n",
       "    </tr>\n",
       "    <tr>\n",
       "      <th>fuel-system</th>\n",
       "      <td>mpfi</td>\n",
       "      <td>mpfi</td>\n",
       "      <td>mpfi</td>\n",
       "      <td>mpfi</td>\n",
       "      <td>mpfi</td>\n",
       "    </tr>\n",
       "    <tr>\n",
       "      <th>bore</th>\n",
       "      <td>3.47</td>\n",
       "      <td>3.47</td>\n",
       "      <td>2.68</td>\n",
       "      <td>3.19</td>\n",
       "      <td>3.19</td>\n",
       "    </tr>\n",
       "    <tr>\n",
       "      <th>stroke</th>\n",
       "      <td>2.68</td>\n",
       "      <td>2.68</td>\n",
       "      <td>3.47</td>\n",
       "      <td>3.4</td>\n",
       "      <td>3.4</td>\n",
       "    </tr>\n",
       "    <tr>\n",
       "      <th>compression-ratio</th>\n",
       "      <td>9.0</td>\n",
       "      <td>9.0</td>\n",
       "      <td>9.0</td>\n",
       "      <td>10.0</td>\n",
       "      <td>8.0</td>\n",
       "    </tr>\n",
       "    <tr>\n",
       "      <th>horsepower</th>\n",
       "      <td>111</td>\n",
       "      <td>111</td>\n",
       "      <td>154</td>\n",
       "      <td>102</td>\n",
       "      <td>115</td>\n",
       "    </tr>\n",
       "    <tr>\n",
       "      <th>peak-rpm</th>\n",
       "      <td>5000</td>\n",
       "      <td>5000</td>\n",
       "      <td>5000</td>\n",
       "      <td>5500</td>\n",
       "      <td>5500</td>\n",
       "    </tr>\n",
       "    <tr>\n",
       "      <th>city-mpg</th>\n",
       "      <td>21</td>\n",
       "      <td>21</td>\n",
       "      <td>19</td>\n",
       "      <td>24</td>\n",
       "      <td>18</td>\n",
       "    </tr>\n",
       "    <tr>\n",
       "      <th>highway-mpg</th>\n",
       "      <td>27</td>\n",
       "      <td>27</td>\n",
       "      <td>26</td>\n",
       "      <td>30</td>\n",
       "      <td>22</td>\n",
       "    </tr>\n",
       "    <tr>\n",
       "      <th>price</th>\n",
       "      <td>13495</td>\n",
       "      <td>16500</td>\n",
       "      <td>16500</td>\n",
       "      <td>13950</td>\n",
       "      <td>17450</td>\n",
       "    </tr>\n",
       "  </tbody>\n",
       "</table>\n",
       "</div>"
      ],
      "text/plain": [
       "                             0            1            2      3      4\n",
       "symboling                    3            3            1      2      2\n",
       "normalized-losses            ?            ?            ?    164    164\n",
       "make               alfa-romero  alfa-romero  alfa-romero   audi   audi\n",
       "fuel-type                  gas          gas          gas    gas    gas\n",
       "aspiration                 std          std          std    std    std\n",
       "num-of-doors               two          two          two   four   four\n",
       "body-style         convertible  convertible    hatchback  sedan  sedan\n",
       "drive-wheels               rwd          rwd          rwd    fwd    4wd\n",
       "engine-location          front        front        front  front  front\n",
       "wheel-base                88.6         88.6         94.5   99.8   99.4\n",
       "length                   168.8        168.8        171.2  176.6  176.6\n",
       "width                     64.1         64.1         65.5   66.2   66.4\n",
       "height                    48.8         48.8         52.4   54.3   54.3\n",
       "curb-weight               2548         2548         2823   2337   2824\n",
       "engine-type               dohc         dohc         ohcv    ohc    ohc\n",
       "num-of-cylinders          four         four          six   four   five\n",
       "engine-size                130          130          152    109    136\n",
       "fuel-system               mpfi         mpfi         mpfi   mpfi   mpfi\n",
       "bore                      3.47         3.47         2.68   3.19   3.19\n",
       "stroke                    2.68         2.68         3.47    3.4    3.4\n",
       "compression-ratio          9.0          9.0          9.0   10.0    8.0\n",
       "horsepower                 111          111          154    102    115\n",
       "peak-rpm                  5000         5000         5000   5500   5500\n",
       "city-mpg                    21           21           19     24     18\n",
       "highway-mpg                 27           27           26     30     22\n",
       "price                    13495        16500        16500  13950  17450"
      ]
     },
     "execution_count": 65,
     "metadata": {},
     "output_type": "execute_result"
    }
   ],
   "source": [
    "df = pd.read_csv('autos_dataset.csv')\n",
    "df.head().T"
   ]
  },
  {
   "cell_type": "code",
   "execution_count": null,
   "metadata": {
    "id": "developed-rebel",
    "outputId": "168f07c1-aeb3-4a91-c601-726dc0dbf99f"
   },
   "outputs": [
    {
     "data": {
      "text/plain": [
       "(205, 26)"
      ]
     },
     "execution_count": 66,
     "metadata": {},
     "output_type": "execute_result"
    }
   ],
   "source": [
    "df.shape"
   ]
  },
  {
   "cell_type": "code",
   "execution_count": null,
   "metadata": {
    "id": "isolated-monkey",
    "outputId": "934b3623-db30-469f-e8cc-ca0cb7691c26"
   },
   "outputs": [
    {
     "name": "stdout",
     "output_type": "stream",
     "text": [
      "<class 'pandas.core.frame.DataFrame'>\n",
      "RangeIndex: 205 entries, 0 to 204\n",
      "Data columns (total 26 columns):\n",
      " #   Column             Non-Null Count  Dtype  \n",
      "---  ------             --------------  -----  \n",
      " 0   symboling          205 non-null    int64  \n",
      " 1   normalized-losses  205 non-null    object \n",
      " 2   make               205 non-null    object \n",
      " 3   fuel-type          205 non-null    object \n",
      " 4   aspiration         205 non-null    object \n",
      " 5   num-of-doors       205 non-null    object \n",
      " 6   body-style         205 non-null    object \n",
      " 7   drive-wheels       205 non-null    object \n",
      " 8   engine-location    205 non-null    object \n",
      " 9   wheel-base         205 non-null    float64\n",
      " 10  length             205 non-null    float64\n",
      " 11  width              205 non-null    float64\n",
      " 12  height             205 non-null    float64\n",
      " 13  curb-weight        205 non-null    int64  \n",
      " 14  engine-type        205 non-null    object \n",
      " 15  num-of-cylinders   205 non-null    object \n",
      " 16  engine-size        205 non-null    int64  \n",
      " 17  fuel-system        205 non-null    object \n",
      " 18  bore               205 non-null    object \n",
      " 19  stroke             205 non-null    object \n",
      " 20  compression-ratio  205 non-null    float64\n",
      " 21  horsepower         205 non-null    object \n",
      " 22  peak-rpm           205 non-null    object \n",
      " 23  city-mpg           205 non-null    int64  \n",
      " 24  highway-mpg        205 non-null    int64  \n",
      " 25  price              205 non-null    object \n",
      "dtypes: float64(5), int64(5), object(16)\n",
      "memory usage: 41.8+ KB\n"
     ]
    }
   ],
   "source": [
    "df.info()"
   ]
  },
  {
   "cell_type": "code",
   "execution_count": null,
   "metadata": {
    "id": "selected-prayer"
   },
   "outputs": [],
   "source": [
    "# df.isna().sum()"
   ]
  },
  {
   "cell_type": "markdown",
   "metadata": {
    "id": "clean-cornell"
   },
   "source": [
    "# 3. EDA"
   ]
  },
  {
   "cell_type": "code",
   "execution_count": null,
   "metadata": {
    "id": "looking-batch"
   },
   "outputs": [],
   "source": []
  },
  {
   "cell_type": "markdown",
   "metadata": {
    "id": "signed-organic"
   },
   "source": [
    "## 3.1 Encoding"
   ]
  },
  {
   "cell_type": "raw",
   "metadata": {
    "id": "compressed-permission"
   },
   "source": [
    "1. Label Encoding\n",
    "2. One Hot Encoding\n",
    "3. Hash Encoding\n",
    "4. Binary Encoding"
   ]
  },
  {
   "cell_type": "code",
   "execution_count": null,
   "metadata": {
    "id": "editorial-plumbing"
   },
   "outputs": [],
   "source": []
  },
  {
   "cell_type": "code",
   "execution_count": null,
   "metadata": {
    "id": "macro-shame"
   },
   "outputs": [],
   "source": [
    "df.replace({'?':np.nan},inplace = True)"
   ]
  },
  {
   "cell_type": "code",
   "execution_count": null,
   "metadata": {
    "id": "micro-unemployment",
    "outputId": "a7591791-0a95-45a3-d21d-10e22ebe5224"
   },
   "outputs": [
    {
     "name": "stdout",
     "output_type": "stream",
     "text": [
      "<class 'pandas.core.frame.DataFrame'>\n",
      "RangeIndex: 205 entries, 0 to 204\n",
      "Data columns (total 26 columns):\n",
      " #   Column             Non-Null Count  Dtype  \n",
      "---  ------             --------------  -----  \n",
      " 0   symboling          205 non-null    int64  \n",
      " 1   normalized-losses  164 non-null    object \n",
      " 2   make               205 non-null    object \n",
      " 3   fuel-type          205 non-null    object \n",
      " 4   aspiration         205 non-null    object \n",
      " 5   num-of-doors       203 non-null    object \n",
      " 6   body-style         205 non-null    object \n",
      " 7   drive-wheels       205 non-null    object \n",
      " 8   engine-location    205 non-null    object \n",
      " 9   wheel-base         205 non-null    float64\n",
      " 10  length             205 non-null    float64\n",
      " 11  width              205 non-null    float64\n",
      " 12  height             205 non-null    float64\n",
      " 13  curb-weight        205 non-null    int64  \n",
      " 14  engine-type        205 non-null    object \n",
      " 15  num-of-cylinders   205 non-null    object \n",
      " 16  engine-size        205 non-null    int64  \n",
      " 17  fuel-system        205 non-null    object \n",
      " 18  bore               201 non-null    object \n",
      " 19  stroke             201 non-null    object \n",
      " 20  compression-ratio  205 non-null    float64\n",
      " 21  horsepower         203 non-null    object \n",
      " 22  peak-rpm           203 non-null    object \n",
      " 23  city-mpg           205 non-null    int64  \n",
      " 24  highway-mpg        205 non-null    int64  \n",
      " 25  price              201 non-null    object \n",
      "dtypes: float64(5), int64(5), object(16)\n",
      "memory usage: 41.8+ KB\n"
     ]
    }
   ],
   "source": [
    "# df.isna().sum()\n",
    "df.info()"
   ]
  },
  {
   "cell_type": "code",
   "execution_count": null,
   "metadata": {
    "id": "relevant-general",
    "outputId": "e4768d1c-cd4f-4232-d184-d0ba645bc53a"
   },
   "outputs": [
    {
     "data": {
      "text/plain": [
       "Index(['symboling', 'normalized-losses', 'make', 'fuel-type', 'aspiration',\n",
       "       'num-of-doors', 'body-style', 'drive-wheels', 'engine-location',\n",
       "       'wheel-base', 'length', 'width', 'height', 'curb-weight', 'engine-type',\n",
       "       'num-of-cylinders', 'engine-size', 'fuel-system', 'bore', 'stroke',\n",
       "       'compression-ratio', 'horsepower', 'peak-rpm', 'city-mpg',\n",
       "       'highway-mpg', 'price'],\n",
       "      dtype='object')"
      ]
     },
     "execution_count": 71,
     "metadata": {},
     "output_type": "execute_result"
    }
   ],
   "source": [
    "df.columns"
   ]
  },
  {
   "cell_type": "code",
   "execution_count": null,
   "metadata": {
    "id": "unlimited-pleasure"
   },
   "outputs": [],
   "source": [
    "df.drop('make','aspiration','fuel-type','num-of-doors','body-style','drive-wheels','engine-location',\n",
    "        'engine-[type','fuel-system'],axis = 1, inplace=True)"
   ]
  },
  {
   "cell_type": "code",
   "execution_count": null,
   "metadata": {
    "id": "global-simon"
   },
   "outputs": [],
   "source": [
    "# df.info()"
   ]
  },
  {
   "cell_type": "code",
   "execution_count": null,
   "metadata": {
    "id": "finished-roberts"
   },
   "outputs": [],
   "source": [
    "df.drop('normalized-losses',axis =1 , inplace =True)"
   ]
  },
  {
   "cell_type": "code",
   "execution_count": null,
   "metadata": {
    "id": "useful-pierre",
    "outputId": "2ce932fd-db53-41c3-e8d3-93ca9a918f32"
   },
   "outputs": [
    {
     "name": "stdout",
     "output_type": "stream",
     "text": [
      "<class 'pandas.core.frame.DataFrame'>\n",
      "RangeIndex: 205 entries, 0 to 204\n",
      "Data columns (total 16 columns):\n",
      " #   Column             Non-Null Count  Dtype  \n",
      "---  ------             --------------  -----  \n",
      " 0   symboling          205 non-null    int64  \n",
      " 1   wheel-base         205 non-null    float64\n",
      " 2   length             205 non-null    float64\n",
      " 3   width              205 non-null    float64\n",
      " 4   height             205 non-null    float64\n",
      " 5   curb-weight        205 non-null    int64  \n",
      " 6   num-of-cylinders   205 non-null    object \n",
      " 7   engine-size        205 non-null    int64  \n",
      " 8   bore               201 non-null    object \n",
      " 9   stroke             201 non-null    object \n",
      " 10  compression-ratio  205 non-null    float64\n",
      " 11  horsepower         203 non-null    object \n",
      " 12  peak-rpm           203 non-null    object \n",
      " 13  city-mpg           205 non-null    int64  \n",
      " 14  highway-mpg        205 non-null    int64  \n",
      " 15  price              201 non-null    object \n",
      "dtypes: float64(5), int64(5), object(6)\n",
      "memory usage: 25.8+ KB\n"
     ]
    }
   ],
   "source": [
    "df.info()"
   ]
  },
  {
   "cell_type": "code",
   "execution_count": null,
   "metadata": {
    "id": "internal-intake"
   },
   "outputs": [],
   "source": [
    "# df.isna().sum()"
   ]
  },
  {
   "cell_type": "code",
   "execution_count": null,
   "metadata": {
    "id": "early-customs"
   },
   "outputs": [],
   "source": [
    "df['bore'].fillna(df['bore'].median(),inplace= True)\n",
    "df['stroke'].fillna(df['stroke'].median(),inplace= True)\n",
    "df['horsepower'].fillna(df['horsepower'].median(),inplace= True)\n",
    "df['peak-rpm'].fillna(df['peak-rpm'].median(),inplace= True)\n",
    "df['price'].fillna(df['price'].median(),inplace= True)\n",
    "\n"
   ]
  },
  {
   "cell_type": "code",
   "execution_count": null,
   "metadata": {
    "id": "secure-national"
   },
   "outputs": [],
   "source": [
    "# df.isna().sum()"
   ]
  },
  {
   "cell_type": "code",
   "execution_count": null,
   "metadata": {
    "id": "dietary-latter",
    "outputId": "fec1ea29-2bc7-4463-eb5a-7afc05db248b"
   },
   "outputs": [
    {
     "name": "stdout",
     "output_type": "stream",
     "text": [
      "<class 'pandas.core.frame.DataFrame'>\n",
      "RangeIndex: 205 entries, 0 to 204\n",
      "Data columns (total 16 columns):\n",
      " #   Column             Non-Null Count  Dtype  \n",
      "---  ------             --------------  -----  \n",
      " 0   symboling          205 non-null    int64  \n",
      " 1   wheel-base         205 non-null    float64\n",
      " 2   length             205 non-null    float64\n",
      " 3   width              205 non-null    float64\n",
      " 4   height             205 non-null    float64\n",
      " 5   curb-weight        205 non-null    int64  \n",
      " 6   num-of-cylinders   205 non-null    object \n",
      " 7   engine-size        205 non-null    int64  \n",
      " 8   bore               205 non-null    object \n",
      " 9   stroke             205 non-null    object \n",
      " 10  compression-ratio  205 non-null    float64\n",
      " 11  horsepower         205 non-null    object \n",
      " 12  peak-rpm           205 non-null    object \n",
      " 13  city-mpg           205 non-null    int64  \n",
      " 14  highway-mpg        205 non-null    int64  \n",
      " 15  price              205 non-null    object \n",
      "dtypes: float64(5), int64(5), object(6)\n",
      "memory usage: 25.8+ KB\n"
     ]
    }
   ],
   "source": [
    "df.info()"
   ]
  },
  {
   "cell_type": "code",
   "execution_count": null,
   "metadata": {
    "id": "according-government"
   },
   "outputs": [],
   "source": [
    "df['bore'] = df['bore'].astype(float)\n",
    "df['stroke'] = df['stroke'].astype(float)\n",
    "df['horsepower'] = df['horsepower'].astype(float)\n",
    "df['peak-rpm'] = df['peak-rpm'].astype(float)\n",
    "df['price'] = df['price'].astype(float)\n"
   ]
  },
  {
   "cell_type": "code",
   "execution_count": null,
   "metadata": {
    "id": "careful-auction"
   },
   "outputs": [],
   "source": [
    "# df['num-of-cylinders'] = df['num-of-cylinders'].astype(float)\n"
   ]
  },
  {
   "cell_type": "code",
   "execution_count": null,
   "metadata": {
    "id": "electronic-oasis",
    "outputId": "31571f3e-9246-4a5d-8517-b546f0fddff4"
   },
   "outputs": [
    {
     "data": {
      "text/plain": [
       "array(['four', 'six', 'five', 'three', 'twelve', 'two', 'eight'],\n",
       "      dtype=object)"
      ]
     },
     "execution_count": 82,
     "metadata": {},
     "output_type": "execute_result"
    }
   ],
   "source": [
    "df['num-of-cylinders'].unique()"
   ]
  },
  {
   "cell_type": "code",
   "execution_count": null,
   "metadata": {
    "id": "urban-animation"
   },
   "outputs": [],
   "source": [
    "df['num-of-cylinders'].replace({'four':4, 'six':6, 'five':5, 'three':3, 'twelve':12, \n",
    "                                'two':2, 'eight':8},inplace = True)\n"
   ]
  },
  {
   "cell_type": "code",
   "execution_count": null,
   "metadata": {
    "id": "saving-apartment",
    "outputId": "285fcecd-262c-4c75-c70b-8cf1c68106fb"
   },
   "outputs": [
    {
     "name": "stdout",
     "output_type": "stream",
     "text": [
      "<class 'pandas.core.frame.DataFrame'>\n",
      "RangeIndex: 205 entries, 0 to 204\n",
      "Data columns (total 16 columns):\n",
      " #   Column             Non-Null Count  Dtype  \n",
      "---  ------             --------------  -----  \n",
      " 0   symboling          205 non-null    int64  \n",
      " 1   wheel-base         205 non-null    float64\n",
      " 2   length             205 non-null    float64\n",
      " 3   width              205 non-null    float64\n",
      " 4   height             205 non-null    float64\n",
      " 5   curb-weight        205 non-null    int64  \n",
      " 6   num-of-cylinders   205 non-null    int64  \n",
      " 7   engine-size        205 non-null    int64  \n",
      " 8   bore               205 non-null    float64\n",
      " 9   stroke             205 non-null    float64\n",
      " 10  compression-ratio  205 non-null    float64\n",
      " 11  horsepower         205 non-null    float64\n",
      " 12  peak-rpm           205 non-null    float64\n",
      " 13  city-mpg           205 non-null    int64  \n",
      " 14  highway-mpg        205 non-null    int64  \n",
      " 15  price              205 non-null    float64\n",
      "dtypes: float64(10), int64(6)\n",
      "memory usage: 25.8 KB\n"
     ]
    }
   ],
   "source": [
    "# df['num-of-cylinders']\n",
    "df.info()"
   ]
  },
  {
   "cell_type": "markdown",
   "metadata": {
    "id": "reduced-second"
   },
   "source": [
    "# Train and Test Data"
   ]
  },
  {
   "cell_type": "code",
   "execution_count": null,
   "metadata": {
    "id": "educational-isaac"
   },
   "outputs": [],
   "source": [
    "x = df.drop('price',axis = 1)\n",
    "y = df['price']"
   ]
  },
  {
   "cell_type": "code",
   "execution_count": null,
   "metadata": {
    "id": "antique-interference"
   },
   "outputs": [],
   "source": [
    "x_train,x_test, y_train, y_test = train_test_split(x,y,test_size=0.2,random_state=10)\n",
    "# x_train"
   ]
  },
  {
   "cell_type": "markdown",
   "metadata": {
    "id": "retained-villa"
   },
   "source": [
    "# Model Training "
   ]
  },
  {
   "cell_type": "code",
   "execution_count": null,
   "metadata": {
    "id": "expensive-netscape",
    "outputId": "4180620b-0d5b-46b6-add7-ae38fae33f72"
   },
   "outputs": [
    {
     "data": {
      "text/plain": [
       "LinearRegression()"
      ]
     },
     "execution_count": 87,
     "metadata": {},
     "output_type": "execute_result"
    }
   ],
   "source": [
    "lr_model = LinearRegression()\n",
    "lr_model.fit(x_train,y_train)"
   ]
  },
  {
   "cell_type": "code",
   "execution_count": null,
   "metadata": {
    "id": "killing-ivory"
   },
   "outputs": [],
   "source": [
    "# Evaluation"
   ]
  },
  {
   "cell_type": "markdown",
   "metadata": {
    "id": "inclusive-balance"
   },
   "source": [
    "### Residual"
   ]
  },
  {
   "cell_type": "raw",
   "metadata": {
    "id": "expressed-profile"
   },
   "source": [
    "1. Normality of Residual:\n",
    "    1. Density plot (sns.kdeplot)\n",
    "    2. qq plot\n",
    "    3. Shapiro Test\n",
    "    4. KS Test\n",
    "    5. Normality \n",
    "    \n",
    "#     scipy and statsmodel\n",
    "\n",
    "2. Homoscedascticity :\n",
    "    scatterplot"
   ]
  },
  {
   "cell_type": "markdown",
   "metadata": {
    "id": "outdoor-execution"
   },
   "source": [
    "# Assumption of Normality"
   ]
  },
  {
   "cell_type": "markdown",
   "metadata": {
    "id": "narrow-grammar"
   },
   "source": [
    "# Residual"
   ]
  },
  {
   "cell_type": "code",
   "execution_count": null,
   "metadata": {
    "id": "legal-report"
   },
   "outputs": [],
   "source": [
    "y_pred = lr_model.predict(x_test)\n",
    "residual = y_test - y_pred\n",
    "# residual"
   ]
  },
  {
   "cell_type": "markdown",
   "metadata": {
    "id": "apparent-miller"
   },
   "source": [
    "# 1. Density plot"
   ]
  },
  {
   "cell_type": "code",
   "execution_count": null,
   "metadata": {
    "id": "precise-august",
    "outputId": "08cb151a-cc3c-46f9-fb35-ddeebc158057"
   },
   "outputs": [
    {
     "data": {
      "text/plain": [
       "<AxesSubplot:xlabel='price', ylabel='Density'>"
      ]
     },
     "execution_count": 90,
     "metadata": {},
     "output_type": "execute_result"
    },
    {
     "data": {
      "image/png": "[encoded data removed]",
      "text/plain": [
       "<Figure size 432x288 with 1 Axes>"
      ]
     },
     "metadata": {
      "needs_background": "light"
     },
     "output_type": "display_data"
    }
   ],
   "source": [
    "sns.kdeplot(residual,fill=True)  "
   ]
  },
  {
   "cell_type": "markdown",
   "metadata": {
    "id": "unknown-endorsement"
   },
   "source": [
    "# 2. Shapiro Test"
   ]
  },
  {
   "cell_type": "code",
   "execution_count": null,
   "metadata": {
    "id": "failing-robinson"
   },
   "outputs": [],
   "source": [
    "Null Hypothesis >> data was drawn from a normal distribution\n",
    "Accept >> Null Hypothesis   >> If your p_val value is greater than your significance level(5%)\n",
    "Reject >> Alternative Hypothesis >>  If your p_val value is less than or equal to your significance level(5%)\n",
    "p_val = 0.05\n",
    "if p_val > 0.05:\n",
    "    print(\"accepting Null Hypothesis\")\n",
    "    \n",
    "else:\n",
    "    print(\"Rejecting Null Hypothesis\")"
   ]
  },
  {
   "cell_type": "code",
   "execution_count": null,
   "metadata": {
    "id": "worst-croatia"
   },
   "outputs": [],
   "source": [
    "from scipy.stats import shapiro, normaltest, kstest"
   ]
  },
  {
   "cell_type": "code",
   "execution_count": null,
   "metadata": {
    "id": "unsigned-episode",
    "outputId": "d87171c4-71d0-42c7-ebf8-6563af30c2a0"
   },
   "outputs": [
    {
     "name": "stdout",
     "output_type": "stream",
     "text": [
      "p value is : 1.5074285784066888e-06\n",
      "Data is not normally distributed\n"
     ]
    }
   ],
   "source": [
    "_,p_val = shapiro(residual)\n",
    "print(\"p value is :\",p_val)\n",
    "\n",
    "if p_val > 0.05:\n",
    "    print('Data is normally distributed')\n",
    "    \n",
    "else:\n",
    "    print('Data is not normally distributed')"
   ]
  },
  {
   "cell_type": "markdown",
   "metadata": {
    "id": "naughty-casting"
   },
   "source": [
    "# 3. normaltest"
   ]
  },
  {
   "cell_type": "code",
   "execution_count": null,
   "metadata": {
    "id": "static-oxide",
    "outputId": "934c67ac-49be-497e-838a-f1e90a21e3b0"
   },
   "outputs": [
    {
     "name": "stdout",
     "output_type": "stream",
     "text": [
      "p value is : 5.806371163874559e-09\n",
      "Data is not normally distributed\n"
     ]
    }
   ],
   "source": [
    "_,p_val = normaltest(residual)\n",
    "print(\"p value is :\",p_val)\n",
    "\n",
    "if p_val > 0.05:\n",
    "    print('Data is normally distributed')\n",
    "    \n",
    "else:\n",
    "    print('Data is not normally distributed')"
   ]
  },
  {
   "cell_type": "markdown",
   "metadata": {
    "id": "exceptional-concern"
   },
   "source": [
    "# 4. kstest"
   ]
  },
  {
   "cell_type": "code",
   "execution_count": null,
   "metadata": {
    "id": "european-promotion",
    "outputId": "e33ec8ea-e536-443e-dbae-e6622bc8139f"
   },
   "outputs": [
    {
     "name": "stdout",
     "output_type": "stream",
     "text": [
      "p value is : 1.6559444344151947e-10\n",
      "Data is not normally distributed\n"
     ]
    }
   ],
   "source": [
    "_,p_val = kstest(residual,'norm')\n",
    "print(\"p value is :\",p_val)\n",
    "\n",
    "if p_val > 0.05:\n",
    "    print('Data is normally distributed')\n",
    "    \n",
    "else:\n",
    "    print('Data is not normally distributed')"
   ]
  },
  {
   "cell_type": "markdown",
   "metadata": {
    "id": "dietary-tribute"
   },
   "source": [
    "# 5. QQ Plot"
   ]
  },
  {
   "cell_type": "code",
   "execution_count": null,
   "metadata": {
    "id": "plain-monte"
   },
   "outputs": [],
   "source": [
    "import scipy.stats as sts\n",
    "import statsmodels.api as sm"
   ]
  },
  {
   "cell_type": "code",
   "execution_count": null,
   "metadata": {
    "id": "referenced-seattle",
    "outputId": "5b00459b-06a8-413e-b3e2-e7ed4d8ee537"
   },
   "outputs": [
    {
     "data": {
      "image/png": "[encoded data removed]",
      "text/plain": [
       "<Figure size 432x288 with 1 Axes>"
      ]
     },
     "execution_count": 122,
     "metadata": {},
     "output_type": "execute_result"
    },
    {
     "data": {
      "image/png": "[encoded data removed]",
      "text/plain": [
       "<Figure size 432x288 with 1 Axes>"
      ]
     },
     "metadata": {
      "needs_background": "light"
     },
     "output_type": "display_data"
    }
   ],
   "source": [
    "sm.qqplot(residual,line = '45',dist = sts.norm,fit=True)"
   ]
  },
  {
   "cell_type": "code",
   "execution_count": null,
   "metadata": {
    "id": "level-african",
    "outputId": "49034cde-5872-4bd6-d39d-6f5b52655c85"
   },
   "outputs": [
    {
     "data": {
      "image/png": "[encoded data removed]",
      "text/plain": [
       "<Figure size 432x288 with 1 Axes>"
      ]
     },
     "execution_count": 123,
     "metadata": {},
     "output_type": "execute_result"
    },
    {
     "data": {
      "image/png": "[encoded data removed]",
      "text/plain": [
       "<Figure size 432x288 with 1 Axes>"
      ]
     },
     "metadata": {
      "needs_background": "light"
     },
     "output_type": "display_data"
    }
   ],
   "source": [
    "sm.qqplot(normal_array,line = '45',dist = sts.norm)"
   ]
  },
  {
   "cell_type": "code",
   "execution_count": null,
   "metadata": {
    "id": "analyzed-roulette",
    "outputId": "19399d37-4f8a-4f63-d4f8-67d8581c03ae"
   },
   "outputs": [
    {
     "data": {
      "image/png": "[encoded data removed]",
      "text/plain": [
       "<Figure size 432x288 with 1 Axes>"
      ]
     },
     "execution_count": 124,
     "metadata": {},
     "output_type": "execute_result"
    },
    {
     "data": {
      "image/png": "[encoded data removed]",
      "text/plain": [
       "<Figure size 432x288 with 1 Axes>"
      ]
     },
     "metadata": {
      "needs_background": "light"
     },
     "output_type": "display_data"
    }
   ],
   "source": [
    "sm.qqplot(residual,line = '45')"
   ]
  },
  {
   "cell_type": "code",
   "execution_count": null,
   "metadata": {
    "id": "compatible-effectiveness",
    "outputId": "1fd245a8-1071-4141-f85f-fd5c3dd05f9c"
   },
   "outputs": [
    {
     "data": {
      "image/png": "[encoded data removed]",
      "text/plain": [
       "<Figure size 432x288 with 1 Axes>"
      ]
     },
     "metadata": {
      "needs_background": "light"
     },
     "output_type": "display_data"
    }
   ],
   "source": [
    "sts.probplot(residual,dist='norm',plot = plt)\n",
    "plt.show()"
   ]
  },
  {
   "cell_type": "code",
   "execution_count": null,
   "metadata": {
    "id": "proprietary-sheffield"
   },
   "outputs": [],
   "source": [
    "normal_array = np.random.randn(100)\n",
    "# normal_array\n"
   ]
  },
  {
   "cell_type": "code",
   "execution_count": null,
   "metadata": {
    "id": "mexican-harvard",
    "outputId": "eac42447-61a9-47b7-93ce-1bc2ab7e1b56"
   },
   "outputs": [
    {
     "data": {
      "image/png": "[encoded data removed]",
      "text/plain": [
       "<Figure size 432x288 with 1 Axes>"
      ]
     },
     "metadata": {
      "needs_background": "light"
     },
     "output_type": "display_data"
    }
   ],
   "source": [
    "sts.probplot(normal_array,dist='norm',plot = plt)\n",
    "plt.show()"
   ]
  },
  {
   "cell_type": "code",
   "execution_count": null,
   "metadata": {
    "id": "expensive-waters",
    "outputId": "9540e3b9-fec3-4c4a-b5c8-4c9258d1e42b"
   },
   "outputs": [
    {
     "data": {
      "text/plain": [
       "<AxesSubplot:ylabel='Density'>"
      ]
     },
     "execution_count": 128,
     "metadata": {},
     "output_type": "execute_result"
    },
    {
     "data": {
      "image/png": "[encoded data removed]",
      "text/plain": [
       "<Figure size 432x288 with 1 Axes>"
      ]
     },
     "metadata": {
      "needs_background": "light"
     },
     "output_type": "display_data"
    }
   ],
   "source": [
    "sns.kdeplot(normal_array,fill=True) "
   ]
  },
  {
   "cell_type": "code",
   "execution_count": null,
   "metadata": {
    "id": "numerical-ridge",
    "outputId": "f5ca43a1-7db2-48e4-f35c-946e8a927f9a"
   },
   "outputs": [
    {
     "name": "stdout",
     "output_type": "stream",
     "text": [
      "p value is : 0.6308010816574097\n",
      "Data is normally distributed\n"
     ]
    }
   ],
   "source": [
    "_,p_val = shapiro(normal_array)\n",
    "print(\"p value is :\",p_val)\n",
    "\n",
    "if p_val > 0.05:\n",
    "    print('Data is normally distributed')\n",
    "    \n",
    "else:\n",
    "    print('Data is not normally distributed')"
   ]
  },
  {
   "cell_type": "markdown",
   "metadata": {
    "id": "manufactured-artwork"
   },
   "source": [
    "# Assumption of Homscedascticity"
   ]
  },
  {
   "cell_type": "raw",
   "metadata": {
    "id": "cloudy-northeast"
   },
   "source": [
    "The assumption of equal variance\n"
   ]
  },
  {
   "cell_type": "code",
   "execution_count": null,
   "metadata": {
    "id": "exotic-burning",
    "outputId": "d30abfcb-b7d7-48e2-9d21-7238c2a83c0f"
   },
   "outputs": [
    {
     "name": "stderr",
     "output_type": "stream",
     "text": [
      "c:\\users\\rahul\\appdata\\local\\programs\\python\\python38\\lib\\site-packages\\seaborn\\_decorators.py:36: FutureWarning: Pass the following variables as keyword args: x, y. From version 0.12, the only valid positional argument will be `data`, and passing other arguments without an explicit keyword will result in an error or misinterpretation.\n",
      "  warnings.warn(\n"
     ]
    },
    {
     "data": {
      "text/plain": [
       "<AxesSubplot:ylabel='price'>"
      ]
     },
     "execution_count": 131,
     "metadata": {},
     "output_type": "execute_result"
    },
    {
     "data": {
      "image/png": "[encoded data removed]",
      "text/plain": [
       "<Figure size 432x288 with 1 Axes>"
      ]
     },
     "metadata": {
      "needs_background": "light"
     },
     "output_type": "display_data"
    }
   ],
   "source": [
    "sns.scatterplot(y_pred,residual)"
   ]
  },
  {
   "cell_type": "markdown",
   "metadata": {
    "id": "portable-capital"
   },
   "source": [
    "### Test Data"
   ]
  },
  {
   "cell_type": "code",
   "execution_count": null,
   "metadata": {
    "id": "competitive-grammar",
    "outputId": "9fc07c47-06dc-40df-8496-5f852bd44baf"
   },
   "outputs": [
    {
     "name": "stdout",
     "output_type": "stream",
     "text": [
      "Mean squared value is  41136422.3598216\n",
      "Root Mean Squared error is : 6413.768187253231\n",
      "Mean Absolute Error is  3667.936869305307\n",
      "R2 score is : 0.07063200888270205\n"
     ]
    }
   ],
   "source": [
    "y_pred = lr_model.predict(x_test)\n",
    "# y_pred[:5]\n",
    "mse = mean_squared_error(y_test, y_pred)\n",
    "print(\"Mean squared value is \",mse)\n",
    "\n",
    "rmse = np.sqrt(mse)\n",
    "print(\"Root Mean Squared error is :\",rmse)\n",
    "\n",
    "mae = mean_absolute_error(y_test, y_pred)\n",
    "print(\"Mean Absolute Error is \",mae)\n",
    "\n",
    "r2score = r2_score(y_test, y_pred)\n",
    "print(\"R2 score is :\",r2score)"
   ]
  },
  {
   "cell_type": "markdown",
   "metadata": {
    "id": "noble-palestine"
   },
   "source": [
    "### Train Data"
   ]
  },
  {
   "cell_type": "code",
   "execution_count": null,
   "metadata": {
    "id": "ambient-inspiration",
    "outputId": "7467708d-4f7f-4eb3-df0e-b15be3f5932e"
   },
   "outputs": [
    {
     "name": "stdout",
     "output_type": "stream",
     "text": [
      "Mean squared Error on Training data is  7894634.86912864\n",
      "Root Mean Squared error is : 2809.7392884623014\n",
      "Mean Absolute Error on Training data is  2072.8332119111274\n",
      "R2 score on Training data is : 0.8806368038460701\n"
     ]
    }
   ],
   "source": [
    "y_pred_train = lr_model.predict(x_train)\n",
    "\n",
    "mse = mean_squared_error(y_train, y_pred_train)\n",
    "print(\"Mean squared Error on Training data is \",mse)\n",
    "\n",
    "rmse = np.sqrt(mse)\n",
    "print(\"Root Mean Squared error is :\",rmse)\n",
    "\n",
    "mae = mean_absolute_error(y_train, y_pred_train)\n",
    "print(\"Mean Absolute Error on Training data is \",mae)\n",
    "\n",
    "r2score = r2_score(y_train, y_pred_train)\n",
    "print(\"R2 score on Training data is :\",r2score)"
   ]
  },
  {
   "cell_type": "raw",
   "metadata": {
    "id": "quick-prague"
   },
   "source": [
    "# y_train\n",
    "\n",
    "Overfitting:\n",
    "Train data accuracy >> High\n",
    "Test data accuracy  >> Low"
   ]
  },
  {
   "cell_type": "code",
   "execution_count": null,
   "metadata": {
    "id": "patent-tradition",
    "outputId": "732babe6-24a6-428b-ca03-c8f99e8e46da"
   },
   "outputs": [
    {
     "data": {
      "text/plain": [
       "(41,)"
      ]
     },
     "execution_count": 135,
     "metadata": {},
     "output_type": "execute_result"
    }
   ],
   "source": [
    "y_test.shape"
   ]
  },
  {
   "cell_type": "code",
   "execution_count": null,
   "metadata": {
    "id": "cordless-huntington",
    "outputId": "ec89419a-3d7a-4ff0-81d2-5c365de0338b"
   },
   "outputs": [
    {
     "data": {
      "text/plain": [
       "(41, 15)"
      ]
     },
     "execution_count": 136,
     "metadata": {},
     "output_type": "execute_result"
    }
   ],
   "source": [
    "x_test.shape"
   ]
  },
  {
   "cell_type": "code",
   "execution_count": null,
   "metadata": {
    "id": "parallel-british",
    "outputId": "9dc39407-a14f-4b24-8300-95a3fa61f825"
   },
   "outputs": [
    {
     "data": {
      "text/plain": [
       "symboling               2.00\n",
       "wheel-base             96.10\n",
       "length                176.80\n",
       "width                  66.60\n",
       "height                 50.50\n",
       "curb-weight          2460.00\n",
       "num-of-cylinders        4.00\n",
       "engine-size           132.00\n",
       "bore                    3.46\n",
       "stroke                  3.90\n",
       "compression-ratio       8.70\n",
       "horsepower             95.00\n",
       "peak-rpm             5200.00\n",
       "city-mpg               23.00\n",
       "highway-mpg            31.00\n",
       "Name: 131, dtype: float64"
      ]
     },
     "execution_count": 137,
     "metadata": {},
     "output_type": "execute_result"
    }
   ],
   "source": [
    "x_test.iloc[0]"
   ]
  },
  {
   "cell_type": "code",
   "execution_count": null,
   "metadata": {
    "id": "authorized-suspect",
    "outputId": "3cf80aa6-9695-468d-8df7-88ba6847c6eb"
   },
   "outputs": [
    {
     "data": {
      "text/plain": [
       "array([[ 1,  2,  3,  4,  5,  6,  7,  8,  9, 10, 11, 12, 13, 14, 15]])"
      ]
     },
     "execution_count": 58,
     "metadata": {},
     "output_type": "execute_result"
    }
   ],
   "source": [
    "user_values = np.array([[1,2,3,4,5,6,7,8,9,10,11,12,13,14,15]])\n",
    "user_values"
   ]
  },
  {
   "cell_type": "code",
   "execution_count": null,
   "metadata": {
    "id": "indonesian-smoke",
    "outputId": "af8a71f8-c99f-4391-8fcd-77fd468acda7"
   },
   "outputs": [
    {
     "data": {
      "text/plain": [
       "array([-100373.07653182])"
      ]
     },
     "execution_count": 59,
     "metadata": {},
     "output_type": "execute_result"
    }
   ],
   "source": [
    "lr_model.predict(user_values)"
   ]
  },
  {
   "cell_type": "code",
   "execution_count": null,
   "metadata": {
    "id": "induced-escape"
   },
   "outputs": [],
   "source": []
  }
 ],
 "metadata": {
  "colab": {
   "name": "Linear Regression - Auto Dataset.ipynb",
   "provenance": []
  },
  "kernelspec": {
   "display_name": "Python 3",
   "language": "python",
   "name": "python3"
  },
  "language_info": {
   "codemirror_mode": {
    "name": "ipython",
    "version": 3
   },
   "file_extension": ".py",
   "mimetype": "text/x-python",
   "name": "python",
   "nbconvert_exporter": "python",
   "pygments_lexer": "ipython3",
   "version": "3.7.3"
  }
 },
 "nbformat": 4,
 "nbformat_minor": 5
}
