{
 "cells": [
  {
   "cell_type": "markdown",
   "metadata": {},
   "source": [
    "# 1. What is Linear regression? "
   ]
  },
  {
   "cell_type": "markdown",
   "metadata": {},
   "source": [
    " 1. It tries to find out the best possible linear relationship between the input features and  the target variable(y). \n",
    "\n",
    " 2. “It is a supervised machine learning algorithm that best fits the data which has the target  variable(dependent variable) as a linear combination of the input features(independent  variables). ”  \n",
    "\n",
    "3. The target variable is also known as an independent variable or label.  \n",
    "\n",
    "4.Input features are also known as dependent variables.\n",
    "\n",
    " 5. when you think of linear regression think of fitting a line such that the distance between  the data points and the line is minimum. As shown above, the red line best fits that data  than the other blue lines.  \n",
    "\n",
    "6. Linear equation is,  \n",
    "y = mx + c  \n",
    "(The goal of the linear regression is to find the best values for m and c that  represents the given data.)  \n"
   ]
  },
  {
   "cell_type": "markdown",
   "metadata": {},
   "source": [
    "# 9. What does multicollinearity mean? "
   ]
  },
  {
   "cell_type": "code",
   "execution_count": null,
   "metadata": {},
   "outputs": [],
   "source": [
    "1.Multicolinearity meaning is one of the independent variable is having linear relation with other independent variable,\n",
    "\n",
    "2.if x1 is increasing x2 also increasing"
   ]
  },
  {
   "cell_type": "markdown",
   "metadata": {},
   "source": [
    "# 10. What are feature selection and feature scaling? "
   ]
  },
  {
   "cell_type": "raw",
   "metadata": {},
   "source": [
    "1.Feature selection is nothing but selecting x and y for model building.\n",
    "\n",
    "## 1. Feature selection:\n",
    "Feature Selection is a way of selecting most relevant features from original\n",
    "features set by removing the irrelevant or noisy features\n",
    "\n",
    "###  Need of Feature selection:\n",
    "1. irrelevant\n",
    "2. noisy features\n",
    "3. Less important features\n",
    "\n",
    "### Benifits of Feature selection:\n",
    "1. It reduced training time as well as testing time(Reducing time complexity)\n",
    "\n",
    "2. Improve accuracy\n",
    "\n",
    "3. It helps to Reduce overfitting\n",
    "\n",
    "4. It helps in avoiding curse of dimensionality\n",
    "\n",
    "### Feature selection Techniques:\n",
    "\n",
    "A. Filter Method:\n",
    "1. Correlation :\n",
    "    \n",
    "1. Pearson (Cont vs Cont)\n",
    "2. Spearman (Cont Vs Cont)\n",
    "3. Kendall (Cont Vs Cat)\n",
    "\n",
    "2. Chi-Square Test (Cat vs Cat)  # hypothesis testing \n",
    "\n",
    "3. Information Gain(Mutual Information)\n",
    "\n",
    "4. Fishers Score\n",
    "\n",
    "5. Mean Absolute Difference(MAD)\n",
    "\n",
    "6. Missing Values Ratio\n",
    "\n",
    "7. Variance Threshold\n",
    "\n",
    "8. ANOVA Test (Numerical Vs Categorical)\n",
    "\n",
    "B. Wrapper Method:\n",
    "\n",
    "1. Forward Selection Method\n",
    "\n",
    "2. Backward Elimination method\n",
    "\n",
    "3. Exhastive Feature selection\n",
    "\n",
    "4. Recursive Feature selection\n",
    "\n",
    "C. Embedded Method:\n",
    "\n",
    "1. Random Forest Imporatance (tree -based model)\n",
    "\n",
    "2. Regularization(L1 and L2)\n",
    "<div>\n",
    "<img src=\"attachment:feature_selection.webp\" width=\"650\"/>\n",
    "</div>\n",
    "\n",
    "2.feature scaling means applying Normalization or Standardization on features to scale down them in single range"
   ]
  },
  {
   "cell_type": "code",
   "execution_count": null,
   "metadata": {},
   "outputs": [],
   "source": []
  }
 ],
 "metadata": {
  "kernelspec": {
   "display_name": "Python 3",
   "language": "python",
   "name": "python3"
  },
  "language_info": {
   "codemirror_mode": {
    "name": "ipython",
    "version": 3
   },
   "file_extension": ".py",
   "mimetype": "text/x-python",
   "name": "python",
   "nbconvert_exporter": "python",
   "pygments_lexer": "ipython3",
   "version": "3.7.3"
  }
 },
 "nbformat": 4,
 "nbformat_minor": 2
}
