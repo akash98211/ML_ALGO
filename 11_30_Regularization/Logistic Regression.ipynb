{
 "cells": [
  {
   "cell_type": "markdown",
   "metadata": {
    "id": "caring-delaware"
   },
   "source": [
    "# Assumption "
   ]
  },
  {
   "cell_type": "code",
   "execution_count": null,
   "metadata": {
    "id": "altered-black"
   },
   "outputs": [],
   "source": [
    "1. No Multicollinearity - Independence\n",
    "2. Linearity - Linear Relationship between independent variable and logit odd log(p/(1-p)) \n",
    "    Range of logit odd >> -inf to +inf\n",
    "    P >> 0 to 1\n",
    "    \n",
    "3. Large Data for training "
   ]
  },
  {
   "cell_type": "markdown",
   "metadata": {
    "id": "vocational-sport"
   },
   "source": [
    "# Adavantages"
   ]
  },
  {
   "cell_type": "code",
   "execution_count": null,
   "metadata": {
    "id": "fundamental-doctor"
   },
   "outputs": [],
   "source": [
    "1. Easy to implement , understand\n",
    "    Logistic Function(Signmoid Function), LogLoss\n",
    "    \n",
    "2. Less likely to overfitted:\n",
    "    if model overfitted : \n",
    "        Regularization Techniques to handle Overfitting in linear model\n",
    "    \n",
    "3. Good Accuracy on simple dataset(Less number of Features):\n",
    "    naive bayes  >> 10000 columns\n",
    "    Text classification\n",
    "    \n",
    "4. Perform well if dataset is linearly seperable"
   ]
  },
  {
   "cell_type": "markdown",
   "metadata": {
    "id": "cordless-tennessee"
   },
   "source": [
    "# Disadvantegs"
   ]
  },
  {
   "cell_type": "raw",
   "metadata": {
    "id": "republican-teacher"
   },
   "source": [
    "1. When independent variables are highly correlated with each other, it may affect on\n",
    "performance of model(assumption of no multicollineariy)\n",
    "\n",
    "2. Highly sensitive to outliers\n",
    "\n",
    "3. linearly seperable data is rarely available in real world scenarios\n",
    "\n",
    "4. If there is no Linear Relationship between independent variable and logit odd, it may affect on performance of model"
   ]
  },
  {
   "cell_type": "markdown",
   "metadata": {
    "id": "naughty-poker"
   },
   "source": [
    "# Regularization"
   ]
  },
  {
   "cell_type": "code",
   "execution_count": null,
   "metadata": {
    "id": "pregnant-history"
   },
   "outputs": [],
   "source": [
    "1. Lasso Regression(L1)\n",
    "2. Ridge Regression(L2)"
   ]
  },
  {
   "cell_type": "markdown",
   "metadata": {
    "id": "excited-corps"
   },
   "source": [
    "## Ridge Regression"
   ]
  },
  {
   "cell_type": "code",
   "execution_count": null,
   "metadata": {
    "id": "geological-numbers"
   },
   "outputs": [],
   "source": [
    "lambda >> Regularization Parameter"
   ]
  },
  {
   "cell_type": "code",
   "execution_count": null,
   "metadata": {
    "id": "mexican-indiana"
   },
   "outputs": [],
   "source": [
    "from sklearn.linear_model import LinearRegression,LogisticRegression\n",
    "from sklearn.linear_model import Ridge,RidgeClassifier,Lasso\n",
    "from sklearn.tree import DecisionTreeClassifier\n",
    "from sklearn.datasets import load_boston\n",
    "\n",
    "import pandas as pd\n",
    "import numpy as np\n",
    "\n",
    "from sklearn.model_selection import train_test_split,GridSearchCV,RandomizedSearchCV\n",
    "\n",
    "from sklearn.metrics import mean_squared_error"
   ]
  },
  {
   "cell_type": "code",
   "execution_count": null,
   "metadata": {
    "id": "trained-injection",
    "outputId": "bbe65816-6a4a-42c3-dfcb-dc04061b031d"
   },
   "outputs": [
    {
     "data": {
      "text/plain": [
       "['DESCR', 'data', 'feature_names', 'filename', 'target']"
      ]
     },
     "execution_count": 8,
     "metadata": {},
     "output_type": "execute_result"
    }
   ],
   "source": [
    "boston = load_boston()\n",
    "dir(boston)"
   ]
  },
  {
   "cell_type": "code",
   "execution_count": null,
   "metadata": {
    "id": "toxic-construction"
   },
   "outputs": [],
   "source": [
    "# print(boston.DESCR)\n",
    "df = pd.DataFrame(boston.data,columns=boston.feature_names)\n",
    "df['Target'] = boston.target\n",
    "df\n",
    "x = df.drop('Target',axis = 1)\n",
    "y = df['Target']\n",
    "x_train, x_test, y_train, y_test = train_test_split(x,y,test_size = 0.25, random_state=1)"
   ]
  },
  {
   "cell_type": "markdown",
   "metadata": {
    "id": "annual-circulation"
   },
   "source": [
    "## 1. Linear Regression"
   ]
  },
  {
   "cell_type": "code",
   "execution_count": null,
   "metadata": {
    "id": "classical-dubai",
    "outputId": "6538d310-7c8e-4fea-b824-8dedb2d7560b"
   },
   "outputs": [
    {
     "name": "stdout",
     "output_type": "stream",
     "text": [
      "Testing data MSE 21.897765396049415\n"
     ]
    }
   ],
   "source": [
    "# Test Data Accuracy\n",
    "lr_model = LinearRegression()\n",
    "lr_model.fit(x_train, y_train)\n",
    "y_pred = lr_model.predict(x_test)\n",
    "mse = mean_squared_error(y_test,y_pred)\n",
    "print(\"Testing data MSE\",mse)"
   ]
  },
  {
   "cell_type": "code",
   "execution_count": null,
   "metadata": {
    "id": "mysterious-burlington",
    "outputId": "8c9ac983-8dcd-4e0b-c529-7fe5d1820ee7"
   },
   "outputs": [
    {
     "name": "stdout",
     "output_type": "stream",
     "text": [
      "Testing data MSE 22.477983821877896\n"
     ]
    }
   ],
   "source": [
    "# Train Data accuracy\n",
    "y_pred_train = lr_model.predict(x_train)\n",
    "mse = mean_squared_error(y_train,y_pred_train)\n",
    "print(\"Testing data MSE\",mse)"
   ]
  },
  {
   "cell_type": "markdown",
   "metadata": {
    "id": "distant-disabled"
   },
   "source": [
    "## 2. Ridge Regression"
   ]
  },
  {
   "cell_type": "code",
   "execution_count": null,
   "metadata": {
    "id": "outside-active",
    "outputId": "9ff216a4-53af-4e76-fa1b-002627c85dda"
   },
   "outputs": [
    {
     "name": "stdout",
     "output_type": "stream",
     "text": [
      "Testing data MSE 21.779263563506444\n"
     ]
    }
   ],
   "source": [
    "# Test Data Accuracy\n",
    "ridge_model = Ridge(alpha=0.08)\n",
    "ridge_model.fit(x_train, y_train)\n",
    "y_pred = ridge_model.predict(x_test)\n",
    "mse = mean_squared_error(y_test,y_pred)\n",
    "print(\"Testing data MSE\",mse)"
   ]
  },
  {
   "cell_type": "code",
   "execution_count": null,
   "metadata": {
    "id": "outside-poverty",
    "outputId": "52abe788-16dd-4d6b-815c-cc00da87de16"
   },
   "outputs": [
    {
     "name": "stdout",
     "output_type": "stream",
     "text": [
      "Testing data MSE 22.7749342144287\n"
     ]
    }
   ],
   "source": [
    "# Train Data accuracy\n",
    "y_pred_train = ridge_model.predict(x_train)\n",
    "mse = mean_squared_error(y_train,y_pred_train)\n",
    "print(\"Testing data MSE\",mse)"
   ]
  },
  {
   "cell_type": "markdown",
   "metadata": {
    "id": "involved-ridge"
   },
   "source": [
    "## 3. Lasso Regression"
   ]
  },
  {
   "cell_type": "code",
   "execution_count": null,
   "metadata": {
    "id": "false-uniform",
    "outputId": "d7d62c37-f52b-4f06-b1e5-7526eb3de90d"
   },
   "outputs": [
    {
     "name": "stdout",
     "output_type": "stream",
     "text": [
      "Testing data MSE 21.58324769373558\n"
     ]
    }
   ],
   "source": [
    "# Test Data Accuracy\n",
    "lasso_model = Lasso(alpha=0.02)  # hyperparameter of Lasso Regression\n",
    "lasso_model.fit(x_train, y_train)\n",
    "y_pred = lasso_model.predict(x_test)\n",
    "mse = mean_squared_error(y_test,y_pred)\n",
    "print(\"Testing data MSE\",mse)"
   ]
  },
  {
   "cell_type": "code",
   "execution_count": null,
   "metadata": {
    "id": "extreme-signal",
    "outputId": "fe0d1247-de19-4567-c177-f40a5d8402d3"
   },
   "outputs": [
    {
     "name": "stdout",
     "output_type": "stream",
     "text": [
      "Testing data MSE 22.623285606954873\n"
     ]
    }
   ],
   "source": [
    "# Train Data accuracy\n",
    "y_pred_train = lasso_model.predict(x_train)\n",
    "mse = mean_squared_error(y_train,y_pred_train)\n",
    "print(\"Testing data MSE\",mse)"
   ]
  },
  {
   "cell_type": "code",
   "execution_count": null,
   "metadata": {
    "id": "nuclear-binding"
   },
   "outputs": [],
   "source": [
    "a1 = np.arange(0.01,1,0.01)\n",
    "a2 = np.arange(1,50)\n",
    "alpha_array = np.append(a1,a2)"
   ]
  },
  {
   "cell_type": "code",
   "execution_count": null,
   "metadata": {
    "colab": {
     "base_uri": "https://localhost:8080/"
    },
    "executionInfo": {
     "elapsed": 403,
     "status": "ok",
     "timestamp": 1638353915749,
     "user": {
      "displayName": "MIHIR NAIK",
      "photoUrl": "https://lh3.googleusercontent.com/a-/AOh14GjhSt5198zlFRNIc6P0YtRPJIvk5YALAbQ6VHOvihg=s64",
      "userId": "00703627377896795034"
     },
     "user_tz": -330
    },
    "id": "2ckBhcpsf1zS",
    "outputId": "6bb28811-b21b-452e-95b6-e37fb1dd76d6"
   },
   "outputs": [
    {
     "data": {
      "text/plain": [
       "array([0.01, 0.02, 0.03, 0.04, 0.05, 0.06, 0.07, 0.08, 0.09, 0.1 , 0.11,\n",
       "       0.12, 0.13, 0.14, 0.15, 0.16, 0.17, 0.18, 0.19, 0.2 , 0.21, 0.22,\n",
       "       0.23, 0.24, 0.25, 0.26, 0.27, 0.28, 0.29, 0.3 , 0.31, 0.32, 0.33,\n",
       "       0.34, 0.35, 0.36, 0.37, 0.38, 0.39, 0.4 , 0.41, 0.42, 0.43, 0.44,\n",
       "       0.45, 0.46, 0.47, 0.48, 0.49, 0.5 , 0.51, 0.52, 0.53, 0.54, 0.55,\n",
       "       0.56, 0.57, 0.58, 0.59, 0.6 , 0.61, 0.62, 0.63, 0.64, 0.65, 0.66,\n",
       "       0.67, 0.68, 0.69, 0.7 , 0.71, 0.72, 0.73, 0.74, 0.75, 0.76, 0.77,\n",
       "       0.78, 0.79, 0.8 , 0.81, 0.82, 0.83, 0.84, 0.85, 0.86, 0.87, 0.88,\n",
       "       0.89, 0.9 , 0.91, 0.92, 0.93, 0.94, 0.95, 0.96, 0.97, 0.98, 0.99])"
      ]
     },
     "execution_count": 8,
     "metadata": {},
     "output_type": "execute_result"
    }
   ],
   "source": [
    "a1"
   ]
  },
  {
   "cell_type": "code",
   "execution_count": null,
   "metadata": {
    "colab": {
     "base_uri": "https://localhost:8080/"
    },
    "executionInfo": {
     "elapsed": 5,
     "status": "ok",
     "timestamp": 1638353916088,
     "user": {
      "displayName": "MIHIR NAIK",
      "photoUrl": "https://lh3.googleusercontent.com/a-/AOh14GjhSt5198zlFRNIc6P0YtRPJIvk5YALAbQ6VHOvihg=s64",
      "userId": "00703627377896795034"
     },
     "user_tz": -330
    },
    "id": "6_oVU6nYf3QD",
    "outputId": "083c1c78-ab00-4759-acc4-32494875ef0b"
   },
   "outputs": [
    {
     "data": {
      "text/plain": [
       "array([ 1,  2,  3,  4,  5,  6,  7,  8,  9, 10, 11, 12, 13, 14, 15, 16, 17,\n",
       "       18, 19, 20, 21, 22, 23, 24, 25, 26, 27, 28, 29, 30, 31, 32, 33, 34,\n",
       "       35, 36, 37, 38, 39, 40, 41, 42, 43, 44, 45, 46, 47, 48, 49])"
      ]
     },
     "execution_count": 9,
     "metadata": {},
     "output_type": "execute_result"
    }
   ],
   "source": [
    "a2"
   ]
  },
  {
   "cell_type": "markdown",
   "metadata": {
    "id": "spiritual-blood"
   },
   "source": [
    "# Hyperparameter Tuning"
   ]
  },
  {
   "cell_type": "code",
   "execution_count": null,
   "metadata": {
    "id": "general-sussex"
   },
   "outputs": [],
   "source": [
    "To find best paramters for Machine Learning Models\n",
    "1. GridSearchCV\n",
    "2. RandomizedSearchCV"
   ]
  },
  {
   "cell_type": "code",
   "execution_count": null,
   "metadata": {
    "id": "boring-functionality",
    "outputId": "14195a17-c5dc-4cad-c816-eb580e8296a4"
   },
   "outputs": [
    {
     "data": {
      "text/plain": [
       "Lasso(alpha=0.01)"
      ]
     },
     "execution_count": 47,
     "metadata": {},
     "output_type": "execute_result"
    }
   ],
   "source": [
    "lasso_model = Lasso()\n",
    "param_grid = {'alpha':alpha_array}\n",
    "gscv_lasso_model = GridSearchCV(lasso_model, param_grid, cv = 5)\n",
    "# gscv_lasso_model\n",
    "gscv_lasso_model.fit(x_train,y_train)\n",
    "gscv_lasso_model.best_estimator_"
   ]
  },
  {
   "cell_type": "code",
   "execution_count": null,
   "metadata": {
    "id": "stainless-brass",
    "outputId": "f36b6c8f-73b9-4256-86f0-cb6243dbd12b"
   },
   "outputs": [
    {
     "data": {
      "text/plain": [
       "Ridge(alpha=0.08)"
      ]
     },
     "execution_count": 48,
     "metadata": {},
     "output_type": "execute_result"
    }
   ],
   "source": [
    "ridge_model = Ridge()\n",
    "param_grid = {'alpha':alpha_array}\n",
    "gscv_lasso_model = GridSearchCV(ridge_model, param_grid, cv = 5)\n",
    "# gscv_lasso_model\n",
    "gscv_lasso_model.fit(x_train,y_train)\n",
    "gscv_lasso_model.best_estimator_"
   ]
  },
  {
   "cell_type": "code",
   "execution_count": null,
   "metadata": {
    "id": "blessed-checklist"
   },
   "outputs": [],
   "source": [
    "a1 = [2,3,4,5,6,7,8,9]  # 8\n",
    "b1 = [10,20,30,40,50,60] # 6\n",
    "All possible Combinations >> 48\n",
    "\n",
    "a1 = 2, b1 = 10  >> 81 %\n",
    "a1 = 2, b1 = 20  >> 80 %\n",
    "\n",
    "a1 = 6, b1 = 20  >> 90%"
   ]
  }
 ],
 "metadata": {
  "colab": {
   "name": "Logistic Regression.ipynb",
   "provenance": []
  },
  "kernelspec": {
   "display_name": "Python 3",
   "language": "python",
   "name": "python3"
  },
  "language_info": {
   "codemirror_mode": {
    "name": "ipython",
    "version": 3
   },
   "file_extension": ".py",
   "mimetype": "text/x-python",
   "name": "python",
   "nbconvert_exporter": "python",
   "pygments_lexer": "ipython3",
   "version": "3.7.3"
  }
 },
 "nbformat": 4,
 "nbformat_minor": 5
}
