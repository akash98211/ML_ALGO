{
 "cells": [
  {
   "cell_type": "code",
   "execution_count": null,
   "id": "substantial-affair",
   "metadata": {
    "id": "substantial-affair"
   },
   "outputs": [],
   "source": [
    "# AUC-ROC"
   ]
  },
  {
   "cell_type": "markdown",
   "id": "greater-frost",
   "metadata": {
    "id": "greater-frost"
   },
   "source": [
    "# Underfitting and Overfitting"
   ]
  },
  {
   "cell_type": "code",
   "execution_count": null,
   "id": "vietnamese-insulation",
   "metadata": {
    "id": "vietnamese-insulation"
   },
   "outputs": [],
   "source": [
    "Underfitting:\n",
    "    "
   ]
  },
  {
   "cell_type": "markdown",
   "id": "little-rubber",
   "metadata": {
    "id": "little-rubber"
   },
   "source": [
    "# Bias and Variance"
   ]
  },
  {
   "cell_type": "code",
   "execution_count": null,
   "id": "subsequent-proceeding",
   "metadata": {
    "id": "subsequent-proceeding"
   },
   "outputs": [],
   "source": [
    "# Underfitting\n",
    "Training Accuracy >>  Low >> \n",
    "Testing Accuracy >> Low >>\n",
    "    \n",
    "# Overfitting\n",
    "Training Accuracy >>  High >> \n",
    "Testing Accuracy >> Low >>\n",
    "    \n",
    "# Best Model\n",
    "Training Accuracy >>  High >> \n",
    "Testing Accuracy >> High >>\n",
    "    \n",
    "Bias: \n",
    "    High Bias: Not capturing training data >> Training accuracy >> Low\n",
    "    Low Bias: Able to capture Training data >> Training accuracy >> High\n",
    "        \n",
    "Variance:\n",
    "    The difference in fits(accuracy) between datasets is called variance\n",
    "    High Variance :\n",
    "        Case1:\n",
    "        Training Accuracy : High >> 97%\n",
    "        Testing Accuracy : Low   >> 65%\n",
    "            \n",
    "        Training Accuracy : Low >> 70%\n",
    "        Testing Accuracy : High   >> 90%\n",
    "            \n",
    "    Low Varaince:\n",
    "        Training Accuracy : High >> 95%\n",
    "        Testing Accuracy : High   >> 94%"
   ]
  },
  {
   "cell_type": "code",
   "execution_count": null,
   "id": "urban-stewart",
   "metadata": {
    "id": "urban-stewart"
   },
   "outputs": [],
   "source": [
    "Overfitting: Overfitted Model\n",
    "    High Training Accuracy and Low Testing Accuracy\n",
    "    \n",
    "    Low Bias and High Variance\n",
    "    \n",
    "Underfitting: Underfitted Model\n",
    "    Low Training Accuracy and Low Testing Accuracy\n",
    "    \n",
    "    High Bias and Low Variance\n",
    "    \n",
    "Best Model:\n",
    "    High Training Accuracy and High Testing Accuracy\n",
    "    Low Bias and Low Variance"
   ]
  },
  {
   "cell_type": "markdown",
   "id": "public-hopkins",
   "metadata": {
    "id": "public-hopkins"
   },
   "source": [
    "# How to avoid Underftting"
   ]
  },
  {
   "cell_type": "code",
   "execution_count": null,
   "id": "starting-maple",
   "metadata": {
    "id": "starting-maple"
   },
   "outputs": [],
   "source": [
    "Low Training Accuracy and Low Testing Accuracy\n",
    "High Bias and Low Variance\n",
    "\n",
    "\n",
    "1. Add more parameters (10 >> 13):\n",
    "    Making new variables from existing variable\n",
    "    \n",
    "2. Use Correlated Features(R value)\n",
    "3. Remove Outliers\n",
    "4. Increase Data Size (Not effective )\n",
    "5. Handle Missing values(mean,median,etc)"
   ]
  },
  {
   "cell_type": "markdown",
   "id": "accessory-cotton",
   "metadata": {
    "id": "accessory-cotton"
   },
   "source": [
    "# How to Avoid Overfitting"
   ]
  },
  {
   "cell_type": "code",
   "execution_count": null,
   "id": "hungry-scheduling",
   "metadata": {
    "id": "hungry-scheduling"
   },
   "outputs": [],
   "source": [
    "High Training Accuracy and Low Testing Accuracy\n",
    "    \n",
    "Low Bias and High Variance\n",
    "\n",
    "1. Remove Feature(15 >> 10)\n",
    "2. Use hyperparameter Tuning(DT algorithm)\n",
    "3. Pruning(Cutting tree branches)\n",
    "4. Remove Outliers\n",
    "5. Ensembling(Bagging or Boosting)\n",
    "6. Cross Validation Score\n",
    "7. Regularization"
   ]
  },
  {
   "cell_type": "code",
   "execution_count": null,
   "id": "convinced-airplane",
   "metadata": {
    "id": "convinced-airplane"
   },
   "outputs": [],
   "source": []
  }
 ],
 "metadata": {
  "colab": {
   "name": "Underfitting and Overfitting.ipynb",
   "provenance": []
  },
  "kernelspec": {
   "display_name": "Python 3 (ipykernel)",
   "language": "python",
   "name": "python3"
  },
  "language_info": {
   "codemirror_mode": {
    "name": "ipython",
    "version": 3
   },
   "file_extension": ".py",
   "mimetype": "text/x-python",
   "name": "python",
   "nbconvert_exporter": "python",
   "pygments_lexer": "ipython3",
   "version": "3.9.1"
  }
 },
 "nbformat": 4,
 "nbformat_minor": 5
}
