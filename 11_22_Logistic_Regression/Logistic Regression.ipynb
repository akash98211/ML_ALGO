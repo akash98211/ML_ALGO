{
 "cells": [
  {
   "cell_type": "markdown",
   "metadata": {},
   "source": [
    "# Logistic Regression"
   ]
  },
  {
   "cell_type": "raw",
   "metadata": {},
   "source": [
    "It is a supervised Machine Learning Classification Algorithm which is used to predict the probabilities of Target Variable\n",
    "\n",
    "\n",
    "Target Variable >> Discrete/Categorical\n",
    "\n",
    "Binary Classification\n",
    "True/False\n",
    "Yes/No\n",
    "Approved/Declined.\n",
    "\n",
    "\n",
    "Multiclass Classification:\n",
    "High - Medium - Low \n",
    "One Vs Rest (OVR)\n",
    "One Vs All \n",
    "\n",
    "High Vs Medium and Low\n",
    "Medium Vs High and Low\n",
    "Low Vs High and Medium"
   ]
  },
  {
   "cell_type": "code",
   "execution_count": null,
   "metadata": {},
   "outputs": [],
   "source": [
    "LL = -log(P)  >> Ya = 1\n",
    "LL = -log(1-P) >> Ya = 0"
   ]
  },
  {
   "cell_type": "code",
   "execution_count": null,
   "metadata": {},
   "outputs": [],
   "source": [
    "Case1:  # Correctly classified\n",
    "    Ya = 1\n",
    "    P = 0.93\n",
    "    \n",
    "    LL = -log(0.93)  = 0.07\n",
    "    \n",
    "Case2: InCorrectly classified\n",
    "    Ya = 1\n",
    "    P = 0.2\n",
    "    \n",
    "    LL = -log(0.2)  = 1.60\n",
    "   \n",
    "Case3: Correctly classified\n",
    "    Ya = 0\n",
    "    P = 0.1\n",
    "    \n",
    "    LL = -log(1-0.1)  = 0.105\n",
    "    \n",
    "Case4: InCorrectly classified\n",
    "    Ya = 0\n",
    "    P = 0.7\n",
    "    \n",
    "    LL = -log(1-0.7)  = 1.203"
   ]
  },
  {
   "cell_type": "code",
   "execution_count": 1,
   "metadata": {},
   "outputs": [],
   "source": [
    "import numpy as np"
   ]
  },
  {
   "cell_type": "code",
   "execution_count": 3,
   "metadata": {},
   "outputs": [
    {
     "data": {
      "text/plain": [
       "0.07257069283483537"
      ]
     },
     "execution_count": 3,
     "metadata": {},
     "output_type": "execute_result"
    }
   ],
   "source": [
    "-np.log(0.93)"
   ]
  },
  {
   "cell_type": "code",
   "execution_count": 5,
   "metadata": {},
   "outputs": [
    {
     "data": {
      "text/plain": [
       "1.6094379124341003"
      ]
     },
     "execution_count": 5,
     "metadata": {},
     "output_type": "execute_result"
    }
   ],
   "source": [
    "-np.log(0.2)"
   ]
  },
  {
   "cell_type": "code",
   "execution_count": 7,
   "metadata": {},
   "outputs": [
    {
     "data": {
      "text/plain": [
       "0.10536051565782628"
      ]
     },
     "execution_count": 7,
     "metadata": {},
     "output_type": "execute_result"
    }
   ],
   "source": [
    "-np.log(0.9)"
   ]
  },
  {
   "cell_type": "code",
   "execution_count": 8,
   "metadata": {},
   "outputs": [
    {
     "data": {
      "text/plain": [
       "1.2039728043259361"
      ]
     },
     "execution_count": 8,
     "metadata": {},
     "output_type": "execute_result"
    }
   ],
   "source": [
    "-np.log(0.3)"
   ]
  },
  {
   "cell_type": "code",
   "execution_count": 9,
   "metadata": {},
   "outputs": [
    {
     "name": "stdout",
     "output_type": "stream",
     "text": [
      "LogLoss Value is  0.7447250000000001\n"
     ]
    }
   ],
   "source": [
    "LL = (0.07 + 1.6 + 0.105 + 1.2039)/4\n",
    "print('LogLoss Value is ',LL)"
   ]
  }
 ],
 "metadata": {
  "kernelspec": {
   "display_name": "Python 3",
   "language": "python",
   "name": "python3"
  },
  "language_info": {
   "codemirror_mode": {
    "name": "ipython",
    "version": 3
   },
   "file_extension": ".py",
   "mimetype": "text/x-python",
   "name": "python",
   "nbconvert_exporter": "python",
   "pygments_lexer": "ipython3",
   "version": "3.7.3"
  }
 },
 "nbformat": 4,
 "nbformat_minor": 5
}
