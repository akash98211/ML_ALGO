{
 "cells": [
  {
   "cell_type": "code",
   "execution_count": null,
   "metadata": {},
   "outputs": [],
   "source": [
    "Ensemble Methods:\n",
    "    1. Bagging : >> Parallel Approach\n",
    "        Random Forest\n",
    "        \n",
    "    2. Boosting: >> Sequnetial Approach\n",
    "        1. AdaBoost \n",
    "        2. Gradient Boost\n",
    "        3. XG Boost"
   ]
  },
  {
   "cell_type": "markdown",
   "metadata": {},
   "source": [
    "# AdaBoost"
   ]
  },
  {
   "cell_type": "code",
   "execution_count": null,
   "metadata": {},
   "outputs": [],
   "source": [
    "Adaptive Boosting\n",
    "\n",
    "AdaBoost >> Forest of Stumps\n",
    "Stumps >> A Decision Tree with just one root node and two leaf node, called as stumps\n",
    "\n",
    "Converting weak learners into strong learner\n",
    "Converting weak classifiers into strong classifiers\n"
   ]
  },
  {
   "cell_type": "code",
   "execution_count": null,
   "metadata": {},
   "outputs": [],
   "source": [
    "X1 >> Chest Pain\n",
    "X2 >> Blocked Arteries\n",
    "X3 >> Hgt\n",
    "SW >> Sample Weight\n",
    "\n",
    "RowNum  X1  X2  X3    HD    SW         NSW      Normalized Wt   Buckets\n",
    "1       Y   Y   200   Y     1/8        0.047      0.07        0.00 to 0.07\n",
    "2       N   Y   180   Y     1/8        0.047      0.07        0.07 to 0.14\n",
    "3       Y   N   210   Y     1/8        0.047      0.07        0.14 to 0.21\n",
    "4       Y   Y   167   Y     1/8(IC)    0.33       0.50        0.21 to 0.71\n",
    "5       N   Y   155   N     1/8        0.047      0.07        0.71 to 0.78\n",
    "6       N   Y   135   N     1/8        0.047      0.07        0.78 to 0.85\n",
    "7       Y   N   168   N     1/8        0.047      0.07        0.85 to 0.92\n",
    "8       Y   Y   172   N     1/8        0.047      0.07        0.92 to 1.00\n",
    "\n",
    "CP >> 5Y and 3N\n",
    "\n",
    "X3 > 176 \n",
    "\n",
    "True\n",
    "200  Y\n",
    "180  Y\n",
    "210  Y\n",
    "\n",
    "False\n",
    "167 Y\n",
    "155 N\n",
    "135 N\n",
    "168 N\n",
    "172 N\n",
    "\n",
    "1       Y   Y   200   Y     1/8        0.047      0.07        0.00 to 0.07\n",
    "2       N   Y   180   Y     1/8        0.047      0.07        0.07 to 0.14\n",
    "3       Y   N   210   Y     1/8        0.047      0.07        0.14 to 0.21\n",
    "4       Y   Y   167   Y     1/8(IC)    0.33       0.50        0.21 to 0.71\n",
    "5       N   Y   155   N     1/8        0.047      0.07        0.71 to 0.78\n",
    "6       N   Y   135   N     1/8        0.047      0.07        0.78 to 0.85\n",
    "7       Y   N   168   N     1/8        0.047      0.07        0.85 to 0.92\n",
    "8       Y   Y   172   N     1/8        0.047      0.07        0.92 to 1.00"
   ]
  },
  {
   "cell_type": "markdown",
   "metadata": {},
   "source": [
    "#### Create Dataset for model2"
   ]
  },
  {
   "cell_type": "code",
   "execution_count": null,
   "metadata": {},
   "outputs": [],
   "source": [
    "Random Weights:\n",
    "    \n",
    "RW      RowNum  X1  X2  X3    HD\n",
    "0.54     4      Y   Y   167   Y \n",
    "0.15     3      Y   N   210   Y\n",
    "0.92     8      Y   Y   172   N \n",
    "0.88     7      Y   N   168   N\n",
    "0.65     4      Y   Y   167   Y \n",
    "0.43     4      Y   Y   167   Y \n",
    "0.23     4      Y   Y   167   Y \n",
    "0.05     1      Y   Y   200   Y "
   ]
  },
  {
   "cell_type": "code",
   "execution_count": null,
   "metadata": {},
   "outputs": [],
   "source": [
    "Total Error(TE) : (1/8)\n",
    "Performance of Model: 0.5 * log ((1-TE)/TE)\n",
    "    "
   ]
  },
  {
   "cell_type": "code",
   "execution_count": null,
   "metadata": {},
   "outputs": [],
   "source": [
    "Sample Weight = 1/(Number of Rows)"
   ]
  },
  {
   "cell_type": "code",
   "execution_count": 3,
   "metadata": {},
   "outputs": [
    {
     "data": {
      "text/plain": [
       "0.9729550745276566"
      ]
     },
     "execution_count": 3,
     "metadata": {},
     "output_type": "execute_result"
    }
   ],
   "source": [
    "import numpy as np\n",
    "0.5 * np.log(7)"
   ]
  },
  {
   "cell_type": "code",
   "execution_count": 5,
   "metadata": {},
   "outputs": [
    {
     "data": {
      "text/plain": [
       "0.3307189138830551"
      ]
     },
     "execution_count": 5,
     "metadata": {},
     "output_type": "execute_result"
    }
   ],
   "source": [
    "NSW_misclassified = (1/8) * np.exp(0.9729550745276)\n",
    "NSW_misclassified"
   ]
  },
  {
   "cell_type": "code",
   "execution_count": 7,
   "metadata": {},
   "outputs": [
    {
     "data": {
      "text/plain": [
       "0.04724555912615608"
      ]
     },
     "execution_count": 7,
     "metadata": {},
     "output_type": "execute_result"
    }
   ],
   "source": [
    "NSW_correct_classified = (1/8) * np.exp(-0.9729550745276)\n",
    "NSW_correct_classified"
   ]
  },
  {
   "cell_type": "code",
   "execution_count": 9,
   "metadata": {},
   "outputs": [
    {
     "data": {
      "text/plain": [
       "0.659"
      ]
     },
     "execution_count": 9,
     "metadata": {},
     "output_type": "execute_result"
    }
   ],
   "source": [
    "0.047 * 7 + 0.33"
   ]
  },
  {
   "cell_type": "markdown",
   "metadata": {},
   "source": [
    "##### Normalize sample weights"
   ]
  },
  {
   "cell_type": "code",
   "execution_count": 11,
   "metadata": {},
   "outputs": [
    {
     "data": {
      "text/plain": [
       "0.07132018209408193"
      ]
     },
     "execution_count": 11,
     "metadata": {},
     "output_type": "execute_result"
    }
   ],
   "source": [
    "Normalized_Sample_Wt = Weight / Sum of all wgts\n",
    "\n",
    "0.047 / 0.659"
   ]
  },
  {
   "cell_type": "code",
   "execution_count": 13,
   "metadata": {},
   "outputs": [
    {
     "data": {
      "text/plain": [
       "0.5007587253414264"
      ]
     },
     "execution_count": 13,
     "metadata": {},
     "output_type": "execute_result"
    }
   ],
   "source": [
    "0.33 / 0.659"
   ]
  },
  {
   "cell_type": "code",
   "execution_count": 14,
   "metadata": {},
   "outputs": [
    {
     "data": {
      "text/plain": [
       "0.9992399999999999"
      ]
     },
     "execution_count": 14,
     "metadata": {},
     "output_type": "execute_result"
    }
   ],
   "source": [
    "0.50 + 0.071320 * 7 "
   ]
  }
 ],
 "metadata": {
  "kernelspec": {
   "display_name": "Python 3",
   "language": "python",
   "name": "python3"
  },
  "language_info": {
   "codemirror_mode": {
    "name": "ipython",
    "version": 3
   },
   "file_extension": ".py",
   "mimetype": "text/x-python",
   "name": "python",
   "nbconvert_exporter": "python",
   "pygments_lexer": "ipython3",
   "version": "3.7.3"
  }
 },
 "nbformat": 4,
 "nbformat_minor": 5
}
