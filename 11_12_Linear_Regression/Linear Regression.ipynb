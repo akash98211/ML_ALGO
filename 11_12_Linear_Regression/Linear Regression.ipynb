{
 "cells": [
  {
   "cell_type": "code",
   "execution_count": null,
   "metadata": {
    "id": "incorporate-significance"
   },
   "outputs": [],
   "source": [
    "# Linear Regression"
   ]
  },
  {
   "cell_type": "code",
   "execution_count": null,
   "metadata": {
    "id": "comfortable-pattern"
   },
   "outputs": [],
   "source": []
  },
  {
   "cell_type": "markdown",
   "metadata": {
    "id": "violent-latvia"
   },
   "source": [
    "# Gradient Descent Algorithm:"
   ]
  },
  {
   "cell_type": "code",
   "execution_count": null,
   "metadata": {
    "id": "instructional-passage"
   },
   "outputs": [],
   "source": [
    "1. Used to find to best m and c values or best fit line\n",
    "2. Used to reduce cost Function(MSE)\n",
    "3. GD will try infinite m and c values\n",
    "\n",
    "\n",
    "1. Is use partial derivative\n",
    "\n",
    "MSE >> ((Ya - Yp)^2)/N\n",
    "\n",
    "y = mx + c\n",
    "y = Wx + b\n",
    "y = w1x + c\n",
    "\n",
    "Best Fit Line:\n",
    "1. Lowest Mean squared Error\n",
    "2. It passes through maximum number of data points\n",
    "3. Best m and c values\n",
    "4. Algorithm finds one BFL from infinite number of possibilities\n"
   ]
  },
  {
   "cell_type": "markdown",
   "metadata": {
    "id": "republican-hunger"
   },
   "source": [
    "### Residual"
   ]
  },
  {
   "cell_type": "code",
   "execution_count": null,
   "metadata": {
    "id": "corresponding-theory"
   },
   "outputs": [],
   "source": [
    "Residual >> error\n",
    "\n",
    "Error between actual values and predicted values\n",
    "Residual = (Yactual - Ypred)\n",
    "\n",
    "Positive >> If data points are above the regression line\n",
    "Negative >> If data points are below the regression line\n",
    "Zero     >> If data points are on the regression line\n",
    "\n"
   ]
  },
  {
   "cell_type": "code",
   "execution_count": null,
   "metadata": {
    "id": "young-tomato"
   },
   "outputs": [],
   "source": [
    "Standard Deviation:\n",
    "    It describes the spread of values\n",
    "    \n",
    "Low std >> Most of values are close to mean value\n",
    "High std >> Data points are spreadout over wider range"
   ]
  },
  {
   "cell_type": "code",
   "execution_count": null,
   "metadata": {
    "id": "numerous-creation"
   },
   "outputs": [],
   "source": [
    "x1 = [20,30,21,25,26,28,22]"
   ]
  },
  {
   "cell_type": "code",
   "execution_count": null,
   "metadata": {
    "id": "fifth-moisture"
   },
   "outputs": [],
   "source": [
    "import numpy as np"
   ]
  },
  {
   "cell_type": "code",
   "execution_count": null,
   "metadata": {
    "id": "studied-arrest",
    "outputId": "fb950cd1-a6ed-4c47-9a01-6c57842c735d"
   },
   "outputs": [
    {
     "data": {
      "text/plain": [
       "24.571428571428573"
      ]
     },
     "execution_count": 5,
     "metadata": {},
     "output_type": "execute_result"
    }
   ],
   "source": [
    "np.mean(x1)"
   ]
  },
  {
   "cell_type": "code",
   "execution_count": null,
   "metadata": {
    "id": "black-extreme",
    "outputId": "bf40b9a5-d4ab-45dc-9ab6-58f5af89b6b1"
   },
   "outputs": [
    {
     "data": {
      "text/plain": [
       "3.4582052676886295"
      ]
     },
     "execution_count": 6,
     "metadata": {},
     "output_type": "execute_result"
    }
   ],
   "source": [
    "np.std(x1)"
   ]
  },
  {
   "cell_type": "code",
   "execution_count": null,
   "metadata": {
    "id": "flush-industry"
   },
   "outputs": [],
   "source": [
    "21 to 28"
   ]
  },
  {
   "cell_type": "code",
   "execution_count": null,
   "metadata": {
    "id": "selected-court"
   },
   "outputs": [],
   "source": [
    "x1 = [20,30,21,25,26,28,22,90,95]"
   ]
  },
  {
   "cell_type": "code",
   "execution_count": null,
   "metadata": {
    "id": "mature-legend",
    "outputId": "e741a2f1-842d-4515-eb05-2e249ec8a5c7"
   },
   "outputs": [
    {
     "data": {
      "text/plain": [
       "39.666666666666664"
      ]
     },
     "execution_count": 10,
     "metadata": {},
     "output_type": "execute_result"
    }
   ],
   "source": [
    "np.mean(x1)"
   ]
  },
  {
   "cell_type": "code",
   "execution_count": null,
   "metadata": {
    "id": "educated-papua",
    "outputId": "aafd84d9-8354-4ace-aa35-d37b3bb04f9b"
   },
   "outputs": [
    {
     "data": {
      "text/plain": [
       "28.429249413627193"
      ]
     },
     "execution_count": 11,
     "metadata": {},
     "output_type": "execute_result"
    }
   ],
   "source": [
    "np.std(x1)"
   ]
  },
  {
   "cell_type": "code",
   "execution_count": null,
   "metadata": {
    "id": "confused-invention"
   },
   "outputs": [],
   "source": [
    "x1 = [-2,-1,+1,+2,+1,0,-1.5]"
   ]
  },
  {
   "cell_type": "code",
   "execution_count": null,
   "metadata": {
    "id": "eight-cutting",
    "outputId": "7e0cc707-f5e8-4d59-a6d1-a526d758e467"
   },
   "outputs": [
    {
     "data": {
      "text/plain": [
       "-0.07142857142857142"
      ]
     },
     "execution_count": 16,
     "metadata": {},
     "output_type": "execute_result"
    }
   ],
   "source": [
    "np.mean(x1)"
   ]
  },
  {
   "cell_type": "code",
   "execution_count": null,
   "metadata": {
    "id": "meaning-rwanda",
    "outputId": "e781cd5e-7e58-4a63-8fd9-b9ee002c8eff"
   },
   "outputs": [
    {
     "data": {
      "text/plain": [
       "1.373956004405096"
      ]
     },
     "execution_count": 17,
     "metadata": {},
     "output_type": "execute_result"
    }
   ],
   "source": [
    "np.std(x1)"
   ]
  },
  {
   "cell_type": "markdown",
   "metadata": {
    "id": "closed-motion"
   },
   "source": [
    "# Evaluation of Linear Regression"
   ]
  },
  {
   "cell_type": "code",
   "execution_count": null,
   "metadata": {
    "id": "palestinian-class"
   },
   "outputs": [],
   "source": [
    "1. SSE(Sum of Squared Error) >> Residual Sum of Squares\n",
    "    sum(Ya - Yp)^2\n",
    "    SSE or RSS\n",
    "    squared diff between actual values(observed values) and predicted values\n",
    "    \n",
    "2. Sum of Squares due to Regression:\n",
    "    sum(Yp - Ymean)^2\n",
    "    Squared difference between predicted and mean of dependent variable\n",
    "    \n",
    "3. Total Error (SST):\n",
    "    sum(Yact - Ymean)^2\n",
    "    Squared difference between actual values and mean of dependent variable\n",
    "    \n",
    "# SST = SSE + SSR\n",
    "\n",
    "4. R2 Score: Coef. of determination\n",
    "    R2 = 1 - SSE(/SST)\n",
    "    \n",
    "    R2 >> +1 >> BEst value >> SSE == 0 >> All data points are on regression line\n",
    "    R2 >> 0  >> SSE == SST\n",
    "    R2 >> -ve >> SSE is greater than SST\n",
    "    SSE > SST\n",
    "    \n",
    "5. Adjusted R2 Score:"
   ]
  }
 ],
 "metadata": {
  "colab": {
   "name": "Linear Regression.ipynb",
   "provenance": []
  },
  "kernelspec": {
   "display_name": "Python 3",
   "language": "python",
   "name": "python3"
  },
  "language_info": {
   "codemirror_mode": {
    "name": "ipython",
    "version": 3
   },
   "file_extension": ".py",
   "mimetype": "text/x-python",
   "name": "python",
   "nbconvert_exporter": "python",
   "pygments_lexer": "ipython3",
   "version": "3.7.3"
  }
 },
 "nbformat": 4,
 "nbformat_minor": 5
}
